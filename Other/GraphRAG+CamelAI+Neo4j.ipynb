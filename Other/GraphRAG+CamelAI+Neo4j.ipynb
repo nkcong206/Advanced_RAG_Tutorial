{
  "nbformat": 4,
  "nbformat_minor": 0,
  "metadata": {
    "colab": {
      "provenance": [],
      "include_colab_link": true
    },
    "kernelspec": {
      "name": "python3",
      "display_name": "Python 3"
    },
    "language_info": {
      "name": "python"
    }
  },
  "cells": [
    {
      "cell_type": "markdown",
      "metadata": {
        "id": "view-in-github",
        "colab_type": "text"
      },
      "source": [
        "<a href=\"https://colab.research.google.com/github/nkcong206/RAG_tutorial/blob/main/GraphRAG%2BCamelAI%2BNeo4j.ipynb\" target=\"_parent\"><img src=\"https://colab.research.google.com/assets/colab-badge.svg\" alt=\"Open In Colab\"/></a>"
      ]
    },
    {
      "cell_type": "markdown",
      "source": [
        "![](https://storage.googleapis.com/mle-courses-prod/users/61b6fa1ba83a7e37c8309756/private-files/d4d15b20-4fc0-11ef-bf69-71eafa46c86b-RAGGraph___Neo4J___CamelAI.png)"
      ],
      "metadata": {
        "id": "t6FO2MnAQbVn"
      }
    },
    {
      "cell_type": "markdown",
      "source": [
        "Cài đặt thư viện"
      ],
      "metadata": {
        "id": "_6UF7BjIPXV0"
      }
    },
    {
      "cell_type": "code",
      "execution_count": null,
      "metadata": {
        "id": "lZz96YqT3YgY"
      },
      "outputs": [],
      "source": [
        "!pip install -q camel-ai[all]"
      ]
    },
    {
      "cell_type": "code",
      "source": [
        "from camel.models import ModelFactory\n",
        "from camel.types import ModelPlatformType, ModelType\n",
        "from camel.configs import MistralConfig, OllamaConfig, ChatGPTConfig\n",
        "from camel.loaders import UnstructuredIO\n",
        "from camel.storages import Neo4jGraph\n",
        "from camel.retrievers import AutoRetriever\n",
        "from camel.embeddings import MistralEmbedding, OpenAIEmbedding\n",
        "from camel.types import StorageType, RoleType\n",
        "from camel.agents import ChatAgent, KnowledgeGraphAgent\n",
        "from camel.messages import BaseMessage"
      ],
      "metadata": {
        "id": "eDsb2VSJ39zn"
      },
      "execution_count": null,
      "outputs": []
    },
    {
      "cell_type": "code",
      "source": [
        "import os\n",
        "from getpass import getpass\n",
        "from google.colab import userdata\n",
        "# Prompt for the API key securely\n",
        "os.environ[\"OPENAI_API_KEY\"] = userdata.get(\"open_ai_key\")"
      ],
      "metadata": {
        "id": "9D_tvrP54Eb7"
      },
      "execution_count": null,
      "outputs": []
    },
    {
      "cell_type": "markdown",
      "source": [
        "Kết nối tới Neo4J"
      ],
      "metadata": {
        "id": "vt5wvTVjPaYh"
      }
    },
    {
      "cell_type": "markdown",
      "source": [
        "Bạn hãy lấy URL, username và password của Neo4J [qua đây ](https://console.neo4j.io/)"
      ],
      "metadata": {
        "id": "LN1iKoqOPtQX"
      }
    },
    {
      "cell_type": "code",
      "source": [
        "# Set Neo4j instance\n",
        "n4j = Neo4jGraph(\n",
        "    url=\"<URL>\",\n",
        "    username=\"<USERNAME>\",\n",
        "    password=\"<PASSWORD>\",\n",
        ")"
      ],
      "metadata": {
        "id": "YtLccaqo4MPJ"
      },
      "execution_count": null,
      "outputs": []
    },
    {
      "cell_type": "code",
      "source": [
        "# Set up model\n",
        "gpt4 = ModelFactory.create(\n",
        "    model_platform=ModelPlatformType.OPENAI,\n",
        "    model_type=ModelType.GPT_4,\n",
        "    model_config_dict=ChatGPTConfig(temperature=0.2).__dict__,\n",
        ")"
      ],
      "metadata": {
        "id": "QQleLkzb5rQg"
      },
      "execution_count": null,
      "outputs": []
    },
    {
      "cell_type": "code",
      "source": [
        "# Set instance\n",
        "uio = UnstructuredIO()\n",
        "kg_agent = KnowledgeGraphAgent(model=gpt4)"
      ],
      "metadata": {
        "id": "Y9U9UOQW6FL_"
      },
      "execution_count": null,
      "outputs": []
    },
    {
      "cell_type": "code",
      "source": [
        "text_example = \"\"\"\n",
        "Hưng Đạo Vương Trần Quốc Tuấn là người đã trực tiếp chỉ huy quân đội đánh tan hai cuộc xâm lược của quân Nguyên–Mông năm 1285 và năm 1288. Ông được biết đến với những chiến công lẫy lừng, là một nhà quân sự tài ba với gia thế hiển hách. Đúng là người giỏi, người tài nên cái gì ông cũng dám làm, dám chịu. Đau khổ vì người con gái mình yêu thương phải lấy người khác làm chồng, ông đã tạo ra một phi vụ cướp dâu chấn động nhất lịch sử Việt Nam.\n",
        "\n",
        "\n",
        "Năm 1237, Trần Cảnh (Trần Thái Tông) lên ngôi đã lâu mà vẫn không có con nối dõi, lo sợ nhà Trần bị tuyệt hậu, Trần Thủ Độ đã gây sức ép phế Lý Chiêu Hoàng để ép Trần Cảnh kết hôn với chị dâu của mình là công chúa Thuận Thiên, tức là vợ của Trần Liễu - cha của Trần Quốc Tuấn. Trần Liễu tức giận, mang binh rửa hận nhưng thân già sức yếu nên việc bất thành, cuối cùng phải buông giáp quy hàng, bị giáng xuống làm An Sinh Vương, cho về an trú ở đất Yên Sinh. Khi ấy, Trần Quốc Tuấn mới 7 tuổi.\n",
        "\n",
        "Chị của Trần Cảnh là Thụy Bà công chúa vì thương cháu mình đang còn nhỏ phải rời kinh đô tới nơi xa, đã cầu xin vua để nhận nuôi Quốc Tuấn để khuây khỏa nỗi buồn khi chồng bà đã mất.\n",
        "\n",
        "Bà nhận nuôi Quốc Tuấn được 8 năm, cho ông học văn, học võ, lớn lên với các con em hoàng tộc cùng trang lứa. Cũng chính trong thời gian này, Trần Quốc Tuấn gặp gỡ, cùng trải qua thời niên thiếu của mình với Thiên Thành công chúa.\n",
        "\n",
        "Trong suốt những năm tháng học tập và sinh sống nơi cung cấm, tình cảm của công chúa và Trần Quốc Tuấn cứ lớn dần lên, quấn quýt không rời. Mối tình thanh mai trúc mã cứ thế nở rộ.\n",
        "\n",
        "Cứ tưởng đây là mối lương duyên trời ban, cho tới khi Thiên Thành tới tuổi gả chồng, vua Trần Thái Tông đã hạ chỉ gả nàng cho Trung Thành Vương, con trai của Nhân Đạo Vương, phá tan giấc mộng đôi lứa của hai người.\n",
        "\n",
        "Sách Đại Việt sử ký toàn thư ghi lại rằng ngày 15 tháng 2 năm 1251, vua mở hội lớn 7 ngày đêm, bày các tranh về lễ kết tóc và nhiều trò chơi cho người trong triều ngoài nội đến xem, ý muốn cho công chúa Thiên Thành làm lễ kết tóc với Trung Thành Vương. Trước đó, nhà vua cũng cho Thiên Thành công chúa về ở vương phủ cha của Trung Thành Vương để chờ ngày làm lễ ăn hỏi.\n",
        "\n",
        "Trong khi cả kinh thành đang tưng bừng với những trò chơi và lễ hội, ở vương phủ Trần Quốc Tuấn chỉ cần nghĩ đến việc ngày mai, người con gái mình yêu thương sẽ trở thành vợ người khác thì tâm tư của chàng càng đau đớn. Chàng trằn trọc suốt đêm không ngủ cuối cùng chàng đưa ra quyết định táo bạo đó chính là đột nhập vào phủ Nhân Đạo Vương, cướp vợ về.\n",
        "\n",
        "Nghĩ là làm, trong đêm tối, nhân lúc mọi người còn đang say mê với lễ hội, Trần Quốc Tuấn lẻn vào phủ Nhân Đạo Vương. Biết không thể theo vào bằng cửa chính, chàng đã tìm cách trèo tường, vượt qua hàng toán lính tuần tra, dò trong đêm đen và tìm được chính xác phòng công chúa.\n",
        "\n",
        "Trái tim đau khổ của Thiên Thành sống lại lần nữa khi thấy người tình trong mộng xuất hiện trước mặt mình. Khi ấy, cả phủ Nhân Đạo Vương vẫn đang say trong lễ hội, không ai biết, trong phòng công chúa, đôi uyên ương đã gặp lại nhau. Thế nhưng, sự liều lĩnh này của Trần Quốc Tuấn sẽ trở thành thảm án nếu sự vụ bị bại lộ. Và nếu như chuyện không bại lộ, thì hôm sau công chúa Thiên Thành phải kết hôn với con trai của Nhân Đạo Vương. Để tránh khỏi tai ương đó, Trần Quốc Tuấn đã đi tiếp một bước cờ cao minh, đó chính là dồn nhà vua vào thế sự đã rồi.\n",
        "\n",
        "Ngay sau khi đột nhập thành công vào phòng công chúa, việc đầu tiên Trần Quốc Tuấn làm là ra lệnh cho thị nữ của công chúa về báo cho Thụy Bà công chúa, mẹ nuôi của chàng, Sau khi nhận được tin báo, Thụy Bà công chúa vào cung ngay lập tức và than khóc với Thái Tông: \"Không ngờ Quốc Tuấn càn rỡ đang đêm lẻn vào chỗ của Thiên Thành. Nhân Đạo Vương đã bắt giữ hắn rồi, e sẽ giết hắn mất. Xin bệ hạ rủ lòng thương, sai người đến cứu\".\n",
        "\n",
        "Lời nói của Thụy Bà công chúa như sét đánh ngang tai nhà vua, Trần Thái Tông tức Cảnh lúc bấy giờ đã nhận đủ lễ vật của Nhân Đạo Vương, sao có thể để Trần Quốc Tuấn cả gan làm loạn như vậy? Thụy Bà công chúa tiếp tục kiên trì van xin. Cộng thêm với việc ông nghĩ rằng đó là huyết mạch của anh trai Trần Liễu, Thái Tông đã đã sai người vây phủ Nhân Đạo Vương, xông thẳng tới hoa viên vắng lặng, vào phòng công chúa Thiên Thành để áp giải, thực chất là hộ tống, Trần Quốc Tuấn ra ngoài một cách an toàn. Đến lúc đó, cả phủ Nhân Đạo Vương mới ngỡ ngàng nhận ra Trần Quốc Tuấn đã vào phủ \"tư thông\" với công chúa Thiên Thành.\n",
        "\n",
        "Việc công chúa \"tư thông\" với nam tử khác ngay trong phủ sắp cưới là điều không thể chấp nhận được. Hôm sau, Thụy Bà công chúa đã nhanh tay hỏi cưới công chúa Thiên Thành cho cháu trai mình, với sinh lễ là 10 mâm vàng sống và nói \"vì vội quá nên không sắm đủ lễ vật, mong hoàng thượng nhận cho\". Trước chuyện đã rồi, Trần Thái Tông đành xuống chiếu gả Thiên Thành công chúa cho Trần Quốc Tuấn và ngậm ngùi cắt 2.000 khoảnh ruộng tốt ở huyện Ứng Thiên để \"an ủi\" Nhân Đạo Vương.\n",
        "\n",
        "Cuối cùng Trần Quốc Tuấn chàng đã lấy được thanh mai trúc mã mà ông yêu bấy lâu. Hai vợ chồng chàng đã có một cuộc sống êm ấm, hạnh phúc, sinh được bốn trai, một gái. Bốn người con trai ai cũng không phụ danh tiếng người cha, đều là những danh tướng lẫy lừng nhà Trần. Người con gái út sau này trở thành Bảo Thánh Hoàng Hậu Trần Trinh, vợ vua Trần Nhân Tông, mẹ đẻ vua Trần Anh Tông.\n",
        "\n",
        "\n",
        "\"\"\""
      ],
      "metadata": {
        "id": "wxRS-2Wx6IzJ"
      },
      "execution_count": null,
      "outputs": []
    },
    {
      "cell_type": "markdown",
      "source": [
        "Tạo đồ thị"
      ],
      "metadata": {
        "id": "4iDdQroyPeKC"
      }
    },
    {
      "cell_type": "code",
      "source": [
        "# Create an element from given text\n",
        "element_example = uio.create_element_from_text(text=text_example)"
      ],
      "metadata": {
        "id": "5zat4zFW6X2O"
      },
      "execution_count": null,
      "outputs": []
    },
    {
      "cell_type": "code",
      "source": [
        "# Check graph element\n",
        "graph_elements = kg_agent.run(element_example, parse_graph_elements=True)\n",
        "print(graph_elements)"
      ],
      "metadata": {
        "colab": {
          "base_uri": "https://localhost:8080/"
        },
        "id": "Hfa9VSUB6y77",
        "outputId": "5e4f8276-071a-4b99-f100-c6aa911c8fdd"
      },
      "execution_count": null,
      "outputs": [
        {
          "output_type": "stream",
          "name": "stdout",
          "text": [
            "GraphElement(nodes=[Node(id='Hưng Đạo Vương Trần Quốc Tuấn', type='Person', properties={'source': 'agent_created'}), Node(id='quân Nguyên–Mông', type='Organization', properties={'source': 'agent_created'}), Node(id='Trần Cảnh', type='Person', properties={'source': 'agent_created'}), Node(id='Trần Thái Tông', type='Person', properties={'source': 'agent_created'}), Node(id='Lý Chiêu Hoàng', type='Person', properties={'source': 'agent_created'}), Node(id='công chúa Thuận Thiên', type='Person', properties={'source': 'agent_created'}), Node(id='Trần Liễu', type='Person', properties={'source': 'agent_created'}), Node(id='An Sinh Vương', type='Title', properties={'source': 'agent_created'}), Node(id='đất Yên Sinh', type='Location', properties={'source': 'agent_created'}), Node(id='Thụy Bà công chúa', type='Person', properties={'source': 'agent_created'}), Node(id='Thiên Thành công chúa', type='Person', properties={'source': 'agent_created'}), Node(id='Trung Thành Vương', type='Person', properties={'source': 'agent_created'}), Node(id='Nhân Đạo Vương', type='Person', properties={'source': 'agent_created'}), Node(id='vương phủ Trần Quốc Tuấn', type='Location', properties={'source': 'agent_created'}), Node(id='phủ Nhân Đạo Vương', type='Location', properties={'source': 'agent_created'}), Node(id='Bảo Thánh Hoàng Hậu Trần Trinh', type='Person', properties={'source': 'agent_created'}), Node(id='Trần Nhân Tông', type='Person', properties={'source': 'agent_created'}), Node(id='Trần Anh Tông', type='Person', properties={'source': 'agent_created'})], relationships=[Relationship(subj=Node(id='Hưng Đạo Vương Trần Quốc Tuấn', type='Person', properties={'source': 'agent_created'}), obj=Node(id='quân Nguyên–Mông', type='Organization', properties={'source': 'agent_created'}), type='Defeated', properties={'source': 'agent_created'}), Relationship(subj=Node(id='Trần Cảnh', type='Person', properties={'source': 'agent_created'}), obj=Node(id='Lý Chiêu Hoàng', type='Person', properties={'source': 'agent_created'}), type='Married', properties={'source': 'agent_created'}), Relationship(subj=Node(id='Trần Cảnh', type='Person', properties={'source': 'agent_created'}), obj=Node(id='công chúa Thuận Thiên', type='Person', properties={'source': 'agent_created'}), type='Married', properties={'source': 'agent_created'}), Relationship(subj=Node(id='Trần Liễu', type='Person', properties={'source': 'agent_created'}), obj=Node(id='An Sinh Vương', type='Title', properties={'source': 'agent_created'}), type='DemotedTo', properties={'source': 'agent_created'}), Relationship(subj=Node(id='Thụy Bà công chúa', type='Person', properties={'source': 'agent_created'}), obj=Node(id='Hưng Đạo Vương Trần Quốc Tuấn', type='Person', properties={'source': 'agent_created'}), type='Adopted', properties={'source': 'agent_created'}), Relationship(subj=Node(id='Hưng Đạo Vương Trần Quốc Tuấn', type='Person', properties={'source': 'agent_created'}), obj=Node(id='Thiên Thành công chúa', type='Person', properties={'source': 'agent_created'}), type='Loved', properties={'source': 'agent_created'}), Relationship(subj=Node(id='Thiên Thành công chúa', type='Person', properties={'source': 'agent_created'}), obj=Node(id='Trung Thành Vương', type='Person', properties={'source': 'agent_created'}), type='Engaged', properties={'source': 'agent_created'}), Relationship(subj=Node(id='Hưng Đạo Vương Trần Quốc Tuấn', type='Person', properties={'source': 'agent_created'}), obj=Node(id='phủ Nhân Đạo Vương', type='Location', properties={'source': 'agent_created'}), type='Infiltrated', properties={'source': 'agent_created'}), Relationship(subj=Node(id='Hưng Đạo Vương Trần Quốc Tuấn', type='Person', properties={'source': 'agent_created'}), obj=Node(id='Thiên Thành công chúa', type='Person', properties={'source': 'agent_created'}), type='Married', properties={'source': 'agent_created'}), Relationship(subj=Node(id='Bảo Thánh Hoàng Hậu Trần Trinh', type='Person', properties={'source': 'agent_created'}), obj=Node(id='Trần Nhân Tông', type='Person', properties={'source': 'agent_created'}), type='Married', properties={'source': 'agent_created'}), Relationship(subj=Node(id='Bảo Thánh Hoàng Hậu Trần Trinh', type='Person', properties={'source': 'agent_created'}), obj=Node(id='Trần Anh Tông', type='Person', properties={'source': 'agent_created'}), type='MotherOf', properties={'source': 'agent_created'})], source=<unstructured.documents.elements.Text object at 0x78cfe53fa6e0>)\n"
          ]
        }
      ]
    },
    {
      "cell_type": "markdown",
      "source": [
        "Thêm đồ thị vào Database"
      ],
      "metadata": {
        "id": "dE-DFyGwPfOl"
      }
    },
    {
      "cell_type": "code",
      "source": [
        "# Add the element to neo4j database\n",
        "n4j.add_graph_elements(graph_elements=[graph_elements])"
      ],
      "metadata": {
        "id": "GOkR80-467fl"
      },
      "execution_count": null,
      "outputs": []
    },
    {
      "cell_type": "code",
      "source": [
        "query=\"Mối quan hệ giữa Trần Cảnh và Lý Chiêu Hoàng là gì?\""
      ],
      "metadata": {
        "id": "xIcUNydV7K1L"
      },
      "execution_count": null,
      "outputs": []
    },
    {
      "cell_type": "code",
      "source": [
        "# Create an element from user query\n",
        "query_element = uio.create_element_from_text(text=query)\n",
        "\n",
        "# Let Knowledge Graph Agent extract node and relationship information from the qyery\n",
        "ans_element = kg_agent.run(query_element, parse_graph_elements=True)"
      ],
      "metadata": {
        "id": "PzICHvMw7Vom"
      },
      "execution_count": null,
      "outputs": []
    },
    {
      "cell_type": "code",
      "source": [
        "ans_element"
      ],
      "metadata": {
        "colab": {
          "base_uri": "https://localhost:8080/"
        },
        "id": "DB2Ncu827YHO",
        "outputId": "9b0c218d-8085-4a3b-98af-2c4e91315a09"
      },
      "execution_count": null,
      "outputs": [
        {
          "output_type": "execute_result",
          "data": {
            "text/plain": [
              "GraphElement(nodes=[Node(id='Trần Cảnh', type='Person', properties={'source': 'agent_created'}), Node(id='Lý Chiêu Hoàng', type='Person', properties={'source': 'agent_created'})], relationships=[Relationship(subj=Node(id='Trần Cảnh', type='Person', properties={'source': 'agent_created'}), obj=Node(id='Lý Chiêu Hoàng', type='Person', properties={'source': 'agent_created'}), type='MarriedTo', properties={'source': 'agent_created'})], source=<unstructured.documents.elements.Text object at 0x78cfe53e5000>)"
            ]
          },
          "metadata": {},
          "execution_count": 176
        }
      ]
    },
    {
      "cell_type": "markdown",
      "source": [
        "Chuyển prompt thành truy vấn trên Databse"
      ],
      "metadata": {
        "id": "UOiIhE6wPhv6"
      }
    },
    {
      "cell_type": "code",
      "source": [
        "\n",
        "# Match the enetity got from query in the knowledge graph storage content\n",
        "kg_result = []\n",
        "for node in ans_element.nodes:\n",
        "    n4j_query = f\"\"\"\n",
        "MATCH (n {{id: '{node.id}'}})-[r]->(m)\n",
        "RETURN 'Node ' + n.id + ' (label: ' + labels(n)[0] + ') has relationship ' + type(r) + ' with Node ' + m.id + ' (label: ' + labels(m)[0] + ')' AS Description\n",
        "UNION\n",
        "MATCH (n)<-[r]-(m {{id: '{node.id}'}})\n",
        "RETURN 'Node ' + m.id + ' (label: ' + labels(m)[0] + ') has relationship ' + type(r) + ' with Node ' + n.id + ' (label: ' + labels(n)[0] + ')' AS Description\n",
        "\"\"\"\n",
        "    print(n4j_query)\n",
        "    result = n4j.query(query=n4j_query)\n",
        "\n",
        "    kg_result.extend(result)"
      ],
      "metadata": {
        "id": "70JmDd52CaPn",
        "colab": {
          "base_uri": "https://localhost:8080/"
        },
        "outputId": "beb8b2a3-33c4-41d2-8562-25755db5d798"
      },
      "execution_count": null,
      "outputs": [
        {
          "output_type": "stream",
          "name": "stdout",
          "text": [
            "\n",
            "MATCH (n {id: 'Trần Cảnh'})-[r]->(m)\n",
            "RETURN 'Node ' + n.id + ' (label: ' + labels(n)[0] + ') has relationship ' + type(r) + ' with Node ' + m.id + ' (label: ' + labels(m)[0] + ')' AS Description\n",
            "UNION\n",
            "MATCH (n)<-[r]-(m {id: 'Trần Cảnh'})\n",
            "RETURN 'Node ' + m.id + ' (label: ' + labels(m)[0] + ') has relationship ' + type(r) + ' with Node ' + n.id + ' (label: ' + labels(n)[0] + ')' AS Description\n",
            "\n",
            "\n",
            "MATCH (n {id: 'Lý Chiêu Hoàng'})-[r]->(m)\n",
            "RETURN 'Node ' + n.id + ' (label: ' + labels(n)[0] + ') has relationship ' + type(r) + ' with Node ' + m.id + ' (label: ' + labels(m)[0] + ')' AS Description\n",
            "UNION\n",
            "MATCH (n)<-[r]-(m {id: 'Lý Chiêu Hoàng'})\n",
            "RETURN 'Node ' + m.id + ' (label: ' + labels(m)[0] + ') has relationship ' + type(r) + ' with Node ' + n.id + ' (label: ' + labels(n)[0] + ')' AS Description\n",
            "\n"
          ]
        }
      ]
    },
    {
      "cell_type": "code",
      "source": [
        "kg_result = [item['Description'] for item in kg_result]\n",
        "\n",
        "# Show the result from knowledge graph database\n",
        "print(kg_result)\n"
      ],
      "metadata": {
        "colab": {
          "base_uri": "https://localhost:8080/"
        },
        "id": "TYcTktZkCo82",
        "outputId": "f4dd763d-8546-40e3-dcf4-71468fec51f5"
      },
      "execution_count": null,
      "outputs": [
        {
          "output_type": "stream",
          "name": "stdout",
          "text": [
            "['Node Trần Cảnh (label: Person) has relationship MARRIED with Node Lý Chiêu Hoàng (label: Person)', 'Node Trần Cảnh (label: Person) has relationship MARRIED with Node công chúa Thuận Thiên (label: Person)']\n"
          ]
        }
      ]
    },
    {
      "cell_type": "code",
      "source": [
        "comined_results = \"\\n\".join(kg_result)"
      ],
      "metadata": {
        "id": "65OENoZpD8PS"
      },
      "execution_count": null,
      "outputs": []
    },
    {
      "cell_type": "markdown",
      "source": [
        "Kết hợp prompt và tri thức từ Database"
      ],
      "metadata": {
        "id": "l75TFkn8PlW1"
      }
    },
    {
      "cell_type": "code",
      "source": [
        "comined_results"
      ],
      "metadata": {
        "colab": {
          "base_uri": "https://localhost:8080/",
          "height": 53
        },
        "id": "a2_UZg4XE1xZ",
        "outputId": "2f4a7bc8-e574-49cd-8e95-493393214142"
      },
      "execution_count": null,
      "outputs": [
        {
          "output_type": "execute_result",
          "data": {
            "text/plain": [
              "'Node Trần Cảnh (label: Person) has relationship MARRIED with Node Lý Chiêu Hoàng (label: Person)\\nNode Trần Cảnh (label: Person) has relationship MARRIED with Node công chúa Thuận Thiên (label: Person)'"
            ],
            "application/vnd.google.colaboratory.intrinsic+json": {
              "type": "string"
            }
          },
          "metadata": {},
          "execution_count": 180
        }
      ]
    },
    {
      "cell_type": "markdown",
      "source": [
        "Đưa prompt này qua LLMs và lấy kết quả"
      ],
      "metadata": {
        "id": "43Z5KvsPPooj"
      }
    },
    {
      "cell_type": "code",
      "source": [
        "\n",
        "# Set agent\n",
        "sys_msg = BaseMessage.make_assistant_message(\n",
        "    role_name=\"CAMEL Agent\",\n",
        "    content=\"\"\"You are a helpful assistant to answer question,\n",
        "        I will give you the Original Query and Retrieved Context,\n",
        "    answer the Original Query based on the Retrieved Context.\"\"\",\n",
        ")\n",
        "\n",
        "camel_agent = ChatAgent(system_message=sys_msg,\n",
        "                        model=gpt4)\n",
        "\n",
        "# Pass the retrieved infomation to agent\n",
        "user_prompt=f\"\"\"\n",
        "The Original Query is {query}\n",
        "The Retrieved Context is {comined_results}\n",
        "\"\"\"\n",
        "\n",
        "user_msg = BaseMessage.make_user_message(\n",
        "    role_name=\"CAMEL User\", content=user_prompt\n",
        ")\n",
        "\n",
        "# Get response\n",
        "agent_response = camel_agent.step(user_msg)\n",
        "\n",
        "print(agent_response.msg.content)"
      ],
      "metadata": {
        "colab": {
          "base_uri": "https://localhost:8080/"
        },
        "id": "FXEvLsmEDzj1",
        "outputId": "4f7308b4-1cbd-4ba2-cbda-f513322cd3f2"
      },
      "execution_count": null,
      "outputs": [
        {
          "output_type": "stream",
          "name": "stdout",
          "text": [
            "Trần Cảnh có mối quan hệ là đã kết hôn với Lý Chiêu Hoàng.\n"
          ]
        }
      ]
    },
    {
      "cell_type": "code",
      "source": [
        "user_prompt"
      ],
      "metadata": {
        "colab": {
          "base_uri": "https://localhost:8080/",
          "height": 53
        },
        "id": "OCFPDX0BLUBS",
        "outputId": "cc44f19a-1e5f-4f92-c765-5a4a2fd16c6d"
      },
      "execution_count": null,
      "outputs": [
        {
          "output_type": "execute_result",
          "data": {
            "text/plain": [
              "'\\nThe Original Query is Mối quan hệ giữa Trần Cảnh và Lý Chiêu Hoàng là gì?\\nThe Retrieved Context is Node Trần Cảnh (label: Person) has relationship MARRIED with Node Lý Chiêu Hoàng (label: Person)\\nNode Trần Cảnh (label: Person) has relationship MARRIED with Node công chúa Thuận Thiên (label: Person)\\n'"
            ],
            "application/vnd.google.colaboratory.intrinsic+json": {
              "type": "string"
            }
          },
          "metadata": {},
          "execution_count": 182
        }
      ]
    }
  ]
}