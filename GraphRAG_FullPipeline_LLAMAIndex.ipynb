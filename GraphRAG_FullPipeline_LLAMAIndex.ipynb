{
  "nbformat": 4,
  "nbformat_minor": 0,
  "metadata": {
    "colab": {
      "provenance": [],
      "include_colab_link": true
    },
    "kernelspec": {
      "name": "python3",
      "display_name": "Python 3"
    },
    "language_info": {
      "name": "python"
    }
  },
  "cells": [
    {
      "cell_type": "markdown",
      "metadata": {
        "id": "view-in-github",
        "colab_type": "text"
      },
      "source": [
        "<a href=\"https://colab.research.google.com/github/nkcong206/RAG_tutorial/blob/main/GraphRAG_FullPipeline_LLAMAIndex.ipynb\" target=\"_parent\"><img src=\"https://colab.research.google.com/assets/colab-badge.svg\" alt=\"Open In Colab\"/></a>"
      ]
    },
    {
      "cell_type": "markdown",
      "source": [
        "## Notebook sử dụng LLAMAIndex để xây dựng Engine truy vấn dựa trên đồ thị xây dựng bằng GraphRAG\n",
        "\n",
        "Notebook được trình bày tại lớp học [AI cho devs](https://protonx.coursemind.io/courses/669f5abb02b79700125c9f32)\n"
      ],
      "metadata": {
        "id": "5tLUbNkN1XOB"
      }
    },
    {
      "cell_type": "code",
      "execution_count": null,
      "metadata": {
        "id": "oRoaCuuvmcxI"
      },
      "outputs": [],
      "source": [
        "!pip install -q llama-index graspologic numpy==1.24.4 scipy==1.12.0"
      ]
    },
    {
      "cell_type": "code",
      "source": [
        "import pandas as pd\n",
        "from llama_index.core import Document"
      ],
      "metadata": {
        "id": "3nV3kQ97rBCi"
      },
      "execution_count": null,
      "outputs": []
    },
    {
      "cell_type": "markdown",
      "source": [
        "![](https://storage.googleapis.com/mle-courses-prod/users/61b6fa1ba83a7e37c8309756/private-files/b567fa80-4e2d-11ef-bf69-71eafa46c86b-Screen_Shot_2024_07_30_at_11.39.23.png)"
      ],
      "metadata": {
        "id": "dxvn8evU8Ghy"
      }
    },
    {
      "cell_type": "markdown",
      "source": [
        "![](https://storage.googleapis.com/mle-courses-prod/users/61b6fa1ba83a7e37c8309756/private-files/5f0db250-4e2e-11ef-a9c5-539ef4fa11ba-Screen_Shot_2024_07_30_at_11.43.36.png)"
      ],
      "metadata": {
        "id": "J3NVNss98z1B"
      }
    },
    {
      "cell_type": "markdown",
      "source": [
        "[Nguồn: danviet.vn](https://danviet.vn/hung-dao-vuong-tran-quoc-tuan-va-man-cuop-dau-chan-dong-lich-su-20230119172700097.htm)"
      ],
      "metadata": {
        "id": "OLW-kd659V7x"
      }
    },
    {
      "cell_type": "code",
      "source": [
        "sample_document = \"\"\"\n",
        "Hưng Đạo Vương Trần Quốc Tuấn là người đã trực tiếp chỉ huy quân đội đánh tan hai cuộc xâm lược của quân Nguyên–Mông năm 1285 và năm 1288. Ông được biết đến với những chiến công lẫy lừng, là một nhà quân sự tài ba với gia thế hiển hách. Đúng là người giỏi, người tài nên cái gì ông cũng dám làm, dám chịu. Đau khổ vì người con gái mình yêu thương phải lấy người khác làm chồng, ông đã tạo ra một phi vụ cướp dâu chấn động nhất lịch sử Việt Nam.\n",
        "\n",
        "\n",
        "Năm 1237, Trần Cảnh (Trần Thái Tông) lên ngôi đã lâu mà vẫn không có con nối dõi, lo sợ nhà Trần bị tuyệt hậu, Trần Thủ Độ đã gây sức ép phế Lý Chiêu Hoàng để ép Trần Cảnh kết hôn với chị dâu của mình là công chúa Thuận Thiên, tức là vợ của Trần Liễu - cha của Trần Quốc Tuấn. Trần Liễu tức giận, mang binh rửa hận nhưng thân già sức yếu nên việc bất thành, cuối cùng phải buông giáp quy hàng, bị giáng xuống làm An Sinh Vương, cho về an trú ở đất Yên Sinh. Khi ấy, Trần Quốc Tuấn mới 7 tuổi.\n",
        "\n",
        "Chị của Trần Cảnh là Thụy Bà công chúa vì thương cháu mình đang còn nhỏ phải rời kinh đô tới nơi xa, đã cầu xin vua để nhận nuôi Quốc Tuấn để khuây khỏa nỗi buồn khi chồng bà đã mất.\n",
        "\n",
        "Bà nhận nuôi Quốc Tuấn được 8 năm, cho ông học văn, học võ, lớn lên với các con em hoàng tộc cùng trang lứa. Cũng chính trong thời gian này, Trần Quốc Tuấn gặp gỡ, cùng trải qua thời niên thiếu của mình với Thiên Thành công chúa.\n",
        "\n",
        "Trong suốt những năm tháng học tập và sinh sống nơi cung cấm, tình cảm của công chúa và Trần Quốc Tuấn cứ lớn dần lên, quấn quýt không rời. Mối tình thanh mai trúc mã cứ thế nở rộ.\n",
        "\n",
        "Cứ tưởng đây là mối lương duyên trời ban, cho tới khi Thiên Thành tới tuổi gả chồng, vua Trần Thái Tông đã hạ chỉ gả nàng cho Trung Thành Vương, con trai của Nhân Đạo Vương, phá tan giấc mộng đôi lứa của hai người.\n",
        "\n",
        "Sách Đại Việt sử ký toàn thư ghi lại rằng ngày 15 tháng 2 năm 1251, vua mở hội lớn 7 ngày đêm, bày các tranh về lễ kết tóc và nhiều trò chơi cho người trong triều ngoài nội đến xem, ý muốn cho công chúa Thiên Thành làm lễ kết tóc với Trung Thành Vương. Trước đó, nhà vua cũng cho Thiên Thành công chúa về ở vương phủ cha của Trung Thành Vương để chờ ngày làm lễ ăn hỏi.\n",
        "\n",
        "Trong khi cả kinh thành đang tưng bừng với những trò chơi và lễ hội, ở vương phủ Trần Quốc Tuấn chỉ cần nghĩ đến việc ngày mai, người con gái mình yêu thương sẽ trở thành vợ người khác thì tâm tư của chàng càng đau đớn. Chàng trằn trọc suốt đêm không ngủ cuối cùng chàng đưa ra quyết định táo bạo đó chính là đột nhập vào phủ Nhân Đạo Vương, cướp vợ về.\n",
        "\n",
        "Nghĩ là làm, trong đêm tối, nhân lúc mọi người còn đang say mê với lễ hội, Trần Quốc Tuấn lẻn vào phủ Nhân Đạo Vương. Biết không thể theo vào bằng cửa chính, chàng đã tìm cách trèo tường, vượt qua hàng toán lính tuần tra, dò trong đêm đen và tìm được chính xác phòng công chúa.\n",
        "\n",
        "Trái tim đau khổ của Thiên Thành sống lại lần nữa khi thấy người tình trong mộng xuất hiện trước mặt mình. Khi ấy, cả phủ Nhân Đạo Vương vẫn đang say trong lễ hội, không ai biết, trong phòng công chúa, đôi uyên ương đã gặp lại nhau. Thế nhưng, sự liều lĩnh này của Trần Quốc Tuấn sẽ trở thành thảm án nếu sự vụ bị bại lộ. Và nếu như chuyện không bại lộ, thì hôm sau công chúa Thiên Thành phải kết hôn với con trai của Nhân Đạo Vương. Để tránh khỏi tai ương đó, Trần Quốc Tuấn đã đi tiếp một bước cờ cao minh, đó chính là dồn nhà vua vào thế sự đã rồi.\n",
        "\n",
        "Ngay sau khi đột nhập thành công vào phòng công chúa, việc đầu tiên Trần Quốc Tuấn làm là ra lệnh cho thị nữ của công chúa về báo cho Thụy Bà công chúa, mẹ nuôi của chàng, Sau khi nhận được tin báo, Thụy Bà công chúa vào cung ngay lập tức và than khóc với Thái Tông: \"Không ngờ Quốc Tuấn càn rỡ đang đêm lẻn vào chỗ của Thiên Thành. Nhân Đạo Vương đã bắt giữ hắn rồi, e sẽ giết hắn mất. Xin bệ hạ rủ lòng thương, sai người đến cứu\".\n",
        "\n",
        "Lời nói của Thụy Bà công chúa như sét đánh ngang tai nhà vua, Trần Thái Tông tức Cảnh lúc bấy giờ đã nhận đủ lễ vật của Nhân Đạo Vương, sao có thể để Trần Quốc Tuấn cả gan làm loạn như vậy? Thụy Bà công chúa tiếp tục kiên trì van xin. Cộng thêm với việc ông nghĩ rằng đó là huyết mạch của anh trai Trần Liễu, Thái Tông đã đã sai người vây phủ Nhân Đạo Vương, xông thẳng tới hoa viên vắng lặng, vào phòng công chúa Thiên Thành để áp giải, thực chất là hộ tống, Trần Quốc Tuấn ra ngoài một cách an toàn. Đến lúc đó, cả phủ Nhân Đạo Vương mới ngỡ ngàng nhận ra Trần Quốc Tuấn đã vào phủ \"tư thông\" với công chúa Thiên Thành.\n",
        "\n",
        "Việc công chúa \"tư thông\" với nam tử khác ngay trong phủ sắp cưới là điều không thể chấp nhận được. Hôm sau, Thụy Bà công chúa đã nhanh tay hỏi cưới công chúa Thiên Thành cho cháu trai mình, với sinh lễ là 10 mâm vàng sống và nói \"vì vội quá nên không sắm đủ lễ vật, mong hoàng thượng nhận cho\". Trước chuyện đã rồi, Trần Thái Tông đành xuống chiếu gả Thiên Thành công chúa cho Trần Quốc Tuấn và ngậm ngùi cắt 2.000 khoảnh ruộng tốt ở huyện Ứng Thiên để \"an ủi\" Nhân Đạo Vương.\n",
        "\n",
        "Cuối cùng Trần Quốc Tuấn chàng đã lấy được thanh mai trúc mã mà ông yêu bấy lâu. Hai vợ chồng chàng đã có một cuộc sống êm ấm, hạnh phúc, sinh được bốn trai, một gái. Bốn người con trai ai cũng không phụ danh tiếng người cha, đều là những danh tướng lẫy lừng nhà Trần. Người con gái út sau này trở thành Bảo Thánh Hoàng Hậu Trần Trinh, vợ vua Trần Nhân Tông, mẹ đẻ vua Trần Anh Tông.\n",
        "\n",
        "\n",
        "\"\"\"\n",
        "documents = [\n",
        "    Document(text=sample_document)\n",
        "]\n"
      ],
      "metadata": {
        "id": "64I0dfR2rILf"
      },
      "execution_count": null,
      "outputs": []
    },
    {
      "cell_type": "code",
      "source": [
        "import os\n",
        "from google.colab import userdata\n",
        "\n",
        "os.environ[\"OPENAI_API_KEY\"] = userdata.get(\"open_ai_key\")\n",
        "\n",
        "from llama_index.llms.openai import OpenAI\n",
        "\n",
        "llm = OpenAI(model=\"gpt-4\")"
      ],
      "metadata": {
        "id": "4OiAUgbsrOuk"
      },
      "execution_count": null,
      "outputs": []
    },
    {
      "cell_type": "markdown",
      "source": [
        "Phương pháp GraphRAG\n",
        "\n",
        "GraphRAG bao gồm hai bước:\n",
        "\n",
        "1. Tạo Đồ Thị - Tạo Đồ Thị, xây dựng cộng đồng và các bản tóm tắt của chúng trên tài liệu đã cho.\n",
        "2. Trả Lời Truy Vấn - Sử dụng các bản tóm tắt của các cộng đồng được tạo từ bước 1 để trả lời truy vấn.\n",
        "\n",
        "Tạo Đồ Thị:\n",
        "\n",
        "1. Tài Liệu Nguồn thành Text Chunks: Tài liệu nguồn được chia thành các đoạn văn bản nhỏ hơn để dễ xử lý hơn.\n",
        "\n",
        "2. Text Chunks thành Element Instances: Mỗi đoạn văn bản được phân tích để xác định và trích xuất các entities và relationships, dẫn đến một danh sách các tuple đại diện cho các phần tử này.\n",
        "\n",
        "3. Element Instances thành Element Summaries: Các entities và relationships được trích xuất được tóm tắt thành các khối văn bản mô tả cho mỗi phần tử sử dụng LLM.\n",
        "\n",
        "4. Element Summaries thành Graph Communities: Các entities, relationships và các bản tóm tắt này tạo thành một đồ thị, sau đó được chia thành các cộng đồng sử dụng các thuật toán với Hierarchical Leiden để thiết lập cấu trúc phân cấp.\n",
        "\n",
        "5. Graph Communities thành Community Summaries: LLM tạo ra các bản tóm tắt cho mỗi cộng đồng, cung cấp cái nhìn sâu sắc về cấu trúc chủ đề tổng thể và ngữ nghĩa của tập dữ liệu.\n",
        "\n",
        "Trả Lời Truy Vấn:  Community Summaries thành Global Answers: Các bản tóm tắt của các cộng đồng được sử dụng để trả lời các truy vấn của người dùng. Điều này bao gồm việc tạo ra các câu trả lời trung gian, sau đó được hợp nhất thành một câu trả lời toàn cầu toàn diện."
      ],
      "metadata": {
        "id": "ycAU1JVfBK5p"
      }
    },
    {
      "cell_type": "markdown",
      "source": [
        "**GraphRAGExtractor**\n",
        "\n",
        "Lớp GraphRAGExtractor được thiết kế để trích xuất triples (subject-relation-object) từ văn bản và làm phong phú chúng bằng cách thêm mô tả cho các entities và relationships vào các thuộc tính của chúng bằng cách sử dụng LLM.\n",
        "\n",
        "Chức năng này tương tự với SimpleLLMPathExtractor, nhưng bao gồm các cải tiến bổ sung để xử lý mô tả entities và relationships. Để hướng dẫn về triển khai, bạn có thể tham khảo các extractors tương tự hiện có.\n",
        "\n",
        "Dưới đây là sự phân tích về chức năng của nó:\n",
        "\n",
        "Các thành phần chính:\n",
        "\n",
        "- llm: Language model được sử dụng để trích xuất.\n",
        "- extract_prompt: Một prompt template được sử dụng để hướng dẫn LLM trong việc trích xuất thông tin.\n",
        "- parse_fn: Một hàm để phân tích đầu ra của LLM thành dữ liệu có cấu trúc.\n",
        "- max_paths_per_chunk: Giới hạn số lượng triples được trích xuất trên mỗi đoạn văn bản.\n",
        "- num_workers: Số lượng workers cho việc xử lý song song các text nodes.\n",
        "\n",
        "Các phương pháp chính:\n",
        "\n",
        "- __call__: Điểm đầu vào để xử lý một danh sách các text nodes.\n",
        "- acall: Một phiên bản bất đồng bộ của call để cải thiện hiệu suất.\n",
        "- _aextract: Phương pháp cốt lõi xử lý từng node riêng lẻ.\n",
        "\n",
        "Quá trình trích xuất:\n",
        "\n",
        "Đối với mỗi input node (đoạn văn bản):\n",
        "\n",
        "- Gửi văn bản đến LLM cùng với extract prompt.\n",
        "- Phản hồi của LLM được phân tích để trích xuất entities, relationships, mô tả cho entities và relationships.\n",
        "- Entities được chuyển đổi thành các đối tượng EntityNode. Mô tả entity được lưu trữ trong metadata.\n",
        "- Relationships được chuyển đổi thành các đối tượng Relation. Mô tả relationship được lưu trữ trong metadata.\n",
        "- Những thông tin này được thêm vào metadata của node dưới các khóa KG_NODES_KEY và KG_RELATIONS_KEY.\n",
        "\n",
        "LƯU Ý: Trong triển khai hiện tại, chúng ta chỉ sử dụng mô tả relationship. Trong triển khai tiếp theo, chúng ta sẽ sử dụng mô tả entity trong giai đoạn retrieval."
      ],
      "metadata": {
        "id": "dCvaRmOpA7nb"
      }
    },
    {
      "cell_type": "code",
      "source": [
        "import asyncio  # Import asyncio\n",
        "import nest_asyncio  # Import nest_asyncio\n",
        "\n",
        "nest_asyncio.apply()  # Apply nest_asyncio\n",
        "\n",
        "from typing import Any, List, Callable, Optional, Union, Dict  # Import các kiểu dữ liệu cần thiết\n",
        "from IPython.display import Markdown, display  # Import các hàm để hiển thị\n",
        "\n",
        "from llama_index.core.async_utils import run_jobs  # Import run_jobs từ llama_index\n",
        "from llama_index.core.indices.property_graph.utils import (\n",
        "    default_parse_triplets_fn,  # Import default_parse_triplets_fn\n",
        ")\n",
        "from llama_index.core.graph_stores.types import (\n",
        "    EntityNode,  # Import EntityNode\n",
        "    KG_NODES_KEY,  # Import KG_NODES_KEY\n",
        "    KG_RELATIONS_KEY,  # Import KG_RELATIONS_KEY\n",
        "    Relation,  # Import Relation\n",
        ")\n",
        "from llama_index.core.llms.llm import LLM  # Import LLM\n",
        "from llama_index.core.prompts import PromptTemplate  # Import PromptTemplate\n",
        "from llama_index.core.prompts.default_prompts import (\n",
        "    DEFAULT_KG_TRIPLET_EXTRACT_PROMPT,  # Import DEFAULT_KG_TRIPLET_EXTRACT_PROMPT\n",
        ")\n",
        "from llama_index.core.schema import TransformComponent, BaseNode  # Import TransformComponent, BaseNode\n",
        "from llama_index.core.bridge.pydantic import BaseModel, Field  # Import BaseModel, Field\n",
        "\n",
        "\n",
        "class GraphRAGExtractor(TransformComponent):  # Định nghĩa lớp GraphRAGExtractor\n",
        "    \"\"\"Extract triples from a graph.\n",
        "\n",
        "    Uses an LLM and a simple prompt + output parsing to extract paths (i.e. triples) and entity, relation descriptions from text.\n",
        "\n",
        "    Args:\n",
        "        llm (LLM):\n",
        "            The language model to use.\n",
        "        extract_prompt (Union[str, PromptTemplate]):\n",
        "            The prompt to use for extracting triples.\n",
        "        parse_fn (callable):\n",
        "            A function to parse the output of the language model.\n",
        "        num_workers (int):\n",
        "            The number of workers to use for parallel processing.\n",
        "        max_paths_per_chunk (int):\n",
        "            The maximum number of paths to extract per chunk.\n",
        "    \"\"\"\n",
        "\n",
        "    llm: LLM  # Định nghĩa biến llm kiểu LLM\n",
        "    extract_prompt: PromptTemplate  # Định nghĩa biến extract_prompt kiểu PromptTemplate\n",
        "    parse_fn: Callable  # Định nghĩa biến parse_fn kiểu Callable\n",
        "    num_workers: int  # Định nghĩa biến num_workers kiểu int\n",
        "    max_paths_per_chunk: int  # Định nghĩa biến max_paths_per_chunk kiểu int\n",
        "\n",
        "    def __init__(  # Định nghĩa hàm khởi tạo\n",
        "        self,\n",
        "        llm: Optional[LLM] = None,  # Định nghĩa tham số llm\n",
        "        extract_prompt: Optional[Union[str, PromptTemplate]] = None,  # Định nghĩa tham số extract_prompt\n",
        "        parse_fn: Callable = default_parse_triplets_fn,  # Định nghĩa tham số parse_fn\n",
        "        max_paths_per_chunk: int = 10,  # Định nghĩa tham số max_paths_per_chunk\n",
        "        num_workers: int = 4,  # Định nghĩa tham số num_workers\n",
        "    ) -> None:  # Trả về None\n",
        "        \"\"\"Init params.\"\"\"  # Khởi tạo các tham số.\n",
        "        from llama_index.core import Settings  # Import Settings từ llama_index\n",
        "\n",
        "        if isinstance(extract_prompt, str):  # Kiểm tra nếu extract_prompt là str\n",
        "            extract_prompt = PromptTemplate(extract_prompt)  # Chuyển đổi extract_prompt thành PromptTemplate\n",
        "\n",
        "        super().__init__(  # Gọi hàm khởi tạo của lớp cha\n",
        "            llm=llm or Settings.llm,  # Gán giá trị cho llm\n",
        "            extract_prompt=extract_prompt or DEFAULT_KG_TRIPLET_EXTRACT_PROMPT,  # Gán giá trị cho extract_prompt\n",
        "            parse_fn=parse_fn,  # Gán giá trị cho parse_fn\n",
        "            num_workers=num_workers,  # Gán giá trị cho num_workers\n",
        "            max_paths_per_chunk=max_paths_per_chunk,  # Gán giá trị cho max_paths_per_chunk\n",
        "        )\n",
        "\n",
        "    @classmethod  # Định nghĩa phương thức class_name\n",
        "    def class_name(cls) -> str:  # Trả về tên lớp\n",
        "        return \"GraphExtractor\"\n",
        "\n",
        "    def __call__(  # Định nghĩa phương thức __call__\n",
        "        self, nodes: List[BaseNode], show_progress: bool = False, **kwargs: Any\n",
        "    ) -> List[BaseNode]:  # Trả về danh sách BaseNode\n",
        "        \"\"\"Extract triples from nodes.\"\"\"  # Trích xuất triples từ nodes.\n",
        "        return asyncio.run(  # Chạy phương thức asyncio.run\n",
        "            self.acall(nodes, show_progress=show_progress, **kwargs)  # Gọi phương thức acall\n",
        "        )\n",
        "\n",
        "    async def _aextract(self, node: BaseNode) -> BaseNode:  # Định nghĩa phương thức bất đồng bộ _aextract\n",
        "        \"\"\"Extract triples from a node.\"\"\"  # Trích xuất triples từ một node.\n",
        "        assert hasattr(node, \"text\")  # Kiểm tra nếu node có thuộc tính text\n",
        "\n",
        "        text = node.get_content(metadata_mode=\"llm\")  # Lấy nội dung của node\n",
        "        try:\n",
        "            llm_response = await self.llm.apredict(  # Dự đoán kết quả với llm\n",
        "                self.extract_prompt,\n",
        "                text=text,\n",
        "                max_knowledge_triplets=self.max_paths_per_chunk,\n",
        "            )\n",
        "            entities, entities_relationship = self.parse_fn(llm_response)  # Phân tích kết quả\n",
        "        except ValueError:  # Bắt lỗi ValueError\n",
        "            entities = []  # Gán giá trị mặc định cho entities\n",
        "            entities_relationship = []  # Gán giá trị mặc định cho entities_relationship\n",
        "\n",
        "        existing_nodes = node.metadata.pop(KG_NODES_KEY, [])  # Lấy giá trị của existing_nodes\n",
        "        existing_relations = node.metadata.pop(KG_RELATIONS_KEY, [])  # Lấy giá trị của existing_relations\n",
        "        metadata = node.metadata.copy()  # Sao chép metadata\n",
        "        for entity, entity_type, description in entities:  # Lặp qua các entity\n",
        "            metadata[\n",
        "                \"entity_description\"\n",
        "            ] = description  # Không sử dụng trong bản hiện tại. Sẽ hữu ích trong tương lai.\n",
        "            entity_node = EntityNode(  # Tạo EntityNode\n",
        "                name=entity, label=entity_type, properties=metadata\n",
        "            )\n",
        "            existing_nodes.append(entity_node)  # Thêm entity_node vào existing_nodes\n",
        "\n",
        "        metadata = node.metadata.copy()  # Sao chép lại metadata\n",
        "        for triple in entities_relationship:  # Lặp qua các triple\n",
        "            subj, rel, obj, description = triple  # Lấy các giá trị từ triple\n",
        "            subj_node = EntityNode(name=subj, properties=metadata)  # Tạo subj_node\n",
        "            obj_node = EntityNode(name=obj, properties=metadata)  # Tạo obj_node\n",
        "            metadata[\"relationship_description\"] = description  # Gán giá trị cho relationship_description\n",
        "            rel_node = Relation(  # Tạo Relation\n",
        "                label=rel,\n",
        "                source_id=subj_node.id,\n",
        "                target_id=obj_node.id,\n",
        "                properties=metadata,\n",
        "            )\n",
        "\n",
        "            existing_nodes.extend([subj_node, obj_node])  # Thêm subj_node và obj_node vào existing_nodes\n",
        "            existing_relations.append(rel_node)  # Thêm rel_node vào existing_relations\n",
        "\n",
        "        node.metadata[KG_NODES_KEY] = existing_nodes  # Gán lại giá trị cho KG_NODES_KEY\n",
        "        node.metadata[KG_RELATIONS_KEY] = existing_relations  # Gán lại giá trị cho KG_RELATIONS_KEY\n",
        "        return node  # Trả về node\n",
        "\n",
        "    async def acall(  # Định nghĩa phương thức bất đồng bộ acall\n",
        "        self, nodes: List[BaseNode], show_progress: bool = False, **kwargs: Any\n",
        "    ) -> List[BaseNode]:  # Trả về danh sách BaseNode\n",
        "        \"\"\"Extract triples from nodes async.\"\"\"  # Trích xuất triples từ nodes bất đồng bộ.\n",
        "        jobs = []  # Khởi tạo danh sách jobs\n",
        "        for node in nodes:  # Lặp qua các node\n",
        "            jobs.append(self._aextract(node))  # Thêm job vào danh sách\n",
        "\n",
        "        return await run_jobs(  # Chạy các job\n",
        "            jobs,\n",
        "            workers=self.num_workers,\n",
        "            show_progress=show_progress,\n",
        "            desc=\"Extracting paths from text\",\n",
        "        )\n"
      ],
      "metadata": {
        "id": "NBUGOOXZrTuT"
      },
      "execution_count": null,
      "outputs": []
    },
    {
      "cell_type": "markdown",
      "source": [
        "![](https://storage.googleapis.com/mle-courses-prod/users/61b6fa1ba83a7e37c8309756/private-files/ca959430-4e2d-11ef-a9c5-539ef4fa11ba-Screen_Shot_2024_07_30_at_11.40.00.png)"
      ],
      "metadata": {
        "id": "Ge_uiyi68L-f"
      }
    },
    {
      "cell_type": "markdown",
      "source": [
        "### **GraphRAGStore**\n",
        "\n",
        "Lớp **GraphRAGStore** là một phần mở rộng của lớp **SimplePropertyGraphStore**, được thiết kế để triển khai pipeline GraphRAG. Dưới đây là phân tích các thành phần chính và chức năng của nó:\n",
        "\n",
        "Lớp này sử dụng các thuật toán phát hiện cộng đồng để nhóm các nút liên quan trong đồ thị và sau đó tạo ra các bản tóm tắt cho mỗi cộng đồng sử dụng LLM.\n",
        "\n",
        "Phương pháp chính:\n",
        "\n",
        "**build_communities():**\n",
        "\n",
        "Chuyển đổi biểu diễn đồ thị nội bộ thành đồ thị NetworkX.\n",
        "\n",
        "Áp dụng thuật toán Leiden phân cấp cho việc phát hiện cộng đồng.\n",
        "\n",
        "Thu thập thông tin chi tiết về từng cộng đồng.\n",
        "\n",
        "Tạo các bản tóm tắt cho từng cộng đồng.\n",
        "\n",
        "**generate_community_summary(text):**\n",
        "\n",
        "Sử dụng LLM để tạo một bản tóm tắt về các mối quan hệ trong một cộng đồng.\n",
        "Bản tóm tắt bao gồm tên thực thể và một sự tổng hợp của các mô tả mối quan hệ.\n",
        "\n",
        "**_create_nx_graph():**\n",
        "\n",
        "Chuyển đổi biểu diễn đồ thị nội bộ thành đồ thị NetworkX cho việc phát hiện cộng đồng.\n",
        "\n",
        "**_collect_community_info(nx_graph, clusters):**\n",
        "\n",
        "Thu thập thông tin chi tiết về từng nút dựa trên cộng đồng của nó.\n",
        "Tạo ra một biểu diễn chuỗi của từng mối quan hệ trong một cộng đồng.\n",
        "\n",
        "**_summarize_communities(community_info):**\n",
        "\n",
        "Tạo và lưu trữ các bản tóm tắt cho từng cộng đồng sử dụng LLM.\n",
        "\n",
        "**get_community_summaries():**\n",
        "\n",
        "Trả về các bản tóm tắt cộng đồng bằng cách xây dựng chúng nếu chưa có sẵn.\n"
      ],
      "metadata": {
        "id": "Yq6R4qCSsN9v"
      }
    },
    {
      "cell_type": "code",
      "source": [
        "import re  # Import thư viện re\n",
        "from llama_index.core.graph_stores import SimplePropertyGraphStore  # Import SimplePropertyGraphStore\n",
        "import networkx as nx  # Import networkx với tên gọi nx\n",
        "from graspologic.partition import hierarchical_leiden  # Import hierarchical_leiden từ graspologic.partition\n",
        "\n",
        "from llama_index.core.llms import ChatMessage  # Import ChatMessage\n",
        "\n",
        "\n",
        "class GraphRAGStore(SimplePropertyGraphStore):  # Định nghĩa lớp GraphRAGStore kế thừa từ SimplePropertyGraphStore\n",
        "    community_summary = {}  # Khởi tạo biến community_summary\n",
        "    max_cluster_size = 5  # Đặt giá trị max_cluster_size là 5\n",
        "\n",
        "    def generate_community_summary(self, text):  # Định nghĩa hàm generate_community_summary\n",
        "        \"\"\"Generate summary for a given text using an LLM.\"\"\"  # Tạo bản tóm tắt cho văn bản đã cho bằng LLM.\n",
        "        messages = [  # Khởi tạo danh sách messages\n",
        "            ChatMessage(  # Tạo tin nhắn hệ thống\n",
        "                role=\"system\",\n",
        "                content=(\n",
        "                    \"You are provided with a set of relationships from a knowledge graph, each represented as \"\n",
        "                    \"entity1->entity2->relation->relationship_description. Your task is to create a summary of these \"\n",
        "                    \"relationships. The summary should include the names of the entities involved and a concise synthesis \"\n",
        "                    \"of the relationship descriptions. The goal is to capture the most critical and relevant details that \"\n",
        "                    \"highlight the nature and significance of each relationship. Ensure that the summary is coherent and \"\n",
        "                    \"integrates the information in a way that emphasizes the key aspects of the relationships.\"\n",
        "                ),\n",
        "            ),\n",
        "            ChatMessage(role=\"user\", content=text),  # Tạo tin nhắn của người dùng\n",
        "        ]\n",
        "        response = OpenAI().chat(messages)  # Gửi tin nhắn tới OpenAI và nhận phản hồi\n",
        "        clean_response = re.sub(r\"^assistant:\\s*\", \"\", str(response)).strip()  # Làm sạch phản hồi nhận được\n",
        "        return clean_response  # Trả về phản hồi đã làm sạch\n",
        "\n",
        "    def build_communities(self):  # Định nghĩa hàm build_communities\n",
        "        \"\"\"Builds communities from the graph and summarizes them.\"\"\"  # Xây dựng các cộng đồng từ đồ thị và tóm tắt chúng.\n",
        "        nx_graph = self._create_nx_graph()  # Tạo đồ thị NetworkX\n",
        "        community_hierarchical_clusters = hierarchical_leiden(  # Áp dụng thuật toán hierarchical_leiden\n",
        "            nx_graph, max_cluster_size=self.max_cluster_size\n",
        "        )\n",
        "        community_info = self._collect_community_info(  # Thu thập thông tin chi tiết về cộng đồng\n",
        "            nx_graph, community_hierarchical_clusters\n",
        "        )\n",
        "        self._summarize_communities(community_info)  # Tóm tắt các cộng đồng\n",
        "\n",
        "    def _create_nx_graph(self):  # Định nghĩa hàm _create_nx_graph\n",
        "        \"\"\"Converts internal graph representation to NetworkX graph.\"\"\"  # Chuyển đổi biểu diễn đồ thị nội bộ thành đồ thị NetworkX.\n",
        "        nx_graph = nx.Graph()  # Khởi tạo đồ thị NetworkX\n",
        "        for node in self.graph.nodes.values():  # Lặp qua các nút trong đồ thị\n",
        "            nx_graph.add_node(str(node))  # Thêm nút vào đồ thị NetworkX\n",
        "        for relation in self.graph.relations.values():  # Lặp qua các quan hệ trong đồ thị\n",
        "            nx_graph.add_edge(\n",
        "                relation.source_id,\n",
        "                relation.target_id,\n",
        "                relationship=relation.label,\n",
        "                description=relation.properties[\"relationship_description\"],\n",
        "            )  # Thêm cạnh vào đồ thị NetworkX\n",
        "        return nx_graph  # Trả về đồ thị NetworkX\n",
        "\n",
        "    def _collect_community_info(self, nx_graph, clusters):  # Định nghĩa hàm _collect_community_info\n",
        "        \"\"\"Collect detailed information for each node based on their community.\"\"\"  # Thu thập thông tin chi tiết cho từng nút dựa trên cộng đồng của chúng.\n",
        "        community_mapping = {item.node: item.cluster for item in clusters}  # Tạo ánh xạ giữa nút và cộng đồng\n",
        "        community_info = {}  # Khởi tạo biến community_info\n",
        "        for item in clusters:  # Lặp qua các phần tử trong clusters\n",
        "            cluster_id = item.cluster  # Lấy ID của cộng đồng\n",
        "            node = item.node  # Lấy nút\n",
        "            if cluster_id not in community_info:  # Kiểm tra nếu cộng đồng chưa có trong community_info\n",
        "                community_info[cluster_id] = []  # Tạo danh sách cho cộng đồng mới\n",
        "\n",
        "            for neighbor in nx_graph.neighbors(node):  # Lặp qua các nút lân cận\n",
        "                if community_mapping[neighbor] == cluster_id:  # Kiểm tra nếu lân cận thuộc cùng cộng đồng\n",
        "                    edge_data = nx_graph.get_edge_data(node, neighbor)  # Lấy dữ liệu cạnh\n",
        "                    if edge_data:  # Kiểm tra nếu có dữ liệu cạnh\n",
        "                        detail = f\"{node} -> {neighbor} -> {edge_data['relationship']} -> {edge_data['description']}\"  # Tạo chuỗi chi tiết\n",
        "                        community_info[cluster_id].append(detail)  # Thêm chi tiết vào community_info\n",
        "        return community_info  # Trả về community_info\n",
        "\n",
        "    def _summarize_communities(self, community_info):  # Định nghĩa hàm _summarize_communities\n",
        "        \"\"\"Generate and store summaries for each community.\"\"\"  # Tạo và lưu trữ các bản tóm tắt cho từng cộng đồng.\n",
        "        for community_id, details in community_info.items():  # Lặp qua các cộng đồng trong community_info\n",
        "            details_text = (\n",
        "                \"\\n\".join(details) + \".\"  # Đảm bảo kết thúc bằng dấu chấm\n",
        "            )\n",
        "            self.community_summary[\n",
        "                community_id\n",
        "            ] = self.generate_community_summary(details_text)  # Tạo bản tóm tắt và lưu trữ\n",
        "\n",
        "    def get_community_summaries(self):  # Định nghĩa hàm get_community_summaries\n",
        "        \"\"\"Returns the community summaries, building them if not already done.\"\"\"  # Trả về các bản tóm tắt cộng đồng, xây dựng chúng nếu chưa có.\n",
        "        if not self.community_summary:  # Kiểm tra nếu chưa có bản tóm tắt\n",
        "            self.build_communities()  # Xây dựng các cộng đồng\n",
        "        return self.community_summary  # Trả về bản tóm tắt cộng đồng\n"
      ],
      "metadata": {
        "id": "4aXo601dr9Tl"
      },
      "execution_count": null,
      "outputs": []
    },
    {
      "cell_type": "markdown",
      "source": [
        "![](https://storage.googleapis.com/mle-courses-prod/users/61b6fa1ba83a7e37c8309756/private-files/06dc6ac0-4e30-11ef-a9c5-539ef4fa11ba-Screen_Shot_2024_07_30_at_11.56.00.png)"
      ],
      "metadata": {
        "id": "w9_KbxXF8WGY"
      }
    },
    {
      "cell_type": "markdown",
      "source": [
        "**GraphRAGQueryEngine**\n",
        "\n",
        "Lớp **GraphRAGQueryEngine** là một query engine tùy chỉnh được thiết kế để xử lý các truy vấn bằng cách sử dụng phương pháp GraphRAG. Nó tận dụng các bản tóm tắt cộng đồng được tạo bởi GraphRAGStore để trả lời các truy vấn của người dùng. Dưới đây là sự phân tích về chức năng của nó:\n",
        "\n",
        "Các thành phần chính:\n",
        "\n",
        "- graph_store: Một instance của GraphRAGStore, chứa các bản tóm tắt cộng đồng.\n",
        "- llm: Một Language Model (LLM) được sử dụng để tạo và tổng hợp các câu trả lời.\n",
        "\n",
        "Phương thức chính:\n",
        "\n",
        "- custom_query(query_str: str)\n",
        "\n",
        "  Đây là điểm đầu vào chính để xử lý một truy vấn. Nó truy xuất các bản tóm tắt cộng đồng, tạo ra các câu trả lời từ mỗi bản tóm tắt, và sau đó tổng hợp các câu trả lời này thành một phản hồi cuối cùng.\n",
        "\n",
        "- generate_answer_from_summary(community_summary, query):\n",
        "\n",
        "  Tạo ra một câu trả lời cho truy vấn dựa trên một bản tóm tắt cộng đồng duy nhất. Sử dụng LLM để diễn giải bản tóm tắt cộng đồng trong bối cảnh của truy vấn.\n",
        "\n",
        "- aggregate_answers(community_answers):\n",
        "\n",
        "  Kết hợp các câu trả lời cá nhân từ các cộng đồng khác nhau thành một phản hồi cuối cùng mạch lạc. Sử dụng LLM để tổng hợp nhiều góc nhìn thành một câu trả lời ngắn gọn.\n",
        "\n",
        "Quy trình xử lý truy vấn:\n",
        "\n",
        "1. Truy xuất các bản tóm tắt cộng đồng từ graph store.\n",
        "2. Đối với mỗi bản tóm tắt cộng đồng, tạo ra một câu trả lời cụ thể cho truy vấn.\n",
        "3. Tổng hợp tất cả các câu trả lời cụ thể của cộng đồng thành một phản hồi cuối cùng mạch lạc.\n",
        "\n",
        "Ví dụ sử dụng:\n",
        "\n",
        "```python\n",
        "query_engine = GraphRAGQueryEngine(graph_store=graph_store, llm=llm)\n",
        "\n",
        "response = query_engine.query(\"query\")\n",
        "```\n"
      ],
      "metadata": {
        "id": "O4elw_FMuJaw"
      }
    },
    {
      "cell_type": "code",
      "source": [
        "from llama_index.core.query_engine import CustomQueryEngine  # Import CustomQueryEngine từ llama_index\n",
        "from llama_index.core.llms import LLM  # Import LLM từ llama_index\n",
        "\n",
        "\n",
        "class GraphRAGQueryEngine(CustomQueryEngine):  # Định nghĩa lớp GraphRAGQueryEngine kế thừa từ CustomQueryEngine\n",
        "    graph_store: GraphRAGStore  # Định nghĩa biến graph_store kiểu GraphRAGStore\n",
        "    llm: LLM  # Định nghĩa biến llm kiểu LLM\n",
        "\n",
        "    def custom_query(self, query_str: str) -> str:  # Định nghĩa phương thức custom_query\n",
        "        \"\"\"Process all community summaries to generate answers to a specific query.\"\"\"  # Xử lý tất cả các bản tóm tắt cộng đồng để tạo câu trả lời cho một truy vấn cụ thể.\n",
        "        community_summaries = self.graph_store.get_community_summaries()  # Lấy các bản tóm tắt cộng đồng từ graph_store\n",
        "        community_answers = [  # Tạo danh sách câu trả lời cộng đồng\n",
        "            self.generate_answer_from_summary(community_summary, query_str)  # Gọi phương thức generate_answer_from_summary\n",
        "            for _, community_summary in community_summaries.items()  # Lặp qua các bản tóm tắt cộng đồng\n",
        "        ]\n",
        "\n",
        "        final_answer = self.aggregate_answers(community_answers)  # Gọi phương thức aggregate_answers để tạo câu trả lời cuối cùng\n",
        "        return final_answer  # Trả về câu trả lời cuối cùng\n",
        "\n",
        "    def generate_answer_from_summary(self, community_summary, query):  # Định nghĩa phương thức generate_answer_from_summary\n",
        "        \"\"\"Generate an answer from a community summary based on a given query using LLM.\"\"\"  # Tạo câu trả lời từ một bản tóm tắt cộng đồng dựa trên truy vấn đã cho sử dụng LLM.\n",
        "        prompt = (  # Tạo prompt\n",
        "            f\"Given the community summary: {community_summary}, \"\n",
        "            f\"how would you answer the following query? Query: {query}\"\n",
        "        )\n",
        "        messages = [  # Tạo danh sách messages\n",
        "            ChatMessage(role=\"system\", content=prompt),  # Tạo tin nhắn hệ thống\n",
        "            ChatMessage(\n",
        "                role=\"user\",\n",
        "                content=\"I need an answer based on the above information.\",  # Tạo tin nhắn của người dùng\n",
        "            ),\n",
        "        ]\n",
        "        response = self.llm.chat(messages)  # Gửi tin nhắn tới LLM và nhận phản hồi\n",
        "        cleaned_response = re.sub(r\"^assistant:\\s*\", \"\", str(response)).strip()  # Làm sạch phản hồi nhận được\n",
        "        return cleaned_response  # Trả về phản hồi đã làm sạch\n",
        "\n",
        "    def aggregate_answers(self, community_answers):  # Định nghĩa phương thức aggregate_answers\n",
        "        \"\"\"Aggregate individual community answers into a final, coherent response.\"\"\"  # Tổng hợp các câu trả lời cộng đồng cá nhân thành một phản hồi cuối cùng, mạch lạc.\n",
        "        # intermediate_text = \" \".join(community_answers)\n",
        "        prompt = \"Combine the following intermediate answers into a final, concise response.\"  # Tạo prompt\n",
        "        messages = [  # Tạo danh sách messages\n",
        "            ChatMessage(role=\"system\", content=prompt),  # Tạo tin nhắn hệ thống\n",
        "            ChatMessage(\n",
        "                role=\"user\",\n",
        "                content=f\"Intermediate answers: {community_answers}\",  # Tạo tin nhắn của người dùng\n",
        "            ),\n",
        "        ]\n",
        "        final_response = self.llm.chat(messages)  # Gửi tin nhắn tới LLM và nhận phản hồi cuối cùng\n",
        "        cleaned_final_response = re.sub(  # Làm sạch phản hồi cuối cùng\n",
        "            r\"^assistant:\\s*\", \"\", str(final_response)\n",
        "        ).strip()\n",
        "        return cleaned_final_response  # Trả về phản hồi cuối cùng đã làm sạch\n"
      ],
      "metadata": {
        "id": "1GhgVRFhuJ_U"
      },
      "execution_count": null,
      "outputs": []
    },
    {
      "cell_type": "markdown",
      "source": [
        "Xây dựng End to End GraphRAG Pipeline\n",
        "\n",
        "Bây giờ khi chúng ta đã định nghĩa tất cả các thành phần cần thiết, hãy xây dựng GraphRAG pipeline:\n",
        "\n",
        "- Tạo nodes/chunks từ văn bản.\n",
        "- Xây dựng một PropertyGraphIndex sử dụng GraphRAGExtractor và GraphRAGStore.\n",
        "- Xây dựng các cộng đồng và tạo một bản tóm tắt cho mỗi cộng đồng sử dụng đồ thị đã xây dựng ở trên.\n",
        "- Tạo một GraphRAGQueryEngine và bắt đầu truy vấn."
      ],
      "metadata": {
        "id": "bUlf43dCuxL0"
      }
    },
    {
      "cell_type": "code",
      "source": [
        "from llama_index.core.node_parser import SentenceSplitter\n",
        "\n",
        "splitter = SentenceSplitter(\n",
        "    chunk_size=1024,\n",
        "    chunk_overlap=20,\n",
        ")\n",
        "nodes = splitter.get_nodes_from_documents(documents)"
      ],
      "metadata": {
        "id": "SXnwyyu7ux3Y"
      },
      "execution_count": null,
      "outputs": []
    },
    {
      "cell_type": "code",
      "source": [
        "nodes"
      ],
      "metadata": {
        "colab": {
          "base_uri": "https://localhost:8080/"
        },
        "id": "khOf2bWc0JyY",
        "outputId": "40fb1f1c-5d84-4b9b-ab6a-7cd9ed8021e0"
      },
      "execution_count": null,
      "outputs": [
        {
          "output_type": "execute_result",
          "data": {
            "text/plain": [
              "[TextNode(id_='f687f047-063b-49f3-bdbd-1fa412a4801a', embedding=None, metadata={}, excluded_embed_metadata_keys=[], excluded_llm_metadata_keys=[], relationships={<NodeRelationship.SOURCE: '1'>: RelatedNodeInfo(node_id='3a2ecb93-0a0b-4385-ac48-8304fd0a7682', node_type=<ObjectType.DOCUMENT: '4'>, metadata={}, hash='2c0bf48c4c796e004ef5432d3a0bc037187f9301aacfc044a58128e222de26e3'), <NodeRelationship.NEXT: '3'>: RelatedNodeInfo(node_id='8e0b0e04-1dac-4251-8614-dfd7623e21cc', node_type=<ObjectType.TEXT: '1'>, metadata={}, hash='bbc1dc68f112838530cdda5199a7f6779396cdfccb65a87d5dc914dc78bbfa8c')}, text='Hưng Đạo Vương Trần Quốc Tuấn là người đã trực tiếp chỉ huy quân đội đánh tan hai cuộc xâm lược của quân Nguyên–Mông năm 1285 và năm 1288. Ông được biết đến với những chiến công lẫy lừng, là một nhà quân sự tài ba với gia thế hiển hách. Đúng là người giỏi, người tài nên cái gì ông cũng dám làm, dám chịu. Đau khổ vì người con gái mình yêu thương phải lấy người khác làm chồng, ông đã tạo ra một phi vụ cướp dâu chấn động nhất lịch sử Việt Nam.\\n\\n\\nNăm 1237, Trần Cảnh (Trần Thái Tông) lên ngôi đã lâu mà vẫn không có con nối dõi, lo sợ nhà Trần bị tuyệt hậu, Trần Thủ Độ đã gây sức ép phế Lý Chiêu Hoàng để ép Trần Cảnh kết hôn với chị dâu của mình là công chúa Thuận Thiên, tức là vợ của Trần Liễu - cha của Trần Quốc Tuấn. Trần Liễu tức giận, mang binh rửa hận nhưng thân già sức yếu nên việc bất thành, cuối cùng phải buông giáp quy hàng, bị giáng xuống làm An Sinh Vương, cho về an trú ở đất Yên Sinh. Khi ấy, Trần Quốc Tuấn mới 7 tuổi.\\n\\nChị của Trần Cảnh là Thụy Bà công chúa vì thương cháu mình đang còn nhỏ phải rời kinh đô tới nơi xa, đã cầu xin vua để nhận nuôi Quốc Tuấn để khuây khỏa nỗi buồn khi chồng bà đã mất.\\n\\nBà nhận nuôi Quốc Tuấn được 8 năm, cho ông học văn, học võ, lớn lên với các con em hoàng tộc cùng trang lứa. Cũng chính trong thời gian này, Trần Quốc Tuấn gặp gỡ, cùng trải qua thời niên thiếu của mình với Thiên Thành công chúa.\\n\\nTrong suốt những năm tháng học tập và sinh sống nơi cung cấm, tình cảm của công chúa và Trần Quốc Tuấn cứ lớn dần lên, quấn quýt không rời. Mối tình thanh mai trúc mã cứ thế nở rộ.\\n\\nCứ tưởng đây là mối lương duyên trời ban, cho tới khi Thiên Thành tới tuổi gả chồng, vua Trần Thái Tông đã hạ chỉ gả nàng cho Trung Thành Vương, con trai của Nhân Đạo Vương, phá tan giấc mộng đôi lứa của hai người.\\n\\nSách Đại Việt sử ký toàn thư ghi lại rằng ngày 15 tháng 2 năm 1251, vua mở hội lớn 7 ngày đêm, bày các tranh về lễ kết tóc và nhiều trò chơi cho người trong triều ngoài nội đến xem, ý muốn cho công chúa Thiên Thành làm lễ kết tóc với Trung Thành Vương.', mimetype='text/plain', start_char_idx=1, end_char_idx=2007, text_template='{metadata_str}\\n\\n{content}', metadata_template='{key}: {value}', metadata_seperator='\\n'),\n",
              " TextNode(id_='8e0b0e04-1dac-4251-8614-dfd7623e21cc', embedding=None, metadata={}, excluded_embed_metadata_keys=[], excluded_llm_metadata_keys=[], relationships={<NodeRelationship.SOURCE: '1'>: RelatedNodeInfo(node_id='3a2ecb93-0a0b-4385-ac48-8304fd0a7682', node_type=<ObjectType.DOCUMENT: '4'>, metadata={}, hash='2c0bf48c4c796e004ef5432d3a0bc037187f9301aacfc044a58128e222de26e3'), <NodeRelationship.PREVIOUS: '2'>: RelatedNodeInfo(node_id='f687f047-063b-49f3-bdbd-1fa412a4801a', node_type=<ObjectType.TEXT: '1'>, metadata={}, hash='6c31e2d1c4ccb39fecf52d0b155f3799c311e0899b7a67d22cd18d6a9348c928'), <NodeRelationship.NEXT: '3'>: RelatedNodeInfo(node_id='f37267c8-7c18-4ebf-89c2-883c9fb4a021', node_type=<ObjectType.TEXT: '1'>, metadata={}, hash='4039e77d44d257ca36b345a5a9ba5b578e18170399dec983732255272b380e87')}, text='Trước đó, nhà vua cũng cho Thiên Thành công chúa về ở vương phủ cha của Trung Thành Vương để chờ ngày làm lễ ăn hỏi.\\n\\nTrong khi cả kinh thành đang tưng bừng với những trò chơi và lễ hội, ở vương phủ Trần Quốc Tuấn chỉ cần nghĩ đến việc ngày mai, người con gái mình yêu thương sẽ trở thành vợ người khác thì tâm tư của chàng càng đau đớn. Chàng trằn trọc suốt đêm không ngủ cuối cùng chàng đưa ra quyết định táo bạo đó chính là đột nhập vào phủ Nhân Đạo Vương, cướp vợ về.\\n\\nNghĩ là làm, trong đêm tối, nhân lúc mọi người còn đang say mê với lễ hội, Trần Quốc Tuấn lẻn vào phủ Nhân Đạo Vương. Biết không thể theo vào bằng cửa chính, chàng đã tìm cách trèo tường, vượt qua hàng toán lính tuần tra, dò trong đêm đen và tìm được chính xác phòng công chúa.\\n\\nTrái tim đau khổ của Thiên Thành sống lại lần nữa khi thấy người tình trong mộng xuất hiện trước mặt mình. Khi ấy, cả phủ Nhân Đạo Vương vẫn đang say trong lễ hội, không ai biết, trong phòng công chúa, đôi uyên ương đã gặp lại nhau. Thế nhưng, sự liều lĩnh này của Trần Quốc Tuấn sẽ trở thành thảm án nếu sự vụ bị bại lộ. Và nếu như chuyện không bại lộ, thì hôm sau công chúa Thiên Thành phải kết hôn với con trai của Nhân Đạo Vương. Để tránh khỏi tai ương đó, Trần Quốc Tuấn đã đi tiếp một bước cờ cao minh, đó chính là dồn nhà vua vào thế sự đã rồi.\\n\\nNgay sau khi đột nhập thành công vào phòng công chúa, việc đầu tiên Trần Quốc Tuấn làm là ra lệnh cho thị nữ của công chúa về báo cho Thụy Bà công chúa, mẹ nuôi của chàng, Sau khi nhận được tin báo, Thụy Bà công chúa vào cung ngay lập tức và than khóc với Thái Tông: \"Không ngờ Quốc Tuấn càn rỡ đang đêm lẻn vào chỗ của Thiên Thành. Nhân Đạo Vương đã bắt giữ hắn rồi, e sẽ giết hắn mất. Xin bệ hạ rủ lòng thương, sai người đến cứu\".\\n\\nLời nói của Thụy Bà công chúa như sét đánh ngang tai nhà vua, Trần Thái Tông tức Cảnh lúc bấy giờ đã nhận đủ lễ vật của Nhân Đạo Vương, sao có thể để Trần Quốc Tuấn cả gan làm loạn như vậy? Thụy Bà công chúa tiếp tục kiên trì van xin.', mimetype='text/plain', start_char_idx=2008, end_char_idx=3981, text_template='{metadata_str}\\n\\n{content}', metadata_template='{key}: {value}', metadata_seperator='\\n'),\n",
              " TextNode(id_='f37267c8-7c18-4ebf-89c2-883c9fb4a021', embedding=None, metadata={}, excluded_embed_metadata_keys=[], excluded_llm_metadata_keys=[], relationships={<NodeRelationship.SOURCE: '1'>: RelatedNodeInfo(node_id='3a2ecb93-0a0b-4385-ac48-8304fd0a7682', node_type=<ObjectType.DOCUMENT: '4'>, metadata={}, hash='2c0bf48c4c796e004ef5432d3a0bc037187f9301aacfc044a58128e222de26e3'), <NodeRelationship.PREVIOUS: '2'>: RelatedNodeInfo(node_id='8e0b0e04-1dac-4251-8614-dfd7623e21cc', node_type=<ObjectType.TEXT: '1'>, metadata={}, hash='bbc1dc68f112838530cdda5199a7f6779396cdfccb65a87d5dc914dc78bbfa8c')}, text='Cộng thêm với việc ông nghĩ rằng đó là huyết mạch của anh trai Trần Liễu, Thái Tông đã đã sai người vây phủ Nhân Đạo Vương, xông thẳng tới hoa viên vắng lặng, vào phòng công chúa Thiên Thành để áp giải, thực chất là hộ tống, Trần Quốc Tuấn ra ngoài một cách an toàn. Đến lúc đó, cả phủ Nhân Đạo Vương mới ngỡ ngàng nhận ra Trần Quốc Tuấn đã vào phủ \"tư thông\" với công chúa Thiên Thành.\\n\\nViệc công chúa \"tư thông\" với nam tử khác ngay trong phủ sắp cưới là điều không thể chấp nhận được. Hôm sau, Thụy Bà công chúa đã nhanh tay hỏi cưới công chúa Thiên Thành cho cháu trai mình, với sinh lễ là 10 mâm vàng sống và nói \"vì vội quá nên không sắm đủ lễ vật, mong hoàng thượng nhận cho\". Trước chuyện đã rồi, Trần Thái Tông đành xuống chiếu gả Thiên Thành công chúa cho Trần Quốc Tuấn và ngậm ngùi cắt 2.000 khoảnh ruộng tốt ở huyện Ứng Thiên để \"an ủi\" Nhân Đạo Vương.\\n\\nCuối cùng Trần Quốc Tuấn chàng đã lấy được thanh mai trúc mã mà ông yêu bấy lâu. Hai vợ chồng chàng đã có một cuộc sống êm ấm, hạnh phúc, sinh được bốn trai, một gái. Bốn người con trai ai cũng không phụ danh tiếng người cha, đều là những danh tướng lẫy lừng nhà Trần. Người con gái út sau này trở thành Bảo Thánh Hoàng Hậu Trần Trinh, vợ vua Trần Nhân Tông, mẹ đẻ vua Trần Anh Tông.', mimetype='text/plain', start_char_idx=3982, end_char_idx=5232, text_template='{metadata_str}\\n\\n{content}', metadata_template='{key}: {value}', metadata_seperator='\\n')]"
            ]
          },
          "metadata": {},
          "execution_count": 88
        }
      ]
    },
    {
      "cell_type": "code",
      "source": [
        "KG_TRIPLET_EXTRACT_TMPL = \"\"\"\n",
        "-Goal-\n",
        "Given a text document, identify all entities and their entity types from the text and all relationships among the identified entities.\n",
        "Given the text, extract up to {max_knowledge_triplets} entity-relation triplets.\n",
        "\n",
        "-Steps-\n",
        "1. Identify all entities. For each identified entity, extract the following information:\n",
        "- entity_name: Name of the entity, capitalized\n",
        "- entity_type: Type of the entity\n",
        "- entity_description: Comprehensive description of the entity's attributes and activities\n",
        "Format each entity as (\"entity\"$$$$<entity_name>$$$$<entity_type>$$$$<entity_description>)\n",
        "\n",
        "2. From the entities identified in step 1, identify all pairs of (source_entity, target_entity) that are *clearly related* to each other.\n",
        "For each pair of related entities, extract the following information:\n",
        "- source_entity: name of the source entity, as identified in step 1\n",
        "- target_entity: name of the target entity, as identified in step 1\n",
        "- relation: relationship between source_entity and target_entity\n",
        "- relationship_description: explanation as to why you think the source entity and the target entity are related to each other\n",
        "\n",
        "Format each relationship as (\"relationship\"$$$$<source_entity>$$$$<target_entity>$$$$<relation>$$$$<relationship_description>)\n",
        "\n",
        "3. When finished, output.\n",
        "\n",
        "-Real Data-\n",
        "######################\n",
        "text: {text}\n",
        "######################\n",
        "output:\"\"\""
      ],
      "metadata": {
        "id": "mtmEkC_TvAkM"
      },
      "execution_count": null,
      "outputs": []
    },
    {
      "cell_type": "markdown",
      "source": [
        "```Pattern này sẽ khớp với một chuỗi có định dạng (entity$$$$value1$$$$value2$$$$value3), trong đó value1, value2, và value3 là các giá trị của entity.```"
      ],
      "metadata": {
        "id": "rD3K928KwKuv"
      }
    },
    {
      "cell_type": "code",
      "source": [
        "entity_pattern = r'\\(\"entity\"\\$\\$\\$\\$\"(.+?)\"\\$\\$\\$\\$\"(.+?)\"\\$\\$\\$\\$\"(.+?)\"\\)'"
      ],
      "metadata": {
        "id": "gqiTulUwwSNk"
      },
      "execution_count": null,
      "outputs": []
    },
    {
      "cell_type": "markdown",
      "source": [
        "```Pattern này sẽ khớp với một chuỗi có định dạng (relationship$$$$value1$$$$value2$$$$value3$$$$value4), trong đó value1, value2, value3, và value4 là các giá trị của relationship.```"
      ],
      "metadata": {
        "id": "ToDq2oK6wVlX"
      }
    },
    {
      "cell_type": "code",
      "source": [
        "relationship_pattern = r'\\(\"relationship\"\\$\\$\\$\\$\"(.+?)\"\\$\\$\\$\\$\"(.+?)\"\\$\\$\\$\\$\"(.+?)\"\\$\\$\\$\\$\"(.+?)\"\\)'"
      ],
      "metadata": {
        "id": "_evJB68KwaE0"
      },
      "execution_count": null,
      "outputs": []
    },
    {
      "cell_type": "code",
      "source": [
        "def parse_fn(response_str: str) -> Any:\n",
        "    # Tìm tất cả các entities trong response_str sử dụng entity_pattern\n",
        "    entities = re.findall(entity_pattern, response_str)\n",
        "\n",
        "    # Tìm tất cả các relationships trong response_str sử dụng relationship_pattern\n",
        "    relationships = re.findall(relationship_pattern, response_str)\n",
        "\n",
        "    # Trả về danh sách các entities và relationships\n",
        "    return entities, relationships\n",
        "\n",
        "\n",
        "\n",
        "kg_extractor = GraphRAGExtractor(\n",
        "    llm=llm,  # Sử dụng LLM đã được định nghĩa trước đó\n",
        "    extract_prompt=KG_TRIPLET_EXTRACT_TMPL,  # Sử dụng prompt template để trích xuất các triplet\n",
        "    max_paths_per_chunk=2,  # Đặt số lượng đường dẫn tối đa mỗi chunk là 2\n",
        "    parse_fn=parse_fn,  # Sử dụng hàm parse_fn để phân tích kết quả trả về\n",
        ")\n"
      ],
      "metadata": {
        "id": "AXnCHANXvDOU"
      },
      "execution_count": null,
      "outputs": []
    },
    {
      "cell_type": "code",
      "source": [
        "from llama_index.core import PropertyGraphIndex\n",
        "\n",
        "index = PropertyGraphIndex(\n",
        "    nodes=nodes,  # Sử dụng danh sách các nodes đã được định nghĩa trước đó\n",
        "    property_graph_store=GraphRAGStore(),  # Sử dụng GraphRAGStore để lưu trữ đồ thị\n",
        "    kg_extractors=[kg_extractor],  # Sử dụng danh sách các kg_extractor để trích xuất tri thức\n",
        "    show_progress=True,  # Hiển thị tiến trình khi xây dựng index\n",
        ")\n"
      ],
      "metadata": {
        "colab": {
          "base_uri": "https://localhost:8080/"
        },
        "id": "K9l9_fc2vEyZ",
        "outputId": "50e5161a-56f5-4feb-aeb8-62c2377569da"
      },
      "execution_count": null,
      "outputs": [
        {
          "output_type": "stream",
          "name": "stderr",
          "text": [
            "Extracting paths from text: 100%|██████████| 3/3 [00:38<00:00, 12.73s/it]\n",
            "Generating embeddings: 100%|██████████| 1/1 [00:00<00:00,  5.44it/s]\n",
            "Generating embeddings: 100%|██████████| 1/1 [00:00<00:00,  1.59it/s]\n"
          ]
        }
      ]
    },
    {
      "cell_type": "code",
      "source": [
        "list(index.property_graph_store.graph.nodes.values())[1]"
      ],
      "metadata": {
        "colab": {
          "base_uri": "https://localhost:8080/"
        },
        "id": "JrR63wA0yDFA",
        "outputId": "40de1a6b-7e74-467a-fd24-e6dbdc593a93"
      },
      "execution_count": null,
      "outputs": [
        {
          "output_type": "execute_result",
          "data": {
            "text/plain": [
              "ChunkNode(label='text_chunk', embedding=[-0.013993712142109871, -0.027094766497612, 0.01350800134241581, -0.012044306844472885, -0.0032325999345630407, 0.013652401976287365, -0.007882949896156788, -0.014978260733187199, -0.019874747842550278, -0.014124985784292221, 0.03507617115974426, 0.03801668807864189, -0.010377137921750546, -0.02042609453201294, -0.01718364842236042, 0.004016956780105829, 0.03688773885369301, 0.0007133872131817043, 0.0029749765526503325, -0.03103296086192131, 0.01738055795431137, -0.0021446743048727512, -0.012438125908374786, 0.03809545189142227, -0.009622317738831043, 0.011683305725455284, 0.01770874112844467, -0.0175905954092741, 0.015700262039899826, -0.009287571534514427, -0.013074800372123718, 0.0029881037771701813, -0.025283198803663254, -0.0004988377913832664, -0.014426913112401962, -0.007843567989766598, -0.0039053745567798615, -0.004387803375720978, -0.005972926039248705, 0.019047725945711136, 0.022631481289863586, 0.018404487520456314, 0.004689731635153294, 0.01190647017210722, -0.023379739373922348, 0.013055109418928623, -0.03323834761977196, -0.0058547803200781345, -0.002914262702688575, 0.014505676925182343, 0.026320256292819977, 0.02007165737450123, -0.036441411823034286, 0.0041154115460813046, -0.015030769631266594, -0.002753453329205513, -0.02109558694064617, 0.01178176049143076, -0.003856147173792124, -0.01203117985278368, 0.0040924386121332645, 0.004000547807663679, -0.0028272944036871195, 0.010101464577019215, 0.0036067282781004906, -0.018732670694589615, -0.0036231374833732843, -0.01549022551625967, -0.004643785767257214, -0.012825381942093372, 0.02701600268483162, 0.03497115150094032, 0.019914129748940468, 0.0026960212271660566, 0.0210430771112442, -0.03189936280250549, -0.02687160298228264, 0.0034459189046174288, -0.011414195410907269, -0.016369754448533058, 0.004906332120299339, -0.021528787910938263, -0.025939563289284706, 0.007423493545502424, 0.0005706277443096042, 0.0209774412214756, 0.0009098866721615195, 0.032109398394823074, 0.009307262487709522, -0.029772737994790077, 0.021384388208389282, -0.003810201771557331, 0.02109558694064617, 0.03420976921916008, 0.01346861943602562, -0.003895529080182314, -0.022421445697546005, 0.028433753177523613, -0.005917134694755077, -0.010692194104194641, -0.0037215922493487597, -0.014374404214322567, -0.03694025054574013, -0.015201425179839134, -0.022723373025655746, -0.000997675582766533, -0.00595323508605361, -0.014374404214322567, 0.005411733407527208, -0.003306441241875291, -0.015884045511484146, 0.04347765073180199, 0.007141256704926491, -0.039066873490810394, 0.012661290355026722, -0.01682921126484871, -0.0024269113782793283, 0.013225764967501163, -0.0021758514922112226, -0.025992073118686676, 0.004689731635153294, 0.022434571757912636, -0.008723096922039986, -0.00013742652663495392, 0.0033441821578890085, 0.005552852060645819, 0.003055381355807185, -0.009011898189783096, -0.0104559026658535, 1.8492328308639117e-06, 0.032266926020383835, 0.01356051117181778, 0.028249971568584442, 0.022172026336193085, -0.008263641968369484, -0.0022398473229259253, -0.03528621047735214, -0.005995898973196745, -0.015792153775691986, -0.026005201041698456, 0.03783290833234787, 0.004023520275950432, 0.002325174631550908, -0.028670044615864754, 0.01356051117181778, 0.029300155118107796, 0.006675236858427525, 0.01560837123543024, 0.01173581462353468, 0.009471354074776173, 0.03817421570420265, 0.013652401976287365, 0.01367865689098835, 0.012464380823075771, 0.04544674605131149, 0.0073578571900725365, -0.03289703652262688, -0.003990702331066132, 0.00429919408634305, 0.006547245662659407, 0.010764393955469131, 0.01013428345322609, 0.004860386252403259, -0.01696048490703106, 0.026005201041698456, 0.02011103928089142, 0.0021003696601837873, 0.01672419346868992, -0.008119241334497929, -0.03024532087147236, 0.021804461255669594, 0.0017196775879710913, -0.04190237447619438, 0.011643923819065094, 0.008769042789936066, 0.0120180519297719, 0.011847397312521935, -0.0020839604549109936, -0.039329420775175095, -0.007265965919941664, -0.02738356776535511, -0.009812664240598679, 0.04830849915742874, 0.025020651519298553, -0.03056037798523903, 0.005625052377581596, -0.010915357619524002, -0.007745112758129835, 0.024849997833371162, -0.01057404838502407, 0.01178832445293665, 0.007298784330487251, 0.02712102234363556, -0.005096678156405687, -0.6175086498260498, 0.008696842938661575, -0.008906879462301731, -0.0022103108931332827, 0.022040752694010735, -0.00776480371132493, 0.01770874112844467, 0.0073775481432676315, -0.03384220600128174, -0.0044600036926567554, -0.017695613205432892, 0.021292496472597122, 0.01533269789069891, -0.03197812661528587, -0.02100369520485401, -0.016199100762605667, -0.018719544634222984, -0.0019264327129349113, -0.014952005818486214, 0.00150389748159796, 0.016435392200946808, -0.013206074014306068, -0.0169342290610075, 0.018115688115358353, 0.031873106956481934, 0.0277511328458786, 0.010265556164085865, 0.011302613653242588, -0.016146590933203697, -0.006245317403227091, -0.02039983868598938, 0.050172578543424606, -0.006481609307229519, 0.029247645288705826, 0.052824296057224274, 0.0011387941194698215, -0.01753808557987213, 0.02373417653143406, -0.013101055286824703, 0.03197812661528587, 0.0008442500839009881, -0.010462465696036816, 0.02049173042178154, -0.010396829806268215, 0.0002041912084678188, -0.016041573137044907, 0.01766935922205448, -0.0023858884815126657, 0.019743474200367928, 0.004597840365022421, -0.008808424696326256, -0.012169016525149345, 0.0042630936950445175, 0.02746233157813549, -0.022093262523412704, -0.0007416930166073143, 0.036310140043497086, -0.03037659451365471, 0.012569399550557137, -0.0001884999655885622, -0.004131820984184742, 0.01707863062620163, 0.01752495765686035, -0.008939698338508606, -0.028827572241425514, 0.028407499194145203, -0.01189990621060133, -0.0033376184292137623, 0.011171340942382812, 0.0025483390782028437, 0.012280598282814026, -0.004614249337464571, -0.0018460279097780585, 0.001316833309829235, 0.022959664463996887, 0.015949681401252747, 0.03812170773744583, 0.02074114978313446, 0.010869412682950497, 0.021082459017634392, -0.014610695652663708, -0.03163681551814079, -0.00344920065253973, 0.019297145307064056, 0.012530017644166946, -0.025388216599822044, -0.03048161417245865, -0.0007002599304541945, 0.011460141278803349, -0.014794478192925453, -0.02079365961253643, 0.009970191866159439, -0.0201898030936718, 0.012201834470033646, 0.011532342061400414, 0.04350390285253525, -0.02001914754509926, -0.018273215740919113, 0.015818407759070396, -0.008920007385313511, 0.0042630936950445175, -0.004633940290659666, -0.032581981271505356, -0.0045814309269189835, 0.018483251333236694, 0.02089867740869522, -0.021358132362365723, 0.005723507143557072, 0.07456311583518982, -0.024849997833371162, -0.003166963579133153, -0.0036264192312955856, 0.01766935922205448, 0.007088747341185808, -0.0023908112198114395, -0.0063634635880589485, 0.019782856106758118, 0.02412799559533596, 0.009077535010874271, -0.009904555045068264, -0.004545331001281738, 0.016185972839593887, 0.015634626150131226, -0.011611105874180794, 0.02407548576593399, 0.03536497429013252, -0.00689840130507946, -0.03153179958462715, -0.011394504457712173, 0.014269385486841202, 0.005529879126697779, -0.014912623912096024, 0.026097090914845467, -0.017984414473176003, 0.025309452787041664, -0.015674008056521416, 0.028565026819705963, -0.003207986243069172, 0.013731165789067745, -0.0104559026658535, -0.011919597163796425, 0.016369754448533058, 0.016304118558764458, 0.013120746240019798, -0.007751676253974438, -0.014387531206011772, -0.0105215385556221, -0.024928761646151543, -0.03764912486076355, 0.015306442975997925, 0.002912621945142746, -0.010856284759938717, -0.02387857623398304, -0.021935734897851944, 0.0035279644653201103, 0.01226747129112482, -0.010652812197804451, -0.01690797507762909, -0.0013143719406798482, -0.032188162207603455, -0.0025549025740474463, 0.021331878378987312, -0.01664542965590954, 0.001408724463544786, 0.004873513709753752, -0.02005852945148945, -0.015962809324264526, 0.016330372542142868, 0.0016425546491518617, -0.031951870769262314, 0.011617668904364109, -0.036231376230716705, -0.0019641737453639507, 0.018141942098736763, 0.007128129247575998, 0.006383154541254044, -0.018955836072564125, -0.03077041357755661, 0.01541146170347929, -0.00258279824629426, -0.0014177494449540973, -0.016107209026813507, -0.019034599885344505, -0.018325723707675934, 0.009497608989477158, -0.004978532437235117, -0.018312597647309303, 0.018982090055942535, 0.0007884590304456651, 0.009372899308800697, -0.007574457675218582, -0.0013939562486484647, -0.004932586569339037, -0.02009791135787964, 0.022592099383473396, -0.008303023874759674, 0.01032462902367115, 0.03507617115974426, -0.009451663121581078, 0.01207056175917387, -0.007298784330487251, 0.012004924938082695, 0.0016950638964772224, 0.0022398473229259253, 0.005605361424386501, -0.01379680261015892, 0.006271572317928076, 0.0016245045699179173, 0.01667168363928795, -0.02782989665865898, -0.0033294139429926872, -0.021607551723718643, -0.028460007160902023, -0.03814796358346939, 0.0353124625980854, 0.039513204246759415, 0.01672419346868992, -0.0013324219034984708, 0.003911938518285751, -0.004981813952326775, -0.011617668904364109, -0.03405224159359932, -0.015818407759070396, 0.009491045027971268, -0.011348559521138668, 0.009458227083086967, -0.021253114566206932, 0.004666758701205254, 0.009970191866159439, -0.013665529899299145, -0.015660880133509636, 0.0068721468560397625, -0.021161222830414772, 0.019848491996526718, 0.029352664947509766, 0.006012307945638895, 0.018706416711211205, -0.015582116320729256, -0.007220020517706871, -0.008611515164375305, 0.009819227270781994, 0.013002600520849228, 0.003908656537532806, 0.0007946124533191323, 0.0015884045278653502, 0.019546564668416977, 0.0029306719079613686, 0.026477783918380737, -0.0016138385981321335, 0.028722554445266724, -0.0003043894830625504, 0.016396010294556618, -0.029720230028033257, -0.015910299494862556, 0.018181324005126953, -0.03801668807864189, -0.0003400793648324907, 0.02021605707705021, 0.025256944820284843, 0.025887055322527885, 0.013704911805689335, -0.00874278787523508, -0.011466705240309238, 0.0020593467634171247, 0.03090168721973896, 0.023222211748361588, 0.03378969430923462, -0.009943936951458454, -0.021896352991461754, 0.001978941960260272, 0.0018755643395707011, -0.009806100279092789, 0.008644333109259605, -0.0068918378092348576, 0.022526463493704796, -0.015516480430960655, -0.004584712907671928, -0.01190647017210722, 0.0011748942779377103, -0.002380965743213892, -0.021778207272291183, -0.03394722193479538, 0.015726517885923386, 0.036467667669057846, 0.005713661666959524, -0.0051130871288478374, -0.023090938106179237, 0.014466295018792152, -0.007495693862438202, 0.023222211748361588, -0.011197594925761223, -0.01760372333228588, 0.023025302216410637, -0.0336059145629406, -0.016422264277935028, -0.011131959035992622, 0.033107075840234756, 0.0016647069714963436, 0.011164776980876923, -0.010711885057389736, 0.01008177362382412, -0.010626557283103466, -0.03809545189142227, -0.014650077559053898, 0.036178864538669586, -0.012254343368113041, -0.03126925230026245, -0.0009008616325445473, 0.025847673416137695, -0.01556898932904005, -0.03686148673295975, -0.006563655100762844, -0.015280188992619514, -0.01556898932904005, -0.005546288564801216, -0.012319980189204216, -0.03541748225688934, 0.035995084792375565, 0.022736500948667526, -0.012602217495441437, -0.002474498003721237, -0.015595244243741035, -0.006445508915930986, -0.0005538084078580141, 0.08527500182390213, -0.004161357413977385, 0.006491454783827066, 0.014781351201236248, -0.011512651108205318, -0.001978941960260272, -0.007869821973145008, -0.042401209473609924, 0.03098045103251934, 0.022815264761447906, 0.016277864575386047, -0.007272529415786266, 0.006461918354034424, 0.008217696100473404, 0.03560126572847366, 0.008125804364681244, 0.017879396677017212, -0.022972792387008667, 0.0063175177201628685, 0.03056037798523903, 0.008447423577308655, 0.01205743383616209, 0.01371803879737854, 0.0013619583332911134, -0.024955015629529953, -0.01391494832932949, 0.022080134600400925, 0.014518804848194122, 0.010764393955469131, -0.01697361096739769, -0.003944756463170052, -0.0033966912887990475, 0.011808015406131744, 0.009740463458001614, -0.011617668904364109, 0.013173255138099194, -0.010350883938372135, 0.010626557283103466, -0.0016146590933203697, -0.0017508548917248845, 0.02096431329846382, 0.017734995111823082, 0.0034393551759421825, -0.015385206788778305, 0.006793382577598095, -0.014348149299621582, -0.008204568177461624, 0.0010944894747808576, -0.025532618165016174, 0.010068646632134914, 0.05896787717938423, -0.026254620403051376, -0.03455108031630516, -0.032503217458724976, 0.03029783070087433, -0.005798988975584507, -0.009261316619813442, 0.011394504457712173, 0.004807877354323864, 0.03462984412908554, -0.004981813952326775, -0.025782035663723946, 0.009077535010874271, -0.012392180040478706, 0.019270891323685646, -0.024876251816749573, -0.03441980481147766, 0.003675646847113967, 0.003143990645185113, -0.015358952805399895, -0.01217557955533266, -0.008939698338508606, 0.0007019008626230061, -0.010508411563932896, 0.006645700428634882, 0.00855244230479002, 0.02704225853085518, 0.002098728669807315, 0.019205253571271896, -0.002113496884703636, -0.011125395074486732, -0.04497416317462921, -0.016369754448533058, -0.03147928789258003, 0.00097552320221439, -0.007174074649810791, 0.03402598574757576, -0.00295692658983171, -0.009543553926050663, -0.006773691624403, 0.0058318073861300945, 0.01764310523867607, -1.4357995496538933e-05, 0.001436620019376278, -0.004482976160943508, -0.0053001511842012405, -0.005677561275660992, -0.00439436687156558, -0.001637631910853088, 0.012700672261416912, 0.02361603081226349, -0.015870917588472366, 0.0017278821906074882, -0.014702587388455868, -0.008572133257985115, -0.0009500890737399459, 0.011394504457712173, 0.0008126625325530767, -0.015949681401252747, -0.004880077205598354, 0.02053111232817173, -0.021896352991461754, -0.0047947498969733715, -0.006704773288220167, -0.013849311508238316, 0.012562835589051247, -0.0023760430049151182, 0.019730346277356148, 0.010665939189493656, 0.003052099607884884, -0.02038671262562275, -0.03105921484529972, 0.014256258495151997, -0.007128129247575998, -0.008053604513406754, 0.013422674499452114, 0.0022628200240433216, -0.01529331598430872, 0.03168932721018791, 0.004496103618294001, 0.019546564668416977, 0.022342681884765625, 0.03820047155022621, 0.008329277858138084, 0.001444824505597353, -0.009497608989477158, -0.018404487520456314, 0.004975250456482172, 0.005894162226468325, -0.008939698338508606, -0.019336527213454247, -0.032529473304748535, -0.02698974870145321, -0.032214418053627014, 0.0011494600912556052, -0.02374730259180069, 0.002595925470814109, -0.006793382577598095, -0.009064407087862492, -0.000757281668484211, -0.025703271850943565, -0.03389471396803856, -0.03029783070087433, 0.005027759820222855, -0.008729660883545876, -0.026490911841392517, -0.011341995559632778, -0.0021167786326259375, 0.011322304606437683, -0.015148915350437164, 0.017892522737383842, -0.01760372333228588, 0.028328735381364822, -0.0008475319482386112, -0.01728866621851921, 0.011191031895577908, -0.022631481289863586, -0.021961988881230354, -0.022053880617022514, 0.006970601622015238, -0.0012118148151785135, 0.03158430755138397, 0.02067551203072071, 0.014689459465444088, -0.006123890168964863, 0.046260640025138855, -0.0029881037771701813, -0.024600578472018242, 0.004630658309906721, -0.059913042932748795, -0.00851306039839983, -0.013357037678360939, -0.010383701883256435, -0.0063175177201628685, -0.013888693414628506, -0.01371803879737854, 0.05770765244960785, 0.01665855571627617, 0.011243540793657303, 0.018115688115358353, 0.036546431481838226, -0.0341310054063797, -0.006310954224318266, 0.008047040551900864, -0.015687135979533195, -0.007364420685917139, 0.0004943252424709499, 0.0010190074099227786, 0.015398334711790085, 0.01359989307820797, 0.0033359776716679335, 0.007666348945349455, -0.010698757134377956, -0.003367154859006405, -0.019914129748940468, 0.019415291026234627, -0.03476111590862274, -0.01710488460958004, 0.01395433023571968, -0.010764393955469131, -0.019953511655330658, -0.013862439431250095, 0.00038561472319997847, -0.035785045474767685, 0.001051005208864808, -0.01706550270318985, -0.005477370228618383, 0.005011350382119417, -0.004853822756558657, -0.02748858742415905, -4.056133548147045e-05, 0.008618079125881195, 0.03392096981406212, -0.0041186935268342495, 0.025230688974261284, 0.026477783918380737, -0.01770874112844467, -0.005818679928779602, -0.005257487762719393, 0.015884045511484146, -0.0041351024992764, 0.02406235970556736, 0.028722554445266724, -0.019533436745405197, 0.01745932176709175, 0.014702587388455868, 0.018404487520456314, -0.039066873490810394, -0.02012416534125805, 0.008145495317876339, 0.0024498840793967247, -0.018548889085650444, 0.018522633239626884, -0.026530293747782707, 0.03499740734696388, 0.01703924871981144, -0.009714209474623203, 0.005050732288509607, -0.018693288788199425, -0.032555729150772095, -0.022683991119265556, 0.004830849822610617, 0.004578149411827326, 0.011571723967790604, -0.015844663605093956, -0.012418434955179691, -0.00011547930625965819, -0.03037659451365471, -0.010816902853548527, 0.014400659129023552, -0.022316426038742065, 0.014741969294846058, -0.007889512926340103, 0.005191850941628218, -0.011407632380723953, -0.010895666666328907, -0.00836209673434496, -0.0018181323539465666, -0.004637222271412611, 0.028486263006925583, 0.006501300260424614, 0.02374730259180069, 0.005588951986283064, 0.004732395056635141, 0.0105215385556221, 0.011328868567943573, -0.00585149833932519, -0.014912623912096024, -0.016566665843129158, -0.02067551203072071, -0.0015293315518647432, -0.00027239168412052095, -0.018470125272870064, -0.014505676925182343, 0.0039283474907279015, -0.028512516990303993, -0.025466980412602425, 0.011158213019371033, 0.0025696707889437675, -0.001724600326269865, -0.01226090732961893, 0.001375085674226284, -0.01040995679795742, 0.01677670143544674, -0.015713389962911606, 0.012195270508527756, -0.0202554389834404, 0.021266242489218712, -0.01214276161044836, 0.022894028574228287, -0.001218378427438438, 0.006228908430784941, -0.0008401478407904506, 0.011873651295900345, 0.0085983881726861, -5.9278008848195896e-05, 0.014571313746273518, -0.02395734004676342, -0.007495693862438202, 0.010101464577019215, 0.03696650266647339, -0.008572133257985115, -0.008106113411486149, -0.01173581462353468, 0.002801039721816778, 0.007252838462591171, 0.0049883779138326645, -0.017787504941225052, -0.03502366319298744, 0.015739643946290016, -0.0073775481432676315, -0.004732395056635141, -0.0014940518885850906, -0.013140437193214893, -0.011151649989187717, 0.01513578835874796, 0.01383618451654911, 0.01682921126484871, -0.04413401708006859, 0.016041573137044907, -0.02693723887205124, 0.03121674247086048, -0.008920007385313511, -0.028460007160902023, -0.02410174161195755, 0.0023711202666163445, -0.012392180040478706, 0.005520033650100231, -0.004948996007442474, -0.011919597163796425, 0.01672419346868992, 0.02693723887205124, -0.013494874350726604, 0.004341857507824898, 0.0015605089720338583, 0.01728866621851921, 0.017774377018213272, -0.011309177614748478, -0.017748123034834862, -0.02751484140753746, -0.026727203279733658, 0.0339997336268425, 0.011276358738541603, -0.009891428053379059, 0.018483251333236694, -0.01391494832932949, -0.023156573995947838, 0.02751484140753746, 0.0025729527696967125, 0.01764310523867607, 0.02000601962208748, -0.009300698526203632, 0.003442636923864484, 0.008486805483698845, -0.018811434507369995, 0.007810749113559723, -0.02681909315288067, 0.012845072895288467, -0.00023177906405180693, -0.009287571534514427, -0.008933134377002716, 0.014965132810175419, -0.017813758924603462, 0.004821004346013069, 0.007160947658121586, -0.004361548461019993, -0.007049365434795618, 0.004679886158555746, -0.010265556164085865, 0.013357037678360939, -0.0059794895350933075, 0.005579106509685516, 0.007009983528405428, -0.0027632988058030605, 0.013002600520849228, -0.018483251333236694, 0.00681963749229908, 0.019349655136466026, -0.01375742070376873, -0.04413401708006859, -0.028223715722560883, 0.01723615825176239, 0.0036658013705164194, -0.0026123346760869026, 0.004049775190651417, -0.016041573137044907, 0.005654588807374239, 0.002305483678355813, 0.032844528555870056, -0.003708465024828911, 0.010738139040768147, 0.013967457227408886, 0.005608642939478159, -0.05812772735953331, -0.026097090914845467, 0.009543553926050663, -0.008119241334497929, 0.010797211900353432, -0.0011494600912556052, -0.007837004028260708, 0.02681909315288067, -0.013291400857269764, 0.009366335347294807, -0.006566936615854502, 0.00033495150273665786, 0.014899496920406818, 0.008408041670918465, -0.04124600812792778, 0.015897171571850777, 0.015188297256827354, -0.015358952805399895, 0.0019559692591428757, -0.007128129247575998, -0.02444305084645748, -0.013284837827086449, -0.03355340287089348, -0.0138755664229393, -0.018601397052407265, -0.009346644394099712, 0.018601397052407265, 0.01753808557987213, -0.0235766489058733, -0.024955015629529953, 0.00585149833932519, -0.013402983546257019, 0.016330372542142868, 0.2297804355621338, -0.003728155978024006, -0.01197867002338171, 0.042795028537511826, 0.0023629157803952694, -0.007338166236877441, 0.01697361096739769, 0.028591280803084373, -0.010226174257695675, 0.004535485524684191, -0.028433753177523613, 0.012155888602137566, 0.036441411823034286, 0.0033638731110841036, 0.019599072635173798, -0.029956521466374397, -0.03817421570420265, -0.019940383732318878, 0.004660194739699364, -0.03835799917578697, 0.006885273847728968, 0.002213592641055584, 0.010593739338219166, -0.01044933870434761, 0.02393108606338501, 0.009038153104484081, 0.004955559503287077, -0.00011476140207378194, 0.025401344522833824, 0.0043090395629405975, -0.01749870367348194, -0.013179819099605083, 0.015857789665460587, 0.014636950567364693, -0.0011732532875612378, 0.0044534397311508656, 0.019651582464575768, 0.0039513204246759415, -0.007489130366593599, -0.0030701495707035065, -0.01753808557987213, -0.0070624928921461105, 0.02693723887205124, 0.007108438294380903, -0.009445099160075188, 0.03155805170536041, -0.009576372802257538, -0.0016999866347759962, -0.018929580226540565, 0.0077188583090901375, -0.025545744225382805, -0.012982909567654133, 0.024994397535920143, 0.035575009882450104, 0.004863668233156204, 0.01197867002338171, 0.039355672895908356, -0.0012405307497829199, 0.001663066097535193, 0.021633805707097054, -0.013317655771970749, 0.02081991359591484, -0.021738825365900993, -0.010921921581029892, 0.0010764393955469131, 0.0029470811132341623, -0.016527283936738968, 0.0068262009881436825, 0.02390483021736145, -0.02414112351834774, -0.011492960155010223, 0.005096678156405687, -0.02005852945148945, -0.01757746748626232, -0.013357037678360939, 0.00847367849200964, 0.02394421212375164, -0.003504991764202714, 0.012569399550557137, -0.004955559503287077, -0.003462327877059579, -0.004981813952326775, 0.025204434990882874, -0.015398334711790085, 0.003032408654689789, 0.002952003851532936, 0.01752495765686035, 0.023038428276777267, -0.016238482668995857, 0.02095118723809719, 0.01678982935845852, 0.009241625666618347, -0.012740054167807102, 0.0006227267440408468, 0.003116095205768943, 0.0060057444497942924, 0.0402483306825161, -0.016094081103801727, 0.01008833758533001, -0.007961713708937168, -0.012326544150710106, -0.04429154470562935, 0.029956521466374397, 0.010810339823365211, -0.009983318857848644, -0.0027961169835180044, 0.025112543255090714, 0.012641599401831627, 0.0015760976821184158, -0.02767236903309822, -0.014873242005705833, 0.00195104640442878, -0.011427323333919048, -0.004719268064945936, 0.007265965919941664, 0.025020651519298553, 0.0054478333331644535, -0.03056037798523903, 0.004673322197049856, 0.00863777007907629, 0.005677561275660992, -0.023274719715118408, 0.0018214142182841897, 0.01735430397093296, -0.007817313075065613, -0.025834545493125916, -0.000670723500661552, 0.029011353850364685, 0.01182770635932684, -0.04161357134580612, 0.033868458122015, -0.035837557166814804, -0.0077385492622852325, 0.014256258495151997, -0.009497608989477158, 0.010606866329908371, 0.014531931839883327, -0.006176399067044258, -0.0029913857579231262, -0.000280801352346316, 0.004971968475729227, -0.019756602123379707, 0.026123346760869026, 0.004830849822610617, 0.032214418053627014, 0.0009386026649735868, -0.005218105856329203, -0.014505676925182343, 0.010856284759938717, -0.00129139912314713, -0.026005201041698456, 0.010429647751152515, -0.018378233537077904, -0.02431177720427513, 0.012083688750863075, -0.0008331739227287471, -0.01709175668656826, -0.029720230028033257, -0.007902640849351883, 0.03024532087147236, -0.028906336054205894, 0.019402163103222847, 0.02743607759475708, -0.005693970713764429, -0.012799127027392387, -0.022972792387008667, -0.16424889862537384, 0.009786409325897694, 0.01682921126484871, -0.04022207856178284, -0.0035542191471904516, 0.008821552619338036, 0.03352715075016022, 0.009668263606727123, -0.015201425179839134, -0.02011103928089142, 0.006806510034948587, -0.009025025181472301, -0.03757036104798317, -0.013534256257116795, -0.007850131019949913, 0.006402845494449139, -0.03859429061412811, 0.013147001154720783, 0.029667720198631287, 0.03168932721018791, 0.006038562394678593, 0.016514156013727188, 0.00255982531234622, -0.005395324435085058, 0.002896212739869952, -0.007489130366593599, 0.0009484481415711343, -0.0024662932846695185, -0.0010944894747808576, -0.002425270387902856, -0.009924245998263359, -0.02000601962208748, 0.005352660547941923, -0.0120180519297719, 0.009727336466312408, 0.025992073118686676, -0.029405174776911736, 0.01676357537508011, -0.006163272075355053, 0.028433753177523613, 0.017734995111823082, 0.01035744696855545, 0.014216876588761806, 0.026359638199210167, -0.010757829993963242, 0.03355340287089348, -0.01671106554567814, 0.01508327852934599, 0.02457432448863983, -0.02109558694064617, -0.01338985562324524, -0.03168932721018791, 0.042558737099170685, -0.00603199889883399, 0.0175905954092741, 0.0016056341119110584, 0.016382882371544838, 0.009943936951458454, 0.010554357431828976, -0.003583755576983094, -0.013192946091294289, -0.019126489758491516, 0.015201425179839134, -0.0030110767111182213, -0.0015785590512678027, -0.022342681884765625, 0.0006555450381711125, -0.02005852945148945, -0.03342213109135628, -0.0007113360916264355, -0.013691783882677555, -0.01226747129112482, 0.01516204234212637, -0.0029552855994552374, 0.016080955043435097, 0.014636950567364693, -0.02059674821794033, -0.005759607069194317, 0.012333107180893421, 0.024771234020590782, -0.029536446556448936, 0.015634626150131226, -0.018220705911517143, -0.008821552619338036, -0.002786271506920457, 0.0402483306825161, 0.00678025558590889, 0.011046631261706352, -0.027987424284219742, 0.007082183845341206, 0.018955836072564125, -0.03667770326137543, -0.036283884197473526, -0.012247780337929726, 0.02698974870145321, -0.0014874882763251662, 0.01748557575047016, -0.005401887930929661, -0.006314236205071211, 0.00870340596884489, -0.004732395056635141, 0.0007101054070517421, 0.0037708196323364973, 0.015267061069607735, -0.006212499458342791, 0.005559415556490421, -0.023130320012569427, -0.0037642561364918947, 0.024666214361786842, -0.019152745604515076, 0.007613839581608772, 0.013278273865580559, 0.009497608989477158, 0.026766585186123848, -0.00030890200287103653, 0.014321895316243172, -0.022067008540034294, -0.009281007573008537, 0.011348559521138668, 0.006514427252113819, 0.0628010481595993, -0.001444824505597353, -0.02704225853085518, 0.0333433672785759, -0.02402297779917717, -0.006632573436945677, -0.11341995745897293, -0.03497115150094032, 0.00032941342215053737, 0.010062082670629025, 0.00034725837758742273, 0.014597568660974503, 0.002761657815426588, 0.002015042118728161, -0.004427185282111168, 0.009747027419507504, -0.029326410964131355, -0.049516212195158005, -0.0018132096156477928, -0.00756133021786809, 0.032371945679187775, -0.009254753589630127, 0.005454397294670343, -0.01996663771569729, 0.017826886847615242, 0.01545084360986948, -0.005520033650100231, 0.003465609857812524, 0.009563244879245758, -0.04494790732860565, -0.0119852339848876, -0.02344537526369095, -0.02037358470261097, 0.0171967763453722, 0.008762478828430176, 0.014269385486841202, -0.005208260379731655, -0.006074662785977125, 0.03457733243703842, -0.004194175358861685, -0.02400984987616539, -0.014676332473754883, -0.05040886998176575, 0.008972516283392906, 0.005844934843480587, -0.026766585186123848, 0.009996446780860424, -0.0021807742305099964, 0.01174894254654646, -0.016461646184325218, 0.003186654532328248, -0.010928485542535782, -0.016343500465154648, 0.007889512926340103, 0.010186792351305485, -0.01024586521089077, -0.014466295018792152, -0.01744619384407997, -0.03415726125240326, 0.004030084237456322, 0.03331711143255234, -0.0005074525834061205, 0.018220705911517143, -0.012740054167807102, -0.004821004346013069, 0.013888693414628506, 0.012595653533935547, 0.003997265826910734, -0.011066322214901447, -0.0038364562205970287, 0.0349186435341835, 0.008040477521717548, 0.0029995902441442013, 0.005776016507297754, 0.018443869426846504, -0.007351293694227934, -0.006865582894533873, -0.004522358067333698, -0.02717353031039238, 0.004069466143846512, -0.022027626633644104, -0.0068524559028446674, -0.011958979070186615, -0.016146590933203697, 0.015818407759070396, 0.005096678156405687, -0.012904145754873753, -0.0082702049985528, 0.021712569519877434, -0.0007995351916179061, -0.0068918378092348576, 0.02449556067585945, -0.005201696418225765, -0.006711337249726057, 0.005575824994593859, -0.016264736652374268, -0.02435115911066532, -0.007403802592307329, -0.001724600326269865, -0.022933410480618477, 0.005726788658648729, 0.023287847638130188, 0.0037511286791414022, -0.007987967692315578, 0.004945714026689529, 0.0010403393534943461, -0.015096406452357769, -0.006301108747720718, -0.06768441200256348, 0.008900316432118416, -0.0055167521350085735, 0.011059758253395557, -0.002006837399676442, 0.0075482032261788845, 0.009799536317586899, -0.02687160298228264, -0.022618355229496956, 0.01717052049934864, 0.018168196082115173, 0.03830549120903015, -0.0066785188391804695, -0.011040067300200462, -0.04140353575348854, 0.007082183845341206, 0.025650763884186745, -0.0004775059060193598, 0.000927936693187803, -0.002968412823975086, -0.008611515164375305, -0.0035870373249053955, -0.001959251007065177, -0.006918092258274555, -0.024915633723139763, -0.004758649971336126, 0.03736032545566559, 0.003692055819556117, 0.011650487780570984, -0.014860115014016628, 0.009366335347294807, -0.03058663196861744, -0.004565021954476833, 0.019730346277356148, 0.009779845364391804, -0.02691098488867283, -0.03150554373860359, 0.01668481156229973, 0.013823057524859905, 0.06432382017374039, -0.018706416711211205, -0.018850816413760185, -0.01213619764894247, -0.017892522737383842, 0.003071790561079979, 0.02001914754509926, 0.005011350382119417, 0.006445508915930986, 0.032792020589113235, 0.00437795789912343, 0.01197867002338171, 0.014715714380145073, 0.011663614772260189, 0.012661290355026722, -0.02114809677004814, -0.022119516506791115, 0.01218870747834444, 0.009871737100183964, -0.008184877224266529, -0.01661917380988598, 0.03667770326137543, 0.011709560640156269, 0.02016354724764824, 0.00303569040261209, 0.03675646707415581, -0.04547300189733505, -0.015739643946290016, -0.025480108335614204, -0.0075285122729837894, -0.03533871844410896, -0.0028322171419858932, -0.0019329963251948357, -0.011420759372413158, 0.007364420685917139, -0.02432490512728691, 0.012333107180893421, 0.015595244243741035, -0.011197594925761223, -0.022972792387008667, 0.002244770061224699, 0.009228498674929142, -0.0077188583090901375, -0.03024532087147236, 0.022500209510326385, 0.039618220180273056, 0.005145905539393425, 0.01723615825176239, 0.017826886847615242, 0.0038528654258698225, -0.009622317738831043, 0.004279503133147955, 0.007233147509396076, 0.0086640240624547, -0.0303503405302763, 0.011729251593351364, 0.011880215257406235, -0.010108028538525105, -0.011355122551321983, 0.00768603989854455, 0.008073295466601849, 0.005910571198910475, 0.008086422458291054, 0.012464380823075771, -0.026477783918380737, -0.017866268754005432, 0.00835553277283907, -0.022631481289863586, -0.021371260285377502, 0.008952825330197811, -0.005201696418225765, -0.012641599401831627, 0.009195680730044842, 0.010875975713133812, 0.017918778583407402, -0.01730179414153099, 0.004991659428924322, -0.008920007385313511, -0.009891428053379059, -0.042952556163072586, 0.042873792350292206, 0.0009796255035325885, 0.01755121350288391, 0.01749870367348194, -0.025217562913894653, 0.0273573137819767, -0.016566665843129158, 0.016369754448533058, 0.0016901411581784487, -0.006202653981745243, -0.01521455217152834, -0.010941612534224987, 0.02347162924706936, -0.038961853832006454, -0.010258992202579975, 0.012011488899588585, -0.008854370564222336, 0.0028305761516094208, 0.0037609741557389498, -0.015096406452357769, 0.043057575821876526, 0.0207148939371109, -0.007587585132569075, 0.005523315630853176, 0.004089157097041607, 0.02340599335730076, 0.0006859019631519914, -0.004735677037388086, -0.009445099160075188, 0.008821552619338036, 0.03344838693737984, -0.019126489758491516, 0.007154383696615696, -0.02704225853085518, -0.04066840559244156, 0.01512266043573618, -0.021305624395608902, -0.012490634806454182, -0.015240807086229324, 0.022158898413181305, 0.016133463010191917, -0.01541146170347929, 0.010692194104194641, 0.003147272625938058, -0.0036822103429585695, -0.005657870322465897, 0.029247645288705826, 0.013901821337640285, -0.014216876588761806, -0.014466295018792152, -0.006324081681668758, 0.004341857507824898, -0.01391494832932949, -0.02046547643840313, -0.009668263606727123, 0.01395433023571968, 0.0014891291502863169, -0.017695613205432892, -0.0007416930166073143, 0.02738356776535511, -0.012628472410142422, 0.014059348963201046, -0.02043922059237957, -0.011099140159785748, 0.010718448087573051, -0.0051130871288478374, 0.02118747867643833, 0.0029881037771701813, -0.0017262412002310157], properties={'_node_content': '{\"id_\": \"8e0b0e04-1dac-4251-8614-dfd7623e21cc\", \"embedding\": null, \"metadata\": {}, \"excluded_embed_metadata_keys\": [], \"excluded_llm_metadata_keys\": [], \"relationships\": {\"1\": {\"node_id\": \"3a2ecb93-0a0b-4385-ac48-8304fd0a7682\", \"node_type\": \"4\", \"metadata\": {}, \"hash\": \"2c0bf48c4c796e004ef5432d3a0bc037187f9301aacfc044a58128e222de26e3\", \"class_name\": \"RelatedNodeInfo\"}, \"2\": {\"node_id\": \"f687f047-063b-49f3-bdbd-1fa412a4801a\", \"node_type\": \"1\", \"metadata\": {}, \"hash\": \"6c31e2d1c4ccb39fecf52d0b155f3799c311e0899b7a67d22cd18d6a9348c928\", \"class_name\": \"RelatedNodeInfo\"}, \"3\": {\"node_id\": \"f37267c8-7c18-4ebf-89c2-883c9fb4a021\", \"node_type\": \"1\", \"metadata\": {}, \"hash\": \"4039e77d44d257ca36b345a5a9ba5b578e18170399dec983732255272b380e87\", \"class_name\": \"RelatedNodeInfo\"}}, \"text\": \"\", \"mimetype\": \"text/plain\", \"start_char_idx\": 2008, \"end_char_idx\": 3981, \"text_template\": \"{metadata_str}\\\\n\\\\n{content}\", \"metadata_template\": \"{key}: {value}\", \"metadata_seperator\": \"\\\\n\", \"class_name\": \"TextNode\"}', '_node_type': 'TextNode', 'document_id': '3a2ecb93-0a0b-4385-ac48-8304fd0a7682', 'doc_id': '3a2ecb93-0a0b-4385-ac48-8304fd0a7682', 'ref_doc_id': '3a2ecb93-0a0b-4385-ac48-8304fd0a7682'}, text='Trước đó, nhà vua cũng cho Thiên Thành công chúa về ở vương phủ cha của Trung Thành Vương để chờ ngày làm lễ ăn hỏi.\\n\\nTrong khi cả kinh thành đang tưng bừng với những trò chơi và lễ hội, ở vương phủ Trần Quốc Tuấn chỉ cần nghĩ đến việc ngày mai, người con gái mình yêu thương sẽ trở thành vợ người khác thì tâm tư của chàng càng đau đớn. Chàng trằn trọc suốt đêm không ngủ cuối cùng chàng đưa ra quyết định táo bạo đó chính là đột nhập vào phủ Nhân Đạo Vương, cướp vợ về.\\n\\nNghĩ là làm, trong đêm tối, nhân lúc mọi người còn đang say mê với lễ hội, Trần Quốc Tuấn lẻn vào phủ Nhân Đạo Vương. Biết không thể theo vào bằng cửa chính, chàng đã tìm cách trèo tường, vượt qua hàng toán lính tuần tra, dò trong đêm đen và tìm được chính xác phòng công chúa.\\n\\nTrái tim đau khổ của Thiên Thành sống lại lần nữa khi thấy người tình trong mộng xuất hiện trước mặt mình. Khi ấy, cả phủ Nhân Đạo Vương vẫn đang say trong lễ hội, không ai biết, trong phòng công chúa, đôi uyên ương đã gặp lại nhau. Thế nhưng, sự liều lĩnh này của Trần Quốc Tuấn sẽ trở thành thảm án nếu sự vụ bị bại lộ. Và nếu như chuyện không bại lộ, thì hôm sau công chúa Thiên Thành phải kết hôn với con trai của Nhân Đạo Vương. Để tránh khỏi tai ương đó, Trần Quốc Tuấn đã đi tiếp một bước cờ cao minh, đó chính là dồn nhà vua vào thế sự đã rồi.\\n\\nNgay sau khi đột nhập thành công vào phòng công chúa, việc đầu tiên Trần Quốc Tuấn làm là ra lệnh cho thị nữ của công chúa về báo cho Thụy Bà công chúa, mẹ nuôi của chàng, Sau khi nhận được tin báo, Thụy Bà công chúa vào cung ngay lập tức và than khóc với Thái Tông: \"Không ngờ Quốc Tuấn càn rỡ đang đêm lẻn vào chỗ của Thiên Thành. Nhân Đạo Vương đã bắt giữ hắn rồi, e sẽ giết hắn mất. Xin bệ hạ rủ lòng thương, sai người đến cứu\".\\n\\nLời nói của Thụy Bà công chúa như sét đánh ngang tai nhà vua, Trần Thái Tông tức Cảnh lúc bấy giờ đã nhận đủ lễ vật của Nhân Đạo Vương, sao có thể để Trần Quốc Tuấn cả gan làm loạn như vậy? Thụy Bà công chúa tiếp tục kiên trì van xin.', id_='8e0b0e04-1dac-4251-8614-dfd7623e21cc')"
            ]
          },
          "metadata": {},
          "execution_count": 108
        }
      ]
    },
    {
      "cell_type": "code",
      "source": [
        "index.property_graph_store.graph.nodes"
      ],
      "metadata": {
        "colab": {
          "base_uri": "https://localhost:8080/"
        },
        "id": "q_CPglDwIMDY",
        "outputId": "821401aa-d67c-4589-ab52-73f8c2e5c469"
      },
      "execution_count": null,
      "outputs": [
        {
          "output_type": "execute_result",
          "data": {
            "text/plain": [
              "{'f687f047-063b-49f3-bdbd-1fa412a4801a': ChunkNode(label='text_chunk', embedding=[-0.033750951290130615, -0.018016060814261436, 0.030018126592040062, -0.014710955321788788, -0.011042937636375427, 0.006107962690293789, -0.02042684331536293, 0.003891598666086793, -0.025753892958164215, -0.02711481973528862, 0.011736361309885979, 0.03022550605237484, -0.01300007849931717, -0.009967158548533916, -0.020750872790813446, 0.011924298480153084, 0.028566472232341766, 0.0009599384502507746, 0.00255497545003891, -0.022345099598169327, 0.0022795500699430704, 0.002122395671904087, -0.024548502638936043, 0.033673182129859924, -0.02081567794084549, 0.026039039716124535, 0.018495624884963036, -0.011379928328096867, 0.011347525753080845, -0.015371976420283318, -0.0010077328188344836, 0.0019506597891449928, -0.019234413281083107, 0.002310332842171192, -0.023874519392848015, -0.001968481345102191, 0.004358201753348112, 0.0011810888536274433, 0.004977098666131496, 0.008165552280843258, 0.0339064858853817, 0.02514471672475338, 0.014218430034816265, 0.005281686782836914, -0.024133743718266487, 0.015034985728561878, -0.01988247223198414, -0.004296635743230581, 0.007802639156579971, 0.024729959666728973, 0.01734207756817341, 0.028385015204548836, -0.03551367297768593, 0.0042642331682145596, -0.019351063296198845, -0.013855516910552979, -0.02098417468369007, 0.020582376047968864, -0.006282939109951258, -0.017756836488842964, -0.004413286689668894, 0.016408871859312057, -0.005544150713831186, -0.010129173286259174, -0.006785185541957617, -0.01247514970600605, -0.0021159150637686253, -0.0018113269470632076, -0.005942707881331444, -0.013531487435102463, 0.018003098666667938, 0.02768511138856411, 0.02129524201154709, 0.005758010782301426, 0.03406202048063278, -0.021139707416296005, -0.030640263110399246, -0.005984831601381302, -0.02882569655776024, 0.004283674992620945, 0.014425809495151043, -0.03528037294745445, -0.02561132051050663, -0.012902868911623955, 0.008366450667381287, 0.020180579274892807, 0.007012006361037493, 0.03725047409534454, 0.0026278821751475334, -0.028773851692676544, -0.00255497545003891, 0.0029421912040561438, 0.013116728514432907, 0.020012084394693375, -0.00592974666506052, -0.005945947952568531, -0.015242364257574081, 0.019636210054159164, -0.01732911728322506, -0.015864502638578415, -0.013440758921205997, -0.015696005895733833, -0.036576490849256516, -0.015125714242458344, -0.038468826562166214, -0.0037295836955308914, -0.0005504457512870431, -0.007439725566655397, 0.0026602852158248425, -0.007284191437065601, -0.010518009774386883, 0.02636306919157505, -0.00039612650289200246, -0.043549612164497375, 0.0027882768772542477, -0.013842555694282055, 0.011049418710172176, 0.004134621005505323, 0.02242286689579487, -0.01636998914182186, 0.019701015204191208, 0.019739899784326553, -0.01441284827888012, 0.004698432981967926, 0.014957218430936337, 0.01846970245242119, -0.0006553503917530179, -0.0008291114354506135, -0.012779737822711468, 0.0028060986660420895, 0.03823552280664444, 0.015333092771470547, 0.02986259199678898, 0.010336552746593952, -0.002906547859311104, 0.032999202609062195, -0.045416027307510376, 0.0007440535700879991, -0.0230709258466959, -0.021917380392551422, 0.03079579770565033, 0.002804478397592902, -0.010893884114921093, -0.035928431898355484, 0.01940290816128254, 0.02060829848051071, 0.003313205437734723, 0.016447756439447403, 0.009863468818366528, 0.016045959666371346, 0.04259048402309418, 0.013544448651373386, 0.017575379461050034, 0.01751057431101799, 0.044016215950250626, 0.009072836488485336, -0.022811701521277428, -0.0010198840172961354, -0.026674138382077217, -0.01167155522853136, -0.019610287621617317, 0.001405479502864182, 0.0038300328887999058, -0.017069892957806587, 0.026777828112244606, 0.018404895439743996, 0.012598280794918537, 0.018612274900078773, -0.011626191437244415, -0.03538406267762184, 0.019804704934358597, 0.006185729987919331, -0.02251359447836876, -0.001137344865128398, 0.016084842383861542, 0.021502621471881866, 0.022189565002918243, -0.0016039478359743953, -0.037043094635009766, -0.01411474123597145, -0.02646675892174244, -0.0031965544912964106, 0.03445085510611534, 0.030069971457123756, -0.02804802544414997, 0.010518009774386883, -0.020465726032853127, -0.0008473381167277694, 0.03087356500327587, -0.026220496743917465, 0.006237574853003025, 0.00590706430375576, 0.021489661186933517, 0.0025646963622421026, -0.6184045076370239, -0.012397382408380508, -0.01181412860751152, -0.00020606274483725429, 0.0221117977052927, -0.019052956253290176, 0.032532598823308945, 0.02269505150616169, -0.020945290103554726, -0.01846970245242119, -0.016603291034698486, 0.0296552125364542, 0.028488704934716225, -0.026479721069335938, -0.023680102080106735, -0.0202324241399765, -0.011878934688866138, -0.008709922432899475, 0.005035424139350653, -0.0018194277072325349, 0.013337069191038609, -0.004102217964828014, -0.009688492864370346, 0.014101780019700527, 0.012786217965185642, 0.019247373566031456, 0.012364979833364487, 0.020867522805929184, -0.011561385355889797, 0.0016120485961437225, -0.02986259199678898, 0.046167775988578796, 0.0037328239995986223, 0.009921794757246971, 0.05021166801452637, -0.007517492864280939, -0.021826650947332382, 0.0385725162923336, -0.01837897300720215, 0.022669129073619843, -0.005521468818187714, -0.0019036754965782166, 0.008074823766946793, -0.006315342150628567, 0.000690588669385761, -0.017458729445934296, 0.01893630437552929, -0.01181412860751152, 0.0007148908916860819, -0.012701970525085926, -0.005761250853538513, 0.000622137333266437, 0.01097813155502081, 0.012637164443731308, -0.03802814334630966, -0.0169662032276392, 0.02099713496863842, -0.04933030530810356, 0.009805143810808659, 0.008917301893234253, -0.007219385355710983, 0.024989182129502296, 0.018054943531751633, -0.009137642569839954, -0.015255325473845005, 0.03844290226697922, -0.03844290226697922, 0.008554388768970966, -0.0010190738830715418, 0.004892850760370493, -0.0044910539872944355, 0.005343252327293158, -0.005427500233054161, -0.0006249725702218711, 0.01827528513967991, 0.03458046540617943, 0.03551367297768593, 0.007161059882491827, 0.007679507602006197, 0.021813690662384033, -0.018793731927871704, -0.009636647999286652, 0.006117683835327625, 0.01797717623412609, 0.02033611387014389, -0.030277350917458534, -0.0395575650036335, 0.008094266057014465, -0.002430223859846592, -0.023576412349939346, -0.005391857121139765, -0.016875475645065308, -0.020193541422486305, -0.005803375039249659, 0.00734251644462347, 0.052026234567165375, -0.007251788396388292, -0.015086830593645573, 0.0023475964553654194, -0.018340090289711952, 0.009357982315123081, -0.0007667356403544545, -0.018508585169911385, -0.01806790567934513, 0.0015885564498603344, 0.04536418244242668, -0.04038708284497261, -0.0007796968566253781, 0.06506519764661789, -0.01854746975004673, -0.01247514970600605, 0.009228370152413845, 0.0038008703850209713, 0.016538484022021294, 0.01534605398774147, -0.008217397145926952, 0.016421834006905556, 0.03473600000143051, 0.017743874341249466, -0.017847564071416855, -0.013738865964114666, -0.004533177707344294, 0.015566394664347172, -0.00865807756781578, 0.012112236581742764, 0.032351139932870865, -0.02401709370315075, -0.02804802544414997, -0.012559397146105766, 0.008871937170624733, 0.002694308292120695, 0.000791847996879369, 0.03476192429661751, -0.005868180654942989, 0.024600347504019737, -0.025727970525622368, 0.023213500156998634, 0.001217542216181755, -0.009720895439386368, -0.011891895905137062, -0.02316165529191494, -0.0018226680113002658, 0.012118716724216938, 0.013492603786289692, 0.005210400093346834, -0.007523973472416401, -0.002292511286213994, -0.01837897300720215, -0.029784824699163437, 0.015333092771470547, -0.00023674432304687798, -0.007705430034548044, -0.014335080981254578, -0.01511275302618742, 0.00543722091242671, 0.01950659789144993, -0.021023057401180267, -0.024924376979470253, 0.015047946944832802, -0.037431929260492325, -0.005848738830536604, 0.013285224325954914, -0.012585319578647614, 0.0019133962923660874, 0.010031964629888535, -0.022902430966496468, -0.015138675458729267, 0.017445767298340797, -0.0010231243213638663, -0.031495701521635056, 0.005881141871213913, -0.02505398914217949, -0.0017789239063858986, 0.03240298479795456, 0.005213640630245209, 0.000607555964961648, 0.0019247373566031456, -0.030925409868359566, 0.032169684767723083, -0.0056024761870503426, -0.0010522869415581226, -0.015605278313159943, -0.023381995037198067, -0.017355039715766907, 0.011729881167411804, 0.003888358362019062, -0.0011365347309038043, 0.004536418244242668, 0.006347745191305876, 0.012773256748914719, -0.014127702452242374, 0.002256867941468954, -0.02505398914217949, -0.016642173752188683, 0.010906845331192017, 0.01592930778861046, -0.00417026411741972, 0.04808603227138519, 0.0074721286073327065, 0.006869432982057333, -0.0020478686783462763, 0.00098262052051723, 0.0160200372338295, -0.010031964629888535, 0.003891598666086793, -0.025935349985957146, -0.0034411970991641283, 0.003703661262989044, 0.03898727148771286, -0.029033076018095016, 0.004828045144677162, -0.0059653897769749165, -0.02588350512087345, -0.04199426993727684, 0.02561132051050663, 0.04134621098637581, 0.013103767298161983, 0.006419031415134668, -0.0018955747364088893, 0.006325062830001116, 0.001149495947174728, -0.02786656841635704, -0.01351852621883154, 0.007174021098762751, -0.012390902265906334, 0.009396865963935852, -0.024081898853182793, 0.001238604192622006, 0.0040536136366426945, -0.020012084394693375, -0.023420877754688263, 0.003625894198194146, -0.025818699970841408, 0.01265660673379898, 0.017497612163424492, 0.026985207572579384, 0.009286696091294289, -0.0067268600687384605, 0.017653146758675575, -0.00010262633441016078, 0.02758142165839672, 0.005103470291942358, 0.012831582687795162, -0.008502543903887272, 0.024043016135692596, 0.009921794757246971, 0.0038753971457481384, 0.023135732859373093, 0.005702925380319357, 0.023680102080106735, 0.013324107974767685, 0.033647261559963226, -0.010006042197346687, -0.020089851692318916, 0.018962226808071136, -0.03680979087948799, 0.022863546386361122, 0.013777749612927437, -0.003817071672528982, 0.023394955322146416, 0.02797025814652443, -0.016214454546570778, -0.02721850760281086, 0.006947200279682875, 0.027088897302746773, 0.01677178591489792, 0.03284366801381111, -0.015592317096889019, -0.03051065094769001, -0.002843362046405673, 0.011269758455455303, -0.0065162405371665955, 0.0055117481388151646, -0.005197438877075911, 0.006649092771112919, -0.00515855522826314, 0.0006225424003787339, -0.013738865964114666, -0.0007452686550095677, 0.01846970245242119, -0.014775761403143406, -0.03652464598417282, 0.032532598823308945, 0.03963533416390419, 0.010971651412546635, -0.005502026993781328, -0.016253337264060974, -0.004529937636107206, -0.032169684767723083, 0.02833317033946514, 0.004695192910730839, -0.029447833076119423, 0.020310191437602043, -0.02562428079545498, -0.01994727924466133, -0.014697994105517864, 0.04583078250288963, -0.012708451598882675, 0.010414320044219494, -0.010822596959769726, 0.013103767298161983, -0.004128140397369862, -0.024626269936561584, -0.011865973472595215, 0.02091936767101288, 0.0008586791227571666, -0.032065995037555695, 0.0023605574388056993, 0.019817667081952095, -0.022267332300543785, -0.015009063296020031, -0.009805143810808659, -0.015177559107542038, -0.006451434455811977, -0.0035870105493813753, -0.0001013605942716822, -0.020193541422486305, 0.02343383990228176, 0.010867961682379246, -0.01910480111837387, -0.005660801660269499, -0.016123725101351738, -0.019376985728740692, -0.010582814924418926, 0.0639764592051506, -0.007685988210141659, -0.0004123279941268265, 0.003703661262989044, -0.014101780019700527, -0.015696005895733833, -0.008223878219723701, -0.05010797828435898, 0.02484660968184471, 0.017925331369042397, 0.007394361309707165, -0.004248031415045261, 0.0033828718587756157, 0.004931734409183264, 0.037717074155807495, 0.012403863482177258, 0.02164519391953945, -0.026207534596323967, -0.0046141850762069225, 0.02025834657251835, -0.006843510549515486, 0.001670373952947557, 0.02024538628757, 0.021243397146463394, -0.010466164909303188, -0.02533913590013981, 0.037794843316078186, 0.003927242010831833, 0.023693064227700233, -0.017938293516635895, -0.0020268068183213472, 0.013712943531572819, 0.016797708347439766, 0.00856734998524189, -0.008334048092365265, 0.016032997518777847, 0.0025987194385379553, -0.013583331368863583, 0.005246043670922518, -0.0034671195317059755, 0.024367045611143112, 0.022163642570376396, 0.002968113636597991, -0.004092497285455465, 0.013162093237042427, -0.03185861557722092, -0.02334311045706272, -0.013213938102126122, -0.021489661186933517, 0.016525523737072945, 0.03937610983848572, -0.017562419176101685, -0.03810591250658035, -0.02825540490448475, 0.019182568415999413, -0.004332279320806265, -0.006700937636196613, 0.0017854045145213604, -0.004212388303130865, 0.012682529166340828, 0.00027178003801964223, -0.028877541422843933, 0.007491570431739092, -0.014373964630067348, 0.028514627367258072, -0.03740600869059563, -0.02533913590013981, -0.003781428560614586, -0.006010754033923149, -0.019791744649410248, -0.02711481973528862, -0.006668534595519304, 0.0034055537544190884, -0.011049418710172176, 0.0026311224792152643, -0.002932470291852951, 0.03284366801381111, 0.011658594012260437, 0.0073684388771653175, 0.009630167856812477, -0.015177559107542038, -0.02409486100077629, -0.018495624884963036, -0.029136765748262405, 0.028177637606859207, -0.0006059358711354434, 0.017821641638875008, 0.0028773851227015257, -0.005106710828840733, 0.009072836488485336, 0.006798146292567253, -0.010965170338749886, -0.00861919391900301, -0.006908316630870104, 0.016616251319646835, -1.2277693713258486e-05, -0.024911416694521904, -0.004397085402160883, 0.009649609215557575, 0.010129173286259174, 0.006001032888889313, -0.01233257632702589, -0.006629650946706533, -0.01734207756817341, 0.005725607741624117, 0.0042091477662324905, 0.0012272631283849478, 0.012708451598882675, -0.031599391251802444, -0.005064586643129587, 0.003316445741802454, -0.020945290103554726, 0.003716622479259968, 0.00553118996322155, -0.005680243484675884, 0.01209279429167509, 0.012909349985420704, -0.007232346571981907, -0.0008343769004568458, 0.0013884679647162557, -0.01986951194703579, -0.014723916538059711, 0.002021946245804429, 0.0006059358711354434, -0.01599411480128765, 0.022630246356129646, 0.0006869432982057333, -0.02392636425793171, 0.022371022030711174, 0.015060908161103725, 0.01007732842117548, 0.020763833075761795, 0.018210478127002716, 0.014516538009047508, -0.008003537543118, -0.0018469701753929257, -0.03305104747414589, 0.007238827180117369, -0.006010754033923149, -0.010193979367613792, -0.009137642569839954, -0.029240455478429794, -0.011088301427662373, -0.001712497789412737, -0.00014449706941377372, -0.02221548743546009, -0.004925253801047802, 0.0039175208657979965, -0.009993080981075764, 0.014231391251087189, -0.026855595409870148, -0.029447833076119423, -0.022176602855324745, -0.00041192295611836016, -0.014646150171756744, -0.02843686006963253, -0.012682529166340828, 0.008709922432899475, 0.005595995578914881, -0.015138675458729267, 0.01948067545890808, 0.0012288832804188132, 0.03888358175754547, 0.009772740304470062, -0.012747334316372871, 0.023667141795158386, -0.026596371084451675, 0.00931909866631031, -0.02457442507147789, 0.00557979429140687, 0.006934239063411951, 0.0376393087208271, 0.011600269004702568, 0.01732911728322506, 0.0006144416402094066, 0.026064962148666382, -0.010213421657681465, -0.029136765748262405, 0.002324914326891303, -0.05816984176635742, -0.009818105027079582, 0.00025476847076788545, -0.007945212535560131, -0.007614701986312866, -0.01563120074570179, 0.007271230220794678, 0.06646500527858734, 0.01563120074570179, 0.009435749612748623, 0.013207457028329372, 0.016175569966435432, -0.01920849084854126, -0.012183522805571556, -0.005900583695620298, -0.00890434067696333, -0.017575379461050034, 0.0019133962923660874, 0.0018745127599686384, 0.00790632888674736, 0.019532520323991776, -0.0024221232160925865, 0.005926506128162146, -0.0017708231462165713, -0.011904857121407986, -0.016914358362555504, 0.02147669903934002, -0.03509891405701637, -0.020413881167769432, 0.003914280794560909, -0.022202525287866592, -0.012151120230555534, -0.02721850760281086, -0.002412402303889394, -0.03528037294745445, 0.0036129329819232225, -0.009915313683450222, -0.0023411158472299576, -0.004555860068649054, -0.0022730694618076086, -0.01639591157436371, 0.0003031704400200397, 0.018482662737369537, 0.04318670183420181, -0.017095815390348434, 0.03180677071213722, 0.019065916538238525, 0.005171516444534063, 0.0026521843392401934, 0.0017335597658529878, 0.017769796773791313, -0.01139288954436779, 0.020374998450279236, 0.01837897300720215, -0.02195626311004162, 0.024457773193717003, 0.022371022030711174, 0.02268209122121334, -0.02380971424281597, 0.0006865382893010974, 0.011023496277630329, 0.014503576792776585, -0.023887481540441513, 0.011509540490806103, -0.01722542755305767, 0.010025483556091785, 0.030018126592040062, -0.014568382874131203, 0.015268286690115929, -0.008632155135273933, -0.029992204159498215, -0.017368000000715256, 0.010997573845088482, -0.013440758921205997, 0.014386925846338272, -0.012533474713563919, -0.01950659789144993, 0.001858311239629984, -0.026570448651909828, -0.006360706407576799, 0.018949266523122787, -0.03087356500327587, 0.011237355880439281, -0.005741809029132128, 0.014944257214665413, -0.011613230220973492, -0.02110082469880581, -0.023978209123015404, -0.006010754033923149, 0.001336623216047883, 0.02957744523882866, -0.003220856888219714, 0.011366967111825943, 0.011801167391240597, 0.005881141871213913, 0.004831285215914249, 0.01609780266880989, 0.002171000000089407, -0.019091838970780373, -0.01416658516973257, -0.00562839861959219, 0.0016282500000670552, 0.0036226538941264153, -0.015760812908411026, -0.00689535541459918, 0.0022827903740108013, -0.02430224046111107, -0.023757869377732277, 0.008502543903887272, 0.005968629848212004, -0.01618853211402893, -0.022383982315659523, 0.01844378001987934, -0.03032919578254223, -0.003031299449503422, -0.002611680654808879, 0.007225865963846445, -0.03144385665655136, 0.018975188955664635, -0.01815863326191902, 0.00344767770729959, -0.004017970059067011, 0.005657561589032412, -0.004474852234125137, 0.009688492864370346, 0.010673543438315392, -0.006451434455811977, 0.02672598324716091, -0.023317188024520874, -0.023744909092783928, -0.0008141250000335276, 0.03730231896042824, -0.01233905740082264, 0.003373150946572423, -0.011334564536809921, -0.0014751459239050746, -0.00019573429017327726, 0.010200460441410542, -0.01620149239897728, -0.022267332300543785, 0.038546591997146606, 0.015216442756354809, 0.01563120074570179, -0.009876430034637451, -0.022669129073619843, -0.005832537543028593, 0.0018826135201379657, 0.01337595283985138, 0.015281247906386852, -0.03312881290912628, 0.012578839436173439, -0.017847564071416855, 0.018327128142118454, -0.011366967111825943, -0.03229929506778717, -0.03315473720431328, 0.010705946944653988, -0.01789940893650055, 0.017471689730882645, 0.00048523471923545003, 0.0028093389701098204, 0.03693940490484238, 0.020763833075761795, -0.01393328420817852, 0.015086830593645573, 0.0019166365964338183, 0.007523973472416401, 0.015514549799263477, -0.004779440350830555, -0.015190520323812962, -0.01257235836237669, -0.014348042197525501, 0.040153779089450836, 0.012313134968280792, 0.014516538009047508, -0.0023637977428734303, -0.01824936270713806, -0.024561462923884392, 0.02448369562625885, 0.0075693377293646336, 0.0024221232160925865, 0.019039994105696678, 0.001670373952947557, -0.00917652528733015, 0.01265660673379898, -0.01134104561060667, 0.009831066243350506, -0.023576412349939346, 0.015747850760817528, -0.007005525752902031, -0.017951253801584244, 0.0018080866429954767, 0.014036973938345909, -0.022046992555260658, 0.0034768404439091682, -0.012280731461942196, 0.005411298479884863, -0.012747334316372871, 0.012578839436173439, -0.019039994105696678, 0.0044100466184318066, -0.003366670338436961, 0.008489582687616348, -0.0002999301359523088, 0.00772487185895443, 0.020180579274892807, -0.020945290103554726, -0.003680979134514928, -0.004371162969619036, -0.015890425071120262, -0.044586509466171265, -0.01686251349747181, 0.015786735340952873, 0.0030150979291647673, 0.0029988964088261127, -0.0018809933681041002, -0.0018469701753929257, 0.007044409401714802, 0.0035546075087040663, 0.024833649396896362, -0.005100230220705271, 0.011516021564602852, 0.016240376979112625, 0.015579355880618095, -0.038468826562166214, -0.01285102404654026, 0.00994123611599207, 0.014503576792776585, 0.009519997052848339, 0.013168573379516602, -0.015981152653694153, 0.03844290226697922, -0.022656168788671494, 0.007562857121229172, -0.025092871859669685, -0.007886886596679688, 0.017549457028508186, 0.005116431508213282, -0.02701113000512123, 0.024600347504019737, 0.0225913617759943, -0.026401953771710396, 0.011742842383682728, -0.006020474713295698, -0.024885494261980057, -0.0058195763267576694, -0.024055976420640945, -0.012254809029400349, -0.006574566010385752, 0.002235806081444025, 0.02063422091305256, -0.0017773037543520331, -0.02957744523882866, -0.026803750544786453, -0.011263278312981129, -0.008159072138369083, 0.02080271765589714, 0.21525952219963074, -0.006101482082158327, 0.011853012256324291, 0.01570896804332733, 0.010984612628817558, 0.010550412349402905, 0.011179029941558838, 0.029214533045887947, -0.00703792879357934, 0.01191781833767891, -0.015190520323812962, 0.008586791343986988, 0.03333619236946106, 0.01059577614068985, 0.005638119764626026, -0.03530629351735115, -0.03349172696471214, -0.01677178591489792, 0.0032889030408114195, -0.022345099598169327, 0.0082433195784688, 0.003272701520472765, 0.012844543904066086, -0.018314167857170105, 0.027814723551273346, 0.002441565040498972, -0.009260773658752441, -0.02448369562625885, 0.015864502638578415, 0.004666029941290617, -0.029058998450636864, 0.012468668632209301, 0.02427631802856922, 0.004666029941290617, -0.02233213745057583, 0.004993299953639507, 0.026479721069335938, 0.006393108982592821, -0.007491570431739092, 0.0029340903274714947, -0.0019133962923660874, 0.0002640843449626118, 0.03398425132036209, -0.011995585635304451, 0.004222108982503414, 0.020025044679641724, -0.007718391250818968, -0.009357982315123081, -0.0376652330160141, 0.0040860166773200035, -0.02213772013783455, 0.0013593052281066775, 0.007770236115902662, 0.03937610983848572, -0.007323075085878372, 0.0026813470758497715, 0.03605804219841957, 0.009241331368684769, -0.0010701086139306426, 0.020284269005060196, -0.0153071703389287, 0.0259094275534153, -0.01865115948021412, -0.008820093236863613, 0.004260992631316185, 0.01077723316848278, -0.010997573845088482, 0.01119847223162651, 0.016123725101351738, -0.025663165375590324, -0.02081567794084549, -0.005495546385645866, -0.024989182129502296, -0.013777749612927437, -0.027840645983815193, 0.002691067988052964, 0.02202107012271881, -0.008509024046361446, 0.00828868430107832, -0.009811623953282833, -0.008055382408201694, -0.014996102079749107, 0.020660143345594406, -0.021048979833722115, -0.02299315854907036, -0.00782208051532507, 0.00585845997557044, 0.02277281880378723, -0.017290232703089714, 0.020102811977267265, 0.006059358362108469, -0.006214892957359552, -0.021489661186933517, -0.0029697336722165346, 0.003992048092186451, 0.02343383990228176, 0.023576412349939346, -0.010278226807713509, 0.008191474713385105, -0.0014070996548980474, -0.009059875272214413, -0.02222844772040844, 0.039505720138549805, 0.004585022572427988, -0.00786744523793459, 0.001851830631494522, 0.005223361309617758, -0.003632374806329608, 0.0051553151570260525, -0.029603367671370506, -0.020128734409809113, 0.01157434657216072, 0.0029340903274714947, 0.0017708231462165713, 0.003745785215869546, 0.012488110922276974, 0.00904043298214674, -0.03250667452812195, -0.005874661263078451, 0.01563120074570179, 0.004384124185889959, -0.028281325474381447, 0.010816116817295551, 0.010031964629888535, -0.01582561805844307, -0.024522580206394196, -0.020932329818606377, 0.009584803134202957, 0.007381400093436241, -0.03528037294745445, 0.029058998450636864, -0.03351764753460884, 0.023394955322146416, 0.006023715250194073, -0.012935272417962551, 0.0082433195784688, 0.013188015669584274, 0.0028482223860919476, -0.015683045610785484, -0.005469623953104019, 0.005712646525353193, -0.03520260378718376, 0.019532520323991776, -0.002984314924106002, 0.04098329693078995, -0.0070768119767308235, 0.0011130425846204162, -0.028385015204548836, 0.011606750078499317, -0.009519997052848339, -0.02137300930917263, 0.005647840443998575, 0.0035740493331104517, -0.00545990327373147, 0.013972167856991291, 0.008262761868536472, -0.0183660127222538, -0.02465219236910343, -0.020478688180446625, 0.03810591250658035, -0.030484728515148163, 0.01760130189359188, 0.038287367671728134, -0.01863819733262062, -0.01427027489989996, -0.02815171517431736, -0.16123725473880768, 0.012701970525085926, 0.018223440274596214, -0.022850586101412773, 0.00531732989475131, 0.01799013838171959, 0.03963533416390419, 0.010809635743498802, -0.0028206799179315567, -0.02561132051050663, 0.015164597891271114, -0.01375182718038559, -0.02268209122121334, -0.012222406454384327, -0.008593271486461163, -0.00032787772943265736, -0.03877989575266838, 0.016538484022021294, 0.029447833076119423, 0.029629290103912354, 0.030251428484916687, 0.012468668632209301, 0.005664042197167873, -0.007932251319289207, 0.005139113403856754, -0.017303194850683212, 0.012177042663097382, -0.0013827974908053875, -0.006457915063947439, -0.005395097192376852, -0.015268286690115929, -0.015047946944832802, 0.00720642413944006, -0.006973122712224722, 0.006973122712224722, 0.025196561589837074, -0.024691075086593628, 0.006668534595519304, -0.0098829111084342, 0.0296552125364542, 0.021437816321849823, 0.010492087341845036, 0.02409486100077629, 0.02034907601773739, -0.030640263110399246, 0.029992204159498215, -0.01806790567934513, 0.026116807013750076, 0.022085875272750854, -0.014140662737190723, -0.01049856748431921, -0.03719862923026085, 0.031599391251802444, 0.01243626605719328, 0.007783197332173586, -0.0010417560115456581, 0.012831582687795162, 0.0017222187016159296, 0.015423821285367012, -0.008295164443552494, -0.01355740986764431, -0.009481113404035568, 0.010822596959769726, -0.013738865964114666, 0.0034736001398414373, -0.030355118215084076, -0.01091980654746294, -0.010621698573231697, -0.021995147690176964, 0.008087784983217716, -0.0148276062682271, -0.021165629848837852, 0.006363946478813887, -0.023991171270608902, 0.020012084394693375, 0.0015407620230689645, -0.011840051040053368, -0.015436782501637936, 0.006908316630870104, 0.018495624884963036, -0.02693336270749569, 0.00936446338891983, -0.00654540304094553, 0.0003165366651955992, -0.0033925927709788084, 0.0319882296025753, -0.004056853707879782, -0.0007067901315167546, -0.014542460441589355, -0.009370943531394005, 0.012760295532643795, -0.04116475209593773, -0.04189058020710945, -0.021865535527467728, 0.026039039716124535, 0.003956404514610767, 0.01893630437552929, -0.007186982315033674, -0.014088818803429604, -0.005563592538237572, 0.0009404966840520501, -0.010757791809737682, 0.009831066243350506, 0.01564416103065014, 0.0009421168360859156, -0.0015585835790261626, -0.014866489917039871, -0.004915533121675253, 0.023939326405525208, -0.0030329194851219654, 0.006888874806463718, 0.02561132051050663, 0.01317505445331335, 0.020504608750343323, 0.0013957585906609893, 0.0002375543990638107, -0.01497017964720726, -0.005583034362643957, 0.005712646525353193, 0.007225865963846445, 0.06620578467845917, 0.009915313683450222, -0.015890425071120262, 0.031495701521635056, 0.0010676784440875053, -0.01068002451211214, -0.1007862463593483, -0.01666809618473053, 0.019130723550915718, -0.0031997947953641415, -0.004879889544099569, 0.013362991623580456, -0.0032970039173960686, 0.023109810426831245, 0.009118200279772282, 0.015397898852825165, -0.04502718895673752, -0.0338805615901947, -0.011101262643933296, -0.004248031415045261, 0.03841698169708252, -0.011276239529252052, -0.007841522805392742, -0.042616408318281174, 0.003561088116839528, 0.03279182314872742, -0.010168056935071945, -0.004474852234125137, 0.015436782501637936, -0.040620382875204086, 0.0010960310464724898, -0.03162531554698944, -0.028981231153011322, 0.032040074467659, 0.007005525752902031, -0.005696444772183895, -0.005897343624383211, -0.017005087807774544, 0.040464848279953, -0.023278305307030678, -0.02986259199678898, -0.01827528513967991, -0.03362133726477623, -0.0038689165376126766, -0.007595260161906481, -0.019325140863656998, 0.007238827180117369, 0.008735844865441322, 0.0296552125364542, -0.018236400559544563, -0.006240814924240112, 0.00351896439678967, -0.002908168127760291, 0.016149647533893585, -0.007264749612659216, -0.010530970059335232, -0.02467811480164528, -0.013998090289533138, -0.026622293516993523, 0.004986819811165333, 0.03240298479795456, 0.003742544911801815, 0.01299359742552042, -0.025066949427127838, -0.0030588419176638126, 0.012455708347260952, -0.013531487435102463, 0.014049935154616833, -0.02457442507147789, -0.027088897302746773, 0.030821720138192177, 0.004954416770488024, 0.014918334782123566, 0.011658594012260437, 0.0037295836955308914, -0.007737833075225353, -0.004934974946081638, -0.0015610138652846217, -0.022863546386361122, 0.009928274899721146, -0.0160200372338295, -0.001161647029221058, -0.01355740986764431, -0.01618853211402893, 0.013907361775636673, -0.006269977893680334, -0.00583577761426568, -0.009481113404035568, 0.017588341608643532, 0.006811107508838177, 0.005246043670922518, 0.016836591064929962, -0.002867664210498333, -0.005349732935428619, -0.0036939403507858515, -0.018508585169911385, -0.01734207756817341, 0.012488110922276974, 0.008126668632030487, -0.026700060814619064, 0.002768835285678506, 0.022617284208536148, 0.014607266522943974, -0.004737316630780697, -0.010608737356960773, 0.003366670338436961, -0.014555421657860279, 0.006357465870678425, -0.07050889730453491, 0.016694018617272377, -0.004915533121675253, 0.02147669903934002, 0.01035599410533905, 0.004273953847587109, 0.021450776606798172, -0.03981678932905197, -0.021165629848837852, 0.008295164443552494, 0.009636647999286652, 0.047489818185567856, -0.012397382408380508, -0.014192507602274418, -0.041294366121292114, -0.0021304963156580925, 0.0319882296025753, 0.009215408936142921, 0.01938994787633419, 0.000616466801147908, -0.01416658516973257, 0.007394361309707165, 0.004008249379694462, 0.00360321206972003, -0.038468826562166214, -0.003343988209962845, 0.022552479058504105, -0.006013994105160236, -0.0008651597308926284, -0.007828561589121819, 0.014581344090402126, -0.025766855105757713, 0.0023265343625098467, 0.026674138382077217, 0.011075341142714024, -0.043083012104034424, -0.00876176729798317, 0.023693064227700233, -0.014672072604298592, 0.05687372013926506, -0.014127702452242374, -0.007543415296822786, -0.018495624884963036, -0.007673026993870735, -0.004947936162352562, 0.01115310750901699, 0.017484651878476143, 0.008372931741178036, 0.0385725162923336, 0.014036973938345909, -8.804498793324456e-05, 0.006649092771112919, 0.018132710829377174, -0.005618677940219641, -0.021256359294056892, -0.009772740304470062, 0.01592930778861046, 0.018975188955664635, 0.008334048092365265, -0.01986951194703579, 0.03680979087948799, 0.022085875272750854, 0.026777828112244606, 0.0012515652924776077, 0.03465823456645012, -0.04248679429292679, -0.011334564536809921, -0.01511275302618742, 0.005751530174165964, -0.026518603786826134, -0.0044683716259896755, -0.002760734409093857, -0.008022979833185673, -0.007070331368595362, -0.009649609215557575, 0.01295471377670765, 0.02835909277200699, 0.006244055461138487, -0.027996180579066277, -0.008755287155508995, -0.008321086876094341, -0.019908394664525986, -0.025352096185088158, 0.021204514428973198, 0.028385015204548836, 0.012040949426591396, 0.008457179181277752, 0.021502621471881866, 0.003855955321341753, 0.006483837496489286, 0.0038138313684612513, 0.008295164443552494, 0.0057061659172177315, -0.022358059883117676, -0.009526478126645088, 0.005216880701482296, 0.0046368674375116825, -0.018871499225497246, 0.01941586844623089, 0.01592930778861046, 0.009772740304470062, 0.02137300930917263, 0.005297888070344925, -0.02353752963244915, -0.002174240304157138, 0.002324914326891303, -0.024341123178601265, -0.01703101024031639, 0.007841522805392742, 0.0025420142337679863, 0.007951692678034306, 0.022746896371245384, 0.00040361969149671495, 0.01902703382074833, -0.02570204809308052, 0.0017530015902593732, -0.008353489451110363, -0.013777749612927437, -0.03898727148771286, 0.036006197333335876, 0.0031787329353392124, 0.025261368602514267, 0.022474711760878563, -0.030069971457123756, 0.0291886106133461, -0.007511012256145477, 0.02571501024067402, -0.007083292584866285, -0.005492306314408779, 0.002874144818633795, -0.008554388768970966, 0.013220418244600296, -0.047023214399814606, -0.0018534507835283875, 0.002843362046405673, -0.004082776140421629, -0.02410782128572464, 0.005890863016247749, -0.01752353459596634, 0.049848753958940506, 0.023563452064990997, 0.002992415800690651, 0.015384937636554241, -0.00720642413944006, 0.021632233634591103, 0.0033601897303014994, -0.010440242476761341, -0.006399589590728283, 0.0033034845255315304, 0.029421910643577576, -0.011639152653515339, -0.00440032547339797, -0.026220496743917465, -0.03929834067821503, 0.013388914056122303, -0.010181018151342869, 0.0010385157074779272, -0.024833649396896362, 0.01630518212914467, 0.026907440274953842, -0.005022462923079729, 0.009532958269119263, 0.010589295998215675, 0.001131674274802208, -0.01563120074570179, 0.03382871672511101, 0.02277281880378723, -0.013194495812058449, -0.01563120074570179, -0.007802639156579971, 0.013738865964114666, -0.023770831525325775, -0.028514627367258072, -0.01797717623412609, 0.007115695625543594, -0.0023054725024849176, 0.0018113269470632076, 0.00713513744994998, 0.025494668632745743, -0.020958252251148224, 0.02033611387014389, -0.02287650853395462, -0.006908316630870104, 0.01656440645456314, -0.014581344090402126, 0.017730914056301117, 0.009513516910374165, 0.00828868430107832], properties={'_node_content': '{\"id_\": \"f687f047-063b-49f3-bdbd-1fa412a4801a\", \"embedding\": null, \"metadata\": {}, \"excluded_embed_metadata_keys\": [], \"excluded_llm_metadata_keys\": [], \"relationships\": {\"1\": {\"node_id\": \"3a2ecb93-0a0b-4385-ac48-8304fd0a7682\", \"node_type\": \"4\", \"metadata\": {}, \"hash\": \"2c0bf48c4c796e004ef5432d3a0bc037187f9301aacfc044a58128e222de26e3\", \"class_name\": \"RelatedNodeInfo\"}, \"3\": {\"node_id\": \"8e0b0e04-1dac-4251-8614-dfd7623e21cc\", \"node_type\": \"1\", \"metadata\": {}, \"hash\": \"bbc1dc68f112838530cdda5199a7f6779396cdfccb65a87d5dc914dc78bbfa8c\", \"class_name\": \"RelatedNodeInfo\"}}, \"text\": \"\", \"mimetype\": \"text/plain\", \"start_char_idx\": 1, \"end_char_idx\": 2007, \"text_template\": \"{metadata_str}\\\\n\\\\n{content}\", \"metadata_template\": \"{key}: {value}\", \"metadata_seperator\": \"\\\\n\", \"class_name\": \"TextNode\"}', '_node_type': 'TextNode', 'document_id': '3a2ecb93-0a0b-4385-ac48-8304fd0a7682', 'doc_id': '3a2ecb93-0a0b-4385-ac48-8304fd0a7682', 'ref_doc_id': '3a2ecb93-0a0b-4385-ac48-8304fd0a7682'}, text='Hưng Đạo Vương Trần Quốc Tuấn là người đã trực tiếp chỉ huy quân đội đánh tan hai cuộc xâm lược của quân Nguyên–Mông năm 1285 và năm 1288. Ông được biết đến với những chiến công lẫy lừng, là một nhà quân sự tài ba với gia thế hiển hách. Đúng là người giỏi, người tài nên cái gì ông cũng dám làm, dám chịu. Đau khổ vì người con gái mình yêu thương phải lấy người khác làm chồng, ông đã tạo ra một phi vụ cướp dâu chấn động nhất lịch sử Việt Nam.\\n\\n\\nNăm 1237, Trần Cảnh (Trần Thái Tông) lên ngôi đã lâu mà vẫn không có con nối dõi, lo sợ nhà Trần bị tuyệt hậu, Trần Thủ Độ đã gây sức ép phế Lý Chiêu Hoàng để ép Trần Cảnh kết hôn với chị dâu của mình là công chúa Thuận Thiên, tức là vợ của Trần Liễu - cha của Trần Quốc Tuấn. Trần Liễu tức giận, mang binh rửa hận nhưng thân già sức yếu nên việc bất thành, cuối cùng phải buông giáp quy hàng, bị giáng xuống làm An Sinh Vương, cho về an trú ở đất Yên Sinh. Khi ấy, Trần Quốc Tuấn mới 7 tuổi.\\n\\nChị của Trần Cảnh là Thụy Bà công chúa vì thương cháu mình đang còn nhỏ phải rời kinh đô tới nơi xa, đã cầu xin vua để nhận nuôi Quốc Tuấn để khuây khỏa nỗi buồn khi chồng bà đã mất.\\n\\nBà nhận nuôi Quốc Tuấn được 8 năm, cho ông học văn, học võ, lớn lên với các con em hoàng tộc cùng trang lứa. Cũng chính trong thời gian này, Trần Quốc Tuấn gặp gỡ, cùng trải qua thời niên thiếu của mình với Thiên Thành công chúa.\\n\\nTrong suốt những năm tháng học tập và sinh sống nơi cung cấm, tình cảm của công chúa và Trần Quốc Tuấn cứ lớn dần lên, quấn quýt không rời. Mối tình thanh mai trúc mã cứ thế nở rộ.\\n\\nCứ tưởng đây là mối lương duyên trời ban, cho tới khi Thiên Thành tới tuổi gả chồng, vua Trần Thái Tông đã hạ chỉ gả nàng cho Trung Thành Vương, con trai của Nhân Đạo Vương, phá tan giấc mộng đôi lứa của hai người.\\n\\nSách Đại Việt sử ký toàn thư ghi lại rằng ngày 15 tháng 2 năm 1251, vua mở hội lớn 7 ngày đêm, bày các tranh về lễ kết tóc và nhiều trò chơi cho người trong triều ngoài nội đến xem, ý muốn cho công chúa Thiên Thành làm lễ kết tóc với Trung Thành Vương.', id_='f687f047-063b-49f3-bdbd-1fa412a4801a'),\n",
              " '8e0b0e04-1dac-4251-8614-dfd7623e21cc': ChunkNode(label='text_chunk', embedding=[-0.013993712142109871, -0.027094766497612, 0.01350800134241581, -0.012044306844472885, -0.0032325999345630407, 0.013652401976287365, -0.007882949896156788, -0.014978260733187199, -0.019874747842550278, -0.014124985784292221, 0.03507617115974426, 0.03801668807864189, -0.010377137921750546, -0.02042609453201294, -0.01718364842236042, 0.004016956780105829, 0.03688773885369301, 0.0007133872131817043, 0.0029749765526503325, -0.03103296086192131, 0.01738055795431137, -0.0021446743048727512, -0.012438125908374786, 0.03809545189142227, -0.009622317738831043, 0.011683305725455284, 0.01770874112844467, -0.0175905954092741, 0.015700262039899826, -0.009287571534514427, -0.013074800372123718, 0.0029881037771701813, -0.025283198803663254, -0.0004988377913832664, -0.014426913112401962, -0.007843567989766598, -0.0039053745567798615, -0.004387803375720978, -0.005972926039248705, 0.019047725945711136, 0.022631481289863586, 0.018404487520456314, 0.004689731635153294, 0.01190647017210722, -0.023379739373922348, 0.013055109418928623, -0.03323834761977196, -0.0058547803200781345, -0.002914262702688575, 0.014505676925182343, 0.026320256292819977, 0.02007165737450123, -0.036441411823034286, 0.0041154115460813046, -0.015030769631266594, -0.002753453329205513, -0.02109558694064617, 0.01178176049143076, -0.003856147173792124, -0.01203117985278368, 0.0040924386121332645, 0.004000547807663679, -0.0028272944036871195, 0.010101464577019215, 0.0036067282781004906, -0.018732670694589615, -0.0036231374833732843, -0.01549022551625967, -0.004643785767257214, -0.012825381942093372, 0.02701600268483162, 0.03497115150094032, 0.019914129748940468, 0.0026960212271660566, 0.0210430771112442, -0.03189936280250549, -0.02687160298228264, 0.0034459189046174288, -0.011414195410907269, -0.016369754448533058, 0.004906332120299339, -0.021528787910938263, -0.025939563289284706, 0.007423493545502424, 0.0005706277443096042, 0.0209774412214756, 0.0009098866721615195, 0.032109398394823074, 0.009307262487709522, -0.029772737994790077, 0.021384388208389282, -0.003810201771557331, 0.02109558694064617, 0.03420976921916008, 0.01346861943602562, -0.003895529080182314, -0.022421445697546005, 0.028433753177523613, -0.005917134694755077, -0.010692194104194641, -0.0037215922493487597, -0.014374404214322567, -0.03694025054574013, -0.015201425179839134, -0.022723373025655746, -0.000997675582766533, -0.00595323508605361, -0.014374404214322567, 0.005411733407527208, -0.003306441241875291, -0.015884045511484146, 0.04347765073180199, 0.007141256704926491, -0.039066873490810394, 0.012661290355026722, -0.01682921126484871, -0.0024269113782793283, 0.013225764967501163, -0.0021758514922112226, -0.025992073118686676, 0.004689731635153294, 0.022434571757912636, -0.008723096922039986, -0.00013742652663495392, 0.0033441821578890085, 0.005552852060645819, 0.003055381355807185, -0.009011898189783096, -0.0104559026658535, 1.8492328308639117e-06, 0.032266926020383835, 0.01356051117181778, 0.028249971568584442, 0.022172026336193085, -0.008263641968369484, -0.0022398473229259253, -0.03528621047735214, -0.005995898973196745, -0.015792153775691986, -0.026005201041698456, 0.03783290833234787, 0.004023520275950432, 0.002325174631550908, -0.028670044615864754, 0.01356051117181778, 0.029300155118107796, 0.006675236858427525, 0.01560837123543024, 0.01173581462353468, 0.009471354074776173, 0.03817421570420265, 0.013652401976287365, 0.01367865689098835, 0.012464380823075771, 0.04544674605131149, 0.0073578571900725365, -0.03289703652262688, -0.003990702331066132, 0.00429919408634305, 0.006547245662659407, 0.010764393955469131, 0.01013428345322609, 0.004860386252403259, -0.01696048490703106, 0.026005201041698456, 0.02011103928089142, 0.0021003696601837873, 0.01672419346868992, -0.008119241334497929, -0.03024532087147236, 0.021804461255669594, 0.0017196775879710913, -0.04190237447619438, 0.011643923819065094, 0.008769042789936066, 0.0120180519297719, 0.011847397312521935, -0.0020839604549109936, -0.039329420775175095, -0.007265965919941664, -0.02738356776535511, -0.009812664240598679, 0.04830849915742874, 0.025020651519298553, -0.03056037798523903, 0.005625052377581596, -0.010915357619524002, -0.007745112758129835, 0.024849997833371162, -0.01057404838502407, 0.01178832445293665, 0.007298784330487251, 0.02712102234363556, -0.005096678156405687, -0.6175086498260498, 0.008696842938661575, -0.008906879462301731, -0.0022103108931332827, 0.022040752694010735, -0.00776480371132493, 0.01770874112844467, 0.0073775481432676315, -0.03384220600128174, -0.0044600036926567554, -0.017695613205432892, 0.021292496472597122, 0.01533269789069891, -0.03197812661528587, -0.02100369520485401, -0.016199100762605667, -0.018719544634222984, -0.0019264327129349113, -0.014952005818486214, 0.00150389748159796, 0.016435392200946808, -0.013206074014306068, -0.0169342290610075, 0.018115688115358353, 0.031873106956481934, 0.0277511328458786, 0.010265556164085865, 0.011302613653242588, -0.016146590933203697, -0.006245317403227091, -0.02039983868598938, 0.050172578543424606, -0.006481609307229519, 0.029247645288705826, 0.052824296057224274, 0.0011387941194698215, -0.01753808557987213, 0.02373417653143406, -0.013101055286824703, 0.03197812661528587, 0.0008442500839009881, -0.010462465696036816, 0.02049173042178154, -0.010396829806268215, 0.0002041912084678188, -0.016041573137044907, 0.01766935922205448, -0.0023858884815126657, 0.019743474200367928, 0.004597840365022421, -0.008808424696326256, -0.012169016525149345, 0.0042630936950445175, 0.02746233157813549, -0.022093262523412704, -0.0007416930166073143, 0.036310140043497086, -0.03037659451365471, 0.012569399550557137, -0.0001884999655885622, -0.004131820984184742, 0.01707863062620163, 0.01752495765686035, -0.008939698338508606, -0.028827572241425514, 0.028407499194145203, -0.01189990621060133, -0.0033376184292137623, 0.011171340942382812, 0.0025483390782028437, 0.012280598282814026, -0.004614249337464571, -0.0018460279097780585, 0.001316833309829235, 0.022959664463996887, 0.015949681401252747, 0.03812170773744583, 0.02074114978313446, 0.010869412682950497, 0.021082459017634392, -0.014610695652663708, -0.03163681551814079, -0.00344920065253973, 0.019297145307064056, 0.012530017644166946, -0.025388216599822044, -0.03048161417245865, -0.0007002599304541945, 0.011460141278803349, -0.014794478192925453, -0.02079365961253643, 0.009970191866159439, -0.0201898030936718, 0.012201834470033646, 0.011532342061400414, 0.04350390285253525, -0.02001914754509926, -0.018273215740919113, 0.015818407759070396, -0.008920007385313511, 0.0042630936950445175, -0.004633940290659666, -0.032581981271505356, -0.0045814309269189835, 0.018483251333236694, 0.02089867740869522, -0.021358132362365723, 0.005723507143557072, 0.07456311583518982, -0.024849997833371162, -0.003166963579133153, -0.0036264192312955856, 0.01766935922205448, 0.007088747341185808, -0.0023908112198114395, -0.0063634635880589485, 0.019782856106758118, 0.02412799559533596, 0.009077535010874271, -0.009904555045068264, -0.004545331001281738, 0.016185972839593887, 0.015634626150131226, -0.011611105874180794, 0.02407548576593399, 0.03536497429013252, -0.00689840130507946, -0.03153179958462715, -0.011394504457712173, 0.014269385486841202, 0.005529879126697779, -0.014912623912096024, 0.026097090914845467, -0.017984414473176003, 0.025309452787041664, -0.015674008056521416, 0.028565026819705963, -0.003207986243069172, 0.013731165789067745, -0.0104559026658535, -0.011919597163796425, 0.016369754448533058, 0.016304118558764458, 0.013120746240019798, -0.007751676253974438, -0.014387531206011772, -0.0105215385556221, -0.024928761646151543, -0.03764912486076355, 0.015306442975997925, 0.002912621945142746, -0.010856284759938717, -0.02387857623398304, -0.021935734897851944, 0.0035279644653201103, 0.01226747129112482, -0.010652812197804451, -0.01690797507762909, -0.0013143719406798482, -0.032188162207603455, -0.0025549025740474463, 0.021331878378987312, -0.01664542965590954, 0.001408724463544786, 0.004873513709753752, -0.02005852945148945, -0.015962809324264526, 0.016330372542142868, 0.0016425546491518617, -0.031951870769262314, 0.011617668904364109, -0.036231376230716705, -0.0019641737453639507, 0.018141942098736763, 0.007128129247575998, 0.006383154541254044, -0.018955836072564125, -0.03077041357755661, 0.01541146170347929, -0.00258279824629426, -0.0014177494449540973, -0.016107209026813507, -0.019034599885344505, -0.018325723707675934, 0.009497608989477158, -0.004978532437235117, -0.018312597647309303, 0.018982090055942535, 0.0007884590304456651, 0.009372899308800697, -0.007574457675218582, -0.0013939562486484647, -0.004932586569339037, -0.02009791135787964, 0.022592099383473396, -0.008303023874759674, 0.01032462902367115, 0.03507617115974426, -0.009451663121581078, 0.01207056175917387, -0.007298784330487251, 0.012004924938082695, 0.0016950638964772224, 0.0022398473229259253, 0.005605361424386501, -0.01379680261015892, 0.006271572317928076, 0.0016245045699179173, 0.01667168363928795, -0.02782989665865898, -0.0033294139429926872, -0.021607551723718643, -0.028460007160902023, -0.03814796358346939, 0.0353124625980854, 0.039513204246759415, 0.01672419346868992, -0.0013324219034984708, 0.003911938518285751, -0.004981813952326775, -0.011617668904364109, -0.03405224159359932, -0.015818407759070396, 0.009491045027971268, -0.011348559521138668, 0.009458227083086967, -0.021253114566206932, 0.004666758701205254, 0.009970191866159439, -0.013665529899299145, -0.015660880133509636, 0.0068721468560397625, -0.021161222830414772, 0.019848491996526718, 0.029352664947509766, 0.006012307945638895, 0.018706416711211205, -0.015582116320729256, -0.007220020517706871, -0.008611515164375305, 0.009819227270781994, 0.013002600520849228, 0.003908656537532806, 0.0007946124533191323, 0.0015884045278653502, 0.019546564668416977, 0.0029306719079613686, 0.026477783918380737, -0.0016138385981321335, 0.028722554445266724, -0.0003043894830625504, 0.016396010294556618, -0.029720230028033257, -0.015910299494862556, 0.018181324005126953, -0.03801668807864189, -0.0003400793648324907, 0.02021605707705021, 0.025256944820284843, 0.025887055322527885, 0.013704911805689335, -0.00874278787523508, -0.011466705240309238, 0.0020593467634171247, 0.03090168721973896, 0.023222211748361588, 0.03378969430923462, -0.009943936951458454, -0.021896352991461754, 0.001978941960260272, 0.0018755643395707011, -0.009806100279092789, 0.008644333109259605, -0.0068918378092348576, 0.022526463493704796, -0.015516480430960655, -0.004584712907671928, -0.01190647017210722, 0.0011748942779377103, -0.002380965743213892, -0.021778207272291183, -0.03394722193479538, 0.015726517885923386, 0.036467667669057846, 0.005713661666959524, -0.0051130871288478374, -0.023090938106179237, 0.014466295018792152, -0.007495693862438202, 0.023222211748361588, -0.011197594925761223, -0.01760372333228588, 0.023025302216410637, -0.0336059145629406, -0.016422264277935028, -0.011131959035992622, 0.033107075840234756, 0.0016647069714963436, 0.011164776980876923, -0.010711885057389736, 0.01008177362382412, -0.010626557283103466, -0.03809545189142227, -0.014650077559053898, 0.036178864538669586, -0.012254343368113041, -0.03126925230026245, -0.0009008616325445473, 0.025847673416137695, -0.01556898932904005, -0.03686148673295975, -0.006563655100762844, -0.015280188992619514, -0.01556898932904005, -0.005546288564801216, -0.012319980189204216, -0.03541748225688934, 0.035995084792375565, 0.022736500948667526, -0.012602217495441437, -0.002474498003721237, -0.015595244243741035, -0.006445508915930986, -0.0005538084078580141, 0.08527500182390213, -0.004161357413977385, 0.006491454783827066, 0.014781351201236248, -0.011512651108205318, -0.001978941960260272, -0.007869821973145008, -0.042401209473609924, 0.03098045103251934, 0.022815264761447906, 0.016277864575386047, -0.007272529415786266, 0.006461918354034424, 0.008217696100473404, 0.03560126572847366, 0.008125804364681244, 0.017879396677017212, -0.022972792387008667, 0.0063175177201628685, 0.03056037798523903, 0.008447423577308655, 0.01205743383616209, 0.01371803879737854, 0.0013619583332911134, -0.024955015629529953, -0.01391494832932949, 0.022080134600400925, 0.014518804848194122, 0.010764393955469131, -0.01697361096739769, -0.003944756463170052, -0.0033966912887990475, 0.011808015406131744, 0.009740463458001614, -0.011617668904364109, 0.013173255138099194, -0.010350883938372135, 0.010626557283103466, -0.0016146590933203697, -0.0017508548917248845, 0.02096431329846382, 0.017734995111823082, 0.0034393551759421825, -0.015385206788778305, 0.006793382577598095, -0.014348149299621582, -0.008204568177461624, 0.0010944894747808576, -0.025532618165016174, 0.010068646632134914, 0.05896787717938423, -0.026254620403051376, -0.03455108031630516, -0.032503217458724976, 0.03029783070087433, -0.005798988975584507, -0.009261316619813442, 0.011394504457712173, 0.004807877354323864, 0.03462984412908554, -0.004981813952326775, -0.025782035663723946, 0.009077535010874271, -0.012392180040478706, 0.019270891323685646, -0.024876251816749573, -0.03441980481147766, 0.003675646847113967, 0.003143990645185113, -0.015358952805399895, -0.01217557955533266, -0.008939698338508606, 0.0007019008626230061, -0.010508411563932896, 0.006645700428634882, 0.00855244230479002, 0.02704225853085518, 0.002098728669807315, 0.019205253571271896, -0.002113496884703636, -0.011125395074486732, -0.04497416317462921, -0.016369754448533058, -0.03147928789258003, 0.00097552320221439, -0.007174074649810791, 0.03402598574757576, -0.00295692658983171, -0.009543553926050663, -0.006773691624403, 0.0058318073861300945, 0.01764310523867607, -1.4357995496538933e-05, 0.001436620019376278, -0.004482976160943508, -0.0053001511842012405, -0.005677561275660992, -0.00439436687156558, -0.001637631910853088, 0.012700672261416912, 0.02361603081226349, -0.015870917588472366, 0.0017278821906074882, -0.014702587388455868, -0.008572133257985115, -0.0009500890737399459, 0.011394504457712173, 0.0008126625325530767, -0.015949681401252747, -0.004880077205598354, 0.02053111232817173, -0.021896352991461754, -0.0047947498969733715, -0.006704773288220167, -0.013849311508238316, 0.012562835589051247, -0.0023760430049151182, 0.019730346277356148, 0.010665939189493656, 0.003052099607884884, -0.02038671262562275, -0.03105921484529972, 0.014256258495151997, -0.007128129247575998, -0.008053604513406754, 0.013422674499452114, 0.0022628200240433216, -0.01529331598430872, 0.03168932721018791, 0.004496103618294001, 0.019546564668416977, 0.022342681884765625, 0.03820047155022621, 0.008329277858138084, 0.001444824505597353, -0.009497608989477158, -0.018404487520456314, 0.004975250456482172, 0.005894162226468325, -0.008939698338508606, -0.019336527213454247, -0.032529473304748535, -0.02698974870145321, -0.032214418053627014, 0.0011494600912556052, -0.02374730259180069, 0.002595925470814109, -0.006793382577598095, -0.009064407087862492, -0.000757281668484211, -0.025703271850943565, -0.03389471396803856, -0.03029783070087433, 0.005027759820222855, -0.008729660883545876, -0.026490911841392517, -0.011341995559632778, -0.0021167786326259375, 0.011322304606437683, -0.015148915350437164, 0.017892522737383842, -0.01760372333228588, 0.028328735381364822, -0.0008475319482386112, -0.01728866621851921, 0.011191031895577908, -0.022631481289863586, -0.021961988881230354, -0.022053880617022514, 0.006970601622015238, -0.0012118148151785135, 0.03158430755138397, 0.02067551203072071, 0.014689459465444088, -0.006123890168964863, 0.046260640025138855, -0.0029881037771701813, -0.024600578472018242, 0.004630658309906721, -0.059913042932748795, -0.00851306039839983, -0.013357037678360939, -0.010383701883256435, -0.0063175177201628685, -0.013888693414628506, -0.01371803879737854, 0.05770765244960785, 0.01665855571627617, 0.011243540793657303, 0.018115688115358353, 0.036546431481838226, -0.0341310054063797, -0.006310954224318266, 0.008047040551900864, -0.015687135979533195, -0.007364420685917139, 0.0004943252424709499, 0.0010190074099227786, 0.015398334711790085, 0.01359989307820797, 0.0033359776716679335, 0.007666348945349455, -0.010698757134377956, -0.003367154859006405, -0.019914129748940468, 0.019415291026234627, -0.03476111590862274, -0.01710488460958004, 0.01395433023571968, -0.010764393955469131, -0.019953511655330658, -0.013862439431250095, 0.00038561472319997847, -0.035785045474767685, 0.001051005208864808, -0.01706550270318985, -0.005477370228618383, 0.005011350382119417, -0.004853822756558657, -0.02748858742415905, -4.056133548147045e-05, 0.008618079125881195, 0.03392096981406212, -0.0041186935268342495, 0.025230688974261284, 0.026477783918380737, -0.01770874112844467, -0.005818679928779602, -0.005257487762719393, 0.015884045511484146, -0.0041351024992764, 0.02406235970556736, 0.028722554445266724, -0.019533436745405197, 0.01745932176709175, 0.014702587388455868, 0.018404487520456314, -0.039066873490810394, -0.02012416534125805, 0.008145495317876339, 0.0024498840793967247, -0.018548889085650444, 0.018522633239626884, -0.026530293747782707, 0.03499740734696388, 0.01703924871981144, -0.009714209474623203, 0.005050732288509607, -0.018693288788199425, -0.032555729150772095, -0.022683991119265556, 0.004830849822610617, 0.004578149411827326, 0.011571723967790604, -0.015844663605093956, -0.012418434955179691, -0.00011547930625965819, -0.03037659451365471, -0.010816902853548527, 0.014400659129023552, -0.022316426038742065, 0.014741969294846058, -0.007889512926340103, 0.005191850941628218, -0.011407632380723953, -0.010895666666328907, -0.00836209673434496, -0.0018181323539465666, -0.004637222271412611, 0.028486263006925583, 0.006501300260424614, 0.02374730259180069, 0.005588951986283064, 0.004732395056635141, 0.0105215385556221, 0.011328868567943573, -0.00585149833932519, -0.014912623912096024, -0.016566665843129158, -0.02067551203072071, -0.0015293315518647432, -0.00027239168412052095, -0.018470125272870064, -0.014505676925182343, 0.0039283474907279015, -0.028512516990303993, -0.025466980412602425, 0.011158213019371033, 0.0025696707889437675, -0.001724600326269865, -0.01226090732961893, 0.001375085674226284, -0.01040995679795742, 0.01677670143544674, -0.015713389962911606, 0.012195270508527756, -0.0202554389834404, 0.021266242489218712, -0.01214276161044836, 0.022894028574228287, -0.001218378427438438, 0.006228908430784941, -0.0008401478407904506, 0.011873651295900345, 0.0085983881726861, -5.9278008848195896e-05, 0.014571313746273518, -0.02395734004676342, -0.007495693862438202, 0.010101464577019215, 0.03696650266647339, -0.008572133257985115, -0.008106113411486149, -0.01173581462353468, 0.002801039721816778, 0.007252838462591171, 0.0049883779138326645, -0.017787504941225052, -0.03502366319298744, 0.015739643946290016, -0.0073775481432676315, -0.004732395056635141, -0.0014940518885850906, -0.013140437193214893, -0.011151649989187717, 0.01513578835874796, 0.01383618451654911, 0.01682921126484871, -0.04413401708006859, 0.016041573137044907, -0.02693723887205124, 0.03121674247086048, -0.008920007385313511, -0.028460007160902023, -0.02410174161195755, 0.0023711202666163445, -0.012392180040478706, 0.005520033650100231, -0.004948996007442474, -0.011919597163796425, 0.01672419346868992, 0.02693723887205124, -0.013494874350726604, 0.004341857507824898, 0.0015605089720338583, 0.01728866621851921, 0.017774377018213272, -0.011309177614748478, -0.017748123034834862, -0.02751484140753746, -0.026727203279733658, 0.0339997336268425, 0.011276358738541603, -0.009891428053379059, 0.018483251333236694, -0.01391494832932949, -0.023156573995947838, 0.02751484140753746, 0.0025729527696967125, 0.01764310523867607, 0.02000601962208748, -0.009300698526203632, 0.003442636923864484, 0.008486805483698845, -0.018811434507369995, 0.007810749113559723, -0.02681909315288067, 0.012845072895288467, -0.00023177906405180693, -0.009287571534514427, -0.008933134377002716, 0.014965132810175419, -0.017813758924603462, 0.004821004346013069, 0.007160947658121586, -0.004361548461019993, -0.007049365434795618, 0.004679886158555746, -0.010265556164085865, 0.013357037678360939, -0.0059794895350933075, 0.005579106509685516, 0.007009983528405428, -0.0027632988058030605, 0.013002600520849228, -0.018483251333236694, 0.00681963749229908, 0.019349655136466026, -0.01375742070376873, -0.04413401708006859, -0.028223715722560883, 0.01723615825176239, 0.0036658013705164194, -0.0026123346760869026, 0.004049775190651417, -0.016041573137044907, 0.005654588807374239, 0.002305483678355813, 0.032844528555870056, -0.003708465024828911, 0.010738139040768147, 0.013967457227408886, 0.005608642939478159, -0.05812772735953331, -0.026097090914845467, 0.009543553926050663, -0.008119241334497929, 0.010797211900353432, -0.0011494600912556052, -0.007837004028260708, 0.02681909315288067, -0.013291400857269764, 0.009366335347294807, -0.006566936615854502, 0.00033495150273665786, 0.014899496920406818, 0.008408041670918465, -0.04124600812792778, 0.015897171571850777, 0.015188297256827354, -0.015358952805399895, 0.0019559692591428757, -0.007128129247575998, -0.02444305084645748, -0.013284837827086449, -0.03355340287089348, -0.0138755664229393, -0.018601397052407265, -0.009346644394099712, 0.018601397052407265, 0.01753808557987213, -0.0235766489058733, -0.024955015629529953, 0.00585149833932519, -0.013402983546257019, 0.016330372542142868, 0.2297804355621338, -0.003728155978024006, -0.01197867002338171, 0.042795028537511826, 0.0023629157803952694, -0.007338166236877441, 0.01697361096739769, 0.028591280803084373, -0.010226174257695675, 0.004535485524684191, -0.028433753177523613, 0.012155888602137566, 0.036441411823034286, 0.0033638731110841036, 0.019599072635173798, -0.029956521466374397, -0.03817421570420265, -0.019940383732318878, 0.004660194739699364, -0.03835799917578697, 0.006885273847728968, 0.002213592641055584, 0.010593739338219166, -0.01044933870434761, 0.02393108606338501, 0.009038153104484081, 0.004955559503287077, -0.00011476140207378194, 0.025401344522833824, 0.0043090395629405975, -0.01749870367348194, -0.013179819099605083, 0.015857789665460587, 0.014636950567364693, -0.0011732532875612378, 0.0044534397311508656, 0.019651582464575768, 0.0039513204246759415, -0.007489130366593599, -0.0030701495707035065, -0.01753808557987213, -0.0070624928921461105, 0.02693723887205124, 0.007108438294380903, -0.009445099160075188, 0.03155805170536041, -0.009576372802257538, -0.0016999866347759962, -0.018929580226540565, 0.0077188583090901375, -0.025545744225382805, -0.012982909567654133, 0.024994397535920143, 0.035575009882450104, 0.004863668233156204, 0.01197867002338171, 0.039355672895908356, -0.0012405307497829199, 0.001663066097535193, 0.021633805707097054, -0.013317655771970749, 0.02081991359591484, -0.021738825365900993, -0.010921921581029892, 0.0010764393955469131, 0.0029470811132341623, -0.016527283936738968, 0.0068262009881436825, 0.02390483021736145, -0.02414112351834774, -0.011492960155010223, 0.005096678156405687, -0.02005852945148945, -0.01757746748626232, -0.013357037678360939, 0.00847367849200964, 0.02394421212375164, -0.003504991764202714, 0.012569399550557137, -0.004955559503287077, -0.003462327877059579, -0.004981813952326775, 0.025204434990882874, -0.015398334711790085, 0.003032408654689789, 0.002952003851532936, 0.01752495765686035, 0.023038428276777267, -0.016238482668995857, 0.02095118723809719, 0.01678982935845852, 0.009241625666618347, -0.012740054167807102, 0.0006227267440408468, 0.003116095205768943, 0.0060057444497942924, 0.0402483306825161, -0.016094081103801727, 0.01008833758533001, -0.007961713708937168, -0.012326544150710106, -0.04429154470562935, 0.029956521466374397, 0.010810339823365211, -0.009983318857848644, -0.0027961169835180044, 0.025112543255090714, 0.012641599401831627, 0.0015760976821184158, -0.02767236903309822, -0.014873242005705833, 0.00195104640442878, -0.011427323333919048, -0.004719268064945936, 0.007265965919941664, 0.025020651519298553, 0.0054478333331644535, -0.03056037798523903, 0.004673322197049856, 0.00863777007907629, 0.005677561275660992, -0.023274719715118408, 0.0018214142182841897, 0.01735430397093296, -0.007817313075065613, -0.025834545493125916, -0.000670723500661552, 0.029011353850364685, 0.01182770635932684, -0.04161357134580612, 0.033868458122015, -0.035837557166814804, -0.0077385492622852325, 0.014256258495151997, -0.009497608989477158, 0.010606866329908371, 0.014531931839883327, -0.006176399067044258, -0.0029913857579231262, -0.000280801352346316, 0.004971968475729227, -0.019756602123379707, 0.026123346760869026, 0.004830849822610617, 0.032214418053627014, 0.0009386026649735868, -0.005218105856329203, -0.014505676925182343, 0.010856284759938717, -0.00129139912314713, -0.026005201041698456, 0.010429647751152515, -0.018378233537077904, -0.02431177720427513, 0.012083688750863075, -0.0008331739227287471, -0.01709175668656826, -0.029720230028033257, -0.007902640849351883, 0.03024532087147236, -0.028906336054205894, 0.019402163103222847, 0.02743607759475708, -0.005693970713764429, -0.012799127027392387, -0.022972792387008667, -0.16424889862537384, 0.009786409325897694, 0.01682921126484871, -0.04022207856178284, -0.0035542191471904516, 0.008821552619338036, 0.03352715075016022, 0.009668263606727123, -0.015201425179839134, -0.02011103928089142, 0.006806510034948587, -0.009025025181472301, -0.03757036104798317, -0.013534256257116795, -0.007850131019949913, 0.006402845494449139, -0.03859429061412811, 0.013147001154720783, 0.029667720198631287, 0.03168932721018791, 0.006038562394678593, 0.016514156013727188, 0.00255982531234622, -0.005395324435085058, 0.002896212739869952, -0.007489130366593599, 0.0009484481415711343, -0.0024662932846695185, -0.0010944894747808576, -0.002425270387902856, -0.009924245998263359, -0.02000601962208748, 0.005352660547941923, -0.0120180519297719, 0.009727336466312408, 0.025992073118686676, -0.029405174776911736, 0.01676357537508011, -0.006163272075355053, 0.028433753177523613, 0.017734995111823082, 0.01035744696855545, 0.014216876588761806, 0.026359638199210167, -0.010757829993963242, 0.03355340287089348, -0.01671106554567814, 0.01508327852934599, 0.02457432448863983, -0.02109558694064617, -0.01338985562324524, -0.03168932721018791, 0.042558737099170685, -0.00603199889883399, 0.0175905954092741, 0.0016056341119110584, 0.016382882371544838, 0.009943936951458454, 0.010554357431828976, -0.003583755576983094, -0.013192946091294289, -0.019126489758491516, 0.015201425179839134, -0.0030110767111182213, -0.0015785590512678027, -0.022342681884765625, 0.0006555450381711125, -0.02005852945148945, -0.03342213109135628, -0.0007113360916264355, -0.013691783882677555, -0.01226747129112482, 0.01516204234212637, -0.0029552855994552374, 0.016080955043435097, 0.014636950567364693, -0.02059674821794033, -0.005759607069194317, 0.012333107180893421, 0.024771234020590782, -0.029536446556448936, 0.015634626150131226, -0.018220705911517143, -0.008821552619338036, -0.002786271506920457, 0.0402483306825161, 0.00678025558590889, 0.011046631261706352, -0.027987424284219742, 0.007082183845341206, 0.018955836072564125, -0.03667770326137543, -0.036283884197473526, -0.012247780337929726, 0.02698974870145321, -0.0014874882763251662, 0.01748557575047016, -0.005401887930929661, -0.006314236205071211, 0.00870340596884489, -0.004732395056635141, 0.0007101054070517421, 0.0037708196323364973, 0.015267061069607735, -0.006212499458342791, 0.005559415556490421, -0.023130320012569427, -0.0037642561364918947, 0.024666214361786842, -0.019152745604515076, 0.007613839581608772, 0.013278273865580559, 0.009497608989477158, 0.026766585186123848, -0.00030890200287103653, 0.014321895316243172, -0.022067008540034294, -0.009281007573008537, 0.011348559521138668, 0.006514427252113819, 0.0628010481595993, -0.001444824505597353, -0.02704225853085518, 0.0333433672785759, -0.02402297779917717, -0.006632573436945677, -0.11341995745897293, -0.03497115150094032, 0.00032941342215053737, 0.010062082670629025, 0.00034725837758742273, 0.014597568660974503, 0.002761657815426588, 0.002015042118728161, -0.004427185282111168, 0.009747027419507504, -0.029326410964131355, -0.049516212195158005, -0.0018132096156477928, -0.00756133021786809, 0.032371945679187775, -0.009254753589630127, 0.005454397294670343, -0.01996663771569729, 0.017826886847615242, 0.01545084360986948, -0.005520033650100231, 0.003465609857812524, 0.009563244879245758, -0.04494790732860565, -0.0119852339848876, -0.02344537526369095, -0.02037358470261097, 0.0171967763453722, 0.008762478828430176, 0.014269385486841202, -0.005208260379731655, -0.006074662785977125, 0.03457733243703842, -0.004194175358861685, -0.02400984987616539, -0.014676332473754883, -0.05040886998176575, 0.008972516283392906, 0.005844934843480587, -0.026766585186123848, 0.009996446780860424, -0.0021807742305099964, 0.01174894254654646, -0.016461646184325218, 0.003186654532328248, -0.010928485542535782, -0.016343500465154648, 0.007889512926340103, 0.010186792351305485, -0.01024586521089077, -0.014466295018792152, -0.01744619384407997, -0.03415726125240326, 0.004030084237456322, 0.03331711143255234, -0.0005074525834061205, 0.018220705911517143, -0.012740054167807102, -0.004821004346013069, 0.013888693414628506, 0.012595653533935547, 0.003997265826910734, -0.011066322214901447, -0.0038364562205970287, 0.0349186435341835, 0.008040477521717548, 0.0029995902441442013, 0.005776016507297754, 0.018443869426846504, -0.007351293694227934, -0.006865582894533873, -0.004522358067333698, -0.02717353031039238, 0.004069466143846512, -0.022027626633644104, -0.0068524559028446674, -0.011958979070186615, -0.016146590933203697, 0.015818407759070396, 0.005096678156405687, -0.012904145754873753, -0.0082702049985528, 0.021712569519877434, -0.0007995351916179061, -0.0068918378092348576, 0.02449556067585945, -0.005201696418225765, -0.006711337249726057, 0.005575824994593859, -0.016264736652374268, -0.02435115911066532, -0.007403802592307329, -0.001724600326269865, -0.022933410480618477, 0.005726788658648729, 0.023287847638130188, 0.0037511286791414022, -0.007987967692315578, 0.004945714026689529, 0.0010403393534943461, -0.015096406452357769, -0.006301108747720718, -0.06768441200256348, 0.008900316432118416, -0.0055167521350085735, 0.011059758253395557, -0.002006837399676442, 0.0075482032261788845, 0.009799536317586899, -0.02687160298228264, -0.022618355229496956, 0.01717052049934864, 0.018168196082115173, 0.03830549120903015, -0.0066785188391804695, -0.011040067300200462, -0.04140353575348854, 0.007082183845341206, 0.025650763884186745, -0.0004775059060193598, 0.000927936693187803, -0.002968412823975086, -0.008611515164375305, -0.0035870373249053955, -0.001959251007065177, -0.006918092258274555, -0.024915633723139763, -0.004758649971336126, 0.03736032545566559, 0.003692055819556117, 0.011650487780570984, -0.014860115014016628, 0.009366335347294807, -0.03058663196861744, -0.004565021954476833, 0.019730346277356148, 0.009779845364391804, -0.02691098488867283, -0.03150554373860359, 0.01668481156229973, 0.013823057524859905, 0.06432382017374039, -0.018706416711211205, -0.018850816413760185, -0.01213619764894247, -0.017892522737383842, 0.003071790561079979, 0.02001914754509926, 0.005011350382119417, 0.006445508915930986, 0.032792020589113235, 0.00437795789912343, 0.01197867002338171, 0.014715714380145073, 0.011663614772260189, 0.012661290355026722, -0.02114809677004814, -0.022119516506791115, 0.01218870747834444, 0.009871737100183964, -0.008184877224266529, -0.01661917380988598, 0.03667770326137543, 0.011709560640156269, 0.02016354724764824, 0.00303569040261209, 0.03675646707415581, -0.04547300189733505, -0.015739643946290016, -0.025480108335614204, -0.0075285122729837894, -0.03533871844410896, -0.0028322171419858932, -0.0019329963251948357, -0.011420759372413158, 0.007364420685917139, -0.02432490512728691, 0.012333107180893421, 0.015595244243741035, -0.011197594925761223, -0.022972792387008667, 0.002244770061224699, 0.009228498674929142, -0.0077188583090901375, -0.03024532087147236, 0.022500209510326385, 0.039618220180273056, 0.005145905539393425, 0.01723615825176239, 0.017826886847615242, 0.0038528654258698225, -0.009622317738831043, 0.004279503133147955, 0.007233147509396076, 0.0086640240624547, -0.0303503405302763, 0.011729251593351364, 0.011880215257406235, -0.010108028538525105, -0.011355122551321983, 0.00768603989854455, 0.008073295466601849, 0.005910571198910475, 0.008086422458291054, 0.012464380823075771, -0.026477783918380737, -0.017866268754005432, 0.00835553277283907, -0.022631481289863586, -0.021371260285377502, 0.008952825330197811, -0.005201696418225765, -0.012641599401831627, 0.009195680730044842, 0.010875975713133812, 0.017918778583407402, -0.01730179414153099, 0.004991659428924322, -0.008920007385313511, -0.009891428053379059, -0.042952556163072586, 0.042873792350292206, 0.0009796255035325885, 0.01755121350288391, 0.01749870367348194, -0.025217562913894653, 0.0273573137819767, -0.016566665843129158, 0.016369754448533058, 0.0016901411581784487, -0.006202653981745243, -0.01521455217152834, -0.010941612534224987, 0.02347162924706936, -0.038961853832006454, -0.010258992202579975, 0.012011488899588585, -0.008854370564222336, 0.0028305761516094208, 0.0037609741557389498, -0.015096406452357769, 0.043057575821876526, 0.0207148939371109, -0.007587585132569075, 0.005523315630853176, 0.004089157097041607, 0.02340599335730076, 0.0006859019631519914, -0.004735677037388086, -0.009445099160075188, 0.008821552619338036, 0.03344838693737984, -0.019126489758491516, 0.007154383696615696, -0.02704225853085518, -0.04066840559244156, 0.01512266043573618, -0.021305624395608902, -0.012490634806454182, -0.015240807086229324, 0.022158898413181305, 0.016133463010191917, -0.01541146170347929, 0.010692194104194641, 0.003147272625938058, -0.0036822103429585695, -0.005657870322465897, 0.029247645288705826, 0.013901821337640285, -0.014216876588761806, -0.014466295018792152, -0.006324081681668758, 0.004341857507824898, -0.01391494832932949, -0.02046547643840313, -0.009668263606727123, 0.01395433023571968, 0.0014891291502863169, -0.017695613205432892, -0.0007416930166073143, 0.02738356776535511, -0.012628472410142422, 0.014059348963201046, -0.02043922059237957, -0.011099140159785748, 0.010718448087573051, -0.0051130871288478374, 0.02118747867643833, 0.0029881037771701813, -0.0017262412002310157], properties={'_node_content': '{\"id_\": \"8e0b0e04-1dac-4251-8614-dfd7623e21cc\", \"embedding\": null, \"metadata\": {}, \"excluded_embed_metadata_keys\": [], \"excluded_llm_metadata_keys\": [], \"relationships\": {\"1\": {\"node_id\": \"3a2ecb93-0a0b-4385-ac48-8304fd0a7682\", \"node_type\": \"4\", \"metadata\": {}, \"hash\": \"2c0bf48c4c796e004ef5432d3a0bc037187f9301aacfc044a58128e222de26e3\", \"class_name\": \"RelatedNodeInfo\"}, \"2\": {\"node_id\": \"f687f047-063b-49f3-bdbd-1fa412a4801a\", \"node_type\": \"1\", \"metadata\": {}, \"hash\": \"6c31e2d1c4ccb39fecf52d0b155f3799c311e0899b7a67d22cd18d6a9348c928\", \"class_name\": \"RelatedNodeInfo\"}, \"3\": {\"node_id\": \"f37267c8-7c18-4ebf-89c2-883c9fb4a021\", \"node_type\": \"1\", \"metadata\": {}, \"hash\": \"4039e77d44d257ca36b345a5a9ba5b578e18170399dec983732255272b380e87\", \"class_name\": \"RelatedNodeInfo\"}}, \"text\": \"\", \"mimetype\": \"text/plain\", \"start_char_idx\": 2008, \"end_char_idx\": 3981, \"text_template\": \"{metadata_str}\\\\n\\\\n{content}\", \"metadata_template\": \"{key}: {value}\", \"metadata_seperator\": \"\\\\n\", \"class_name\": \"TextNode\"}', '_node_type': 'TextNode', 'document_id': '3a2ecb93-0a0b-4385-ac48-8304fd0a7682', 'doc_id': '3a2ecb93-0a0b-4385-ac48-8304fd0a7682', 'ref_doc_id': '3a2ecb93-0a0b-4385-ac48-8304fd0a7682'}, text='Trước đó, nhà vua cũng cho Thiên Thành công chúa về ở vương phủ cha của Trung Thành Vương để chờ ngày làm lễ ăn hỏi.\\n\\nTrong khi cả kinh thành đang tưng bừng với những trò chơi và lễ hội, ở vương phủ Trần Quốc Tuấn chỉ cần nghĩ đến việc ngày mai, người con gái mình yêu thương sẽ trở thành vợ người khác thì tâm tư của chàng càng đau đớn. Chàng trằn trọc suốt đêm không ngủ cuối cùng chàng đưa ra quyết định táo bạo đó chính là đột nhập vào phủ Nhân Đạo Vương, cướp vợ về.\\n\\nNghĩ là làm, trong đêm tối, nhân lúc mọi người còn đang say mê với lễ hội, Trần Quốc Tuấn lẻn vào phủ Nhân Đạo Vương. Biết không thể theo vào bằng cửa chính, chàng đã tìm cách trèo tường, vượt qua hàng toán lính tuần tra, dò trong đêm đen và tìm được chính xác phòng công chúa.\\n\\nTrái tim đau khổ của Thiên Thành sống lại lần nữa khi thấy người tình trong mộng xuất hiện trước mặt mình. Khi ấy, cả phủ Nhân Đạo Vương vẫn đang say trong lễ hội, không ai biết, trong phòng công chúa, đôi uyên ương đã gặp lại nhau. Thế nhưng, sự liều lĩnh này của Trần Quốc Tuấn sẽ trở thành thảm án nếu sự vụ bị bại lộ. Và nếu như chuyện không bại lộ, thì hôm sau công chúa Thiên Thành phải kết hôn với con trai của Nhân Đạo Vương. Để tránh khỏi tai ương đó, Trần Quốc Tuấn đã đi tiếp một bước cờ cao minh, đó chính là dồn nhà vua vào thế sự đã rồi.\\n\\nNgay sau khi đột nhập thành công vào phòng công chúa, việc đầu tiên Trần Quốc Tuấn làm là ra lệnh cho thị nữ của công chúa về báo cho Thụy Bà công chúa, mẹ nuôi của chàng, Sau khi nhận được tin báo, Thụy Bà công chúa vào cung ngay lập tức và than khóc với Thái Tông: \"Không ngờ Quốc Tuấn càn rỡ đang đêm lẻn vào chỗ của Thiên Thành. Nhân Đạo Vương đã bắt giữ hắn rồi, e sẽ giết hắn mất. Xin bệ hạ rủ lòng thương, sai người đến cứu\".\\n\\nLời nói của Thụy Bà công chúa như sét đánh ngang tai nhà vua, Trần Thái Tông tức Cảnh lúc bấy giờ đã nhận đủ lễ vật của Nhân Đạo Vương, sao có thể để Trần Quốc Tuấn cả gan làm loạn như vậy? Thụy Bà công chúa tiếp tục kiên trì van xin.', id_='8e0b0e04-1dac-4251-8614-dfd7623e21cc'),\n",
              " 'f37267c8-7c18-4ebf-89c2-883c9fb4a021': ChunkNode(label='text_chunk', embedding=[-0.016273589804768562, -0.025239864364266396, 0.02444988302886486, -0.016247257590293884, -0.014364471659064293, 0.006546960212290287, -0.0055989837273955345, -0.00013742361625190824, -0.026582829654216766, -0.013877317309379578, 0.008044630289077759, 0.025042368099093437, -0.007122986949980259, -0.021619122475385666, -0.023291246965527534, 0.00801829807460308, 0.036839403212070465, 0.007445562165230513, 0.0065535432659089565, -0.03283683955669403, 0.0021033219527453184, -0.006158553063869476, -0.025134533643722534, 0.04402822256088257, -0.015667937695980072, 0.010302657261490822, 0.034390468150377274, -0.019999662414193153, 0.0014589944621548057, -0.02746497467160225, -0.0020292613189667463, 0.01360082346946001, -0.011290132068097591, 0.006418588105589151, -0.004256017506122589, -0.014548799954354763, 0.00602688966318965, -0.002587184775620699, 0.008999190293252468, 0.017787719145417213, 0.01514128502458334, 0.007017656695097685, 0.01820904016494751, 0.013166334480047226, -0.027148982509970665, 0.009887917898595333, -0.02011816017329693, -0.010493569076061249, -0.0008632178069092333, 0.01727423071861267, 0.028623612597584724, 0.02233010344207287, -0.02462104521691799, 0.005717481020838022, -0.00619476055726409, -0.0006031827069818974, -0.017261065542697906, 0.022501265630126, -0.019209682941436768, 0.0037392391823232174, 0.006010431796312332, 0.0043481821194291115, -0.0056253164075315, 0.006839910987764597, -0.008209209889173508, -0.019236015155911446, 0.007076905108988285, -0.009815502911806107, -0.008446203544735909, -0.015983929857611656, 0.02414705790579319, 0.021355794742703438, 0.010987306013703346, -0.014719962142407894, 0.0269909854978323, -0.0371553972363472, -0.029071267694234848, -0.004851794335991144, -0.01870936155319214, -0.004423888400197029, 0.0028554487507790327, -0.015470443293452263, -0.01818270795047283, -0.002210298553109169, 0.00123269809409976, 0.02746497467160225, -0.003936734050512314, 0.03349515423178673, 0.010032746940851212, -0.039393674582242966, 0.007669390179216862, -0.0016729474300518632, 0.015536274760961533, 0.03452213108539581, 0.013679821975529194, -0.0005204816698096693, -0.03383748233318329, 0.020170824602246284, -0.014377637766301632, -0.0033080417197197676, -0.025608520954847336, -0.0164974182844162, -0.0397096648812294, -0.010414570569992065, -0.025529522448778152, -0.012791094370186329, 0.005460737273097038, -0.01573377102613449, 0.007814220152795315, -0.008729279972612858, -0.007333648391067982, 0.047240808606147766, 0.0056746904738247395, -0.03739239275455475, 0.008571283891797066, -0.00835403986275196, 0.004239559639245272, 0.009762837551534176, -0.0014688692754134536, -0.009914250113070011, 0.007445562165230513, 0.022883089259266853, -0.01797204650938511, -0.008413287810981274, 0.013330914080142975, 0.018156375735998154, -0.011481043882668018, -0.007768137380480766, -0.014667296782135963, 0.010539650917053223, 0.038445696234703064, 0.004035481717437506, 0.035707101225852966, 0.024542048573493958, -0.00671483064070344, 0.0011430024169385433, -0.05169102922081947, -0.004736588802188635, -0.012238108552992344, -0.02951892279088497, 0.03839303180575371, 0.005210577044636011, -0.004028898663818836, -0.03115154802799225, 0.023962728679180145, 0.030861888080835342, 0.008709530346095562, 0.020276155322790146, 0.013153168372809887, 0.001024505472742021, 0.029861247166991234, 0.013508659787476063, 0.0074521456845104694, 0.01935451291501522, 0.02965058572590351, 0.01225785817950964, -0.030071908608078957, -0.005806353874504566, -0.0037820297293365, -0.007564059458673, 0.0012038967106491327, -0.0010656502563506365, 0.010249991901218891, -0.026846157386898994, 0.024897539988160133, 0.019710002467036247, -0.013613990508019924, 0.006833327934145927, -0.006342881824821234, -0.035707101225852966, 0.015852266922593117, -0.002389689674600959, -0.03404814004898071, 0.0028159499634057283, 0.021750785410404205, 0.01537827868014574, 0.0233044121414423, 0.0008035578648559749, -0.019038520753383636, -0.01019732654094696, -0.030967218801379204, -0.007366564124822617, 0.03088822215795517, 0.020605314522981644, -0.024831706658005714, 0.01603659614920616, -0.0049669998697936535, -0.002848865697160363, 0.03336349129676819, -0.013330914080142975, 0.01190895028412342, 0.01831437088549137, 0.019209682941436768, -0.004390972666442394, -0.6168164610862732, -0.007577225565910339, -0.009407346136868, -0.010151243768632412, 0.022948920726776123, -0.01677391119301319, 0.012652847915887833, 0.017195234075188637, -0.029834914952516556, -0.009420512244105339, -0.028228621929883957, 0.0406576432287693, 0.007294149603694677, -0.026688160374760628, -0.010941224172711372, -0.018064212054014206, -0.006859660614281893, 0.00821579247713089, 0.0046312580816447735, 0.001983179245144129, -0.0051710777916014194, -0.01403531339019537, -0.009723338298499584, 0.017985213547945023, 0.022527599707245827, 0.016247257590293884, 0.009348098188638687, 0.015062287449836731, -0.0198548324406147, -0.005197410471737385, -0.020815975964069366, 0.04360689967870712, 0.00870294775813818, 0.02830762043595314, 0.0533236563205719, 0.0004562957910820842, -0.019301846623420715, 0.03349515423178673, -0.014812126755714417, 0.014311806298792362, 0.005207285284996033, -0.015114952810108662, 0.015812767669558525, -0.02115830034017563, 0.00654037669301033, -0.012422436848282814, 0.024239221587777138, 0.0005225389031693339, 0.019367678090929985, -0.01683974266052246, -0.007550892885774374, -0.011257216334342957, 0.009835252538323402, 0.021276796236634254, -0.03152020648121834, -0.018538199365139008, 0.04034164920449257, -0.034996118396520615, 0.011448128148913383, -0.0005110183847136796, -0.0027912629302591085, 0.017010904848575592, 0.019236015155911446, -0.002733660163357854, -0.01643158495426178, 0.02193511463701725, -0.02833395265042782, 0.0005258304881863296, 0.020578980445861816, -0.0017692262772470713, -0.0030315485782921314, 0.002111550886183977, -0.0005492830532602966, 0.005826103035360575, 0.0048649609088897705, 0.025950845330953598, 0.0480307899415493, 0.013798318803310394, 0.014048479497432709, 0.02451571635901928, -0.01410114485770464, -0.016945073381066322, 0.010427737608551979, 0.005408071912825108, 0.007425813004374504, -0.029834914952516556, -0.0433962382376194, 0.005694439634680748, 0.002862032037228346, -0.029834914952516556, -0.014259140938520432, 0.009848418645560741, -0.01877519302070141, 0.0004451866843737662, 0.013330914080142975, 0.028360284864902496, -0.010012997314333916, -0.0142064755782485, 0.013943148776888847, -0.013666655868291855, 0.010704230517148972, -0.007886634208261967, -0.02609567530453205, -0.008808277547359467, 0.004687215201556683, 0.01734006218612194, -0.02670132741332054, -0.0011528772301971912, 0.05571993067860603, -0.013093920424580574, 0.0049439589492976665, 0.008571283891797066, 0.01716889999806881, 0.0020407820120453835, -0.0077352216467261314, -0.0035977009683847427, 0.019736336544156075, 0.025766517966985703, 0.00882144458591938, -0.005740521941334009, -0.021276796236634254, 0.01410114485770464, 0.016510583460330963, -0.008630532771348953, 0.013653488829731941, 0.0318625308573246, -0.01562844030559063, -0.03223118931055069, -0.015444111078977585, 0.017458559945225716, 0.013587657362222672, -0.016892407089471817, 0.03360048681497574, -0.018261706456542015, 0.03710273280739784, -0.018735693767666817, 0.02854461409151554, -0.001294415327720344, 0.004743172321468592, -0.02340974286198616, -0.023199081420898438, 0.020210323855280876, 0.01942034438252449, 0.0075443098321557045, 0.010750312358140945, -0.024357719346880913, -0.01106630451977253, -0.012251274660229683, -0.03557543829083443, 0.003706323215737939, 0.0064087132923305035, -0.015430944040417671, -0.0177745521068573, -0.0035285777412354946, 0.0006393901421688497, 0.02176395058631897, -0.012870091944932938, -0.024028560146689415, 0.003663532668724656, -0.03981499746441841, -0.00821579247713089, 0.017695553600788116, -0.014245973899960518, 0.0013553096214309335, 0.004239559639245272, -0.02562168799340725, -0.019341345876455307, 0.008130211383104324, -0.0026201007422059774, -0.0269909854978323, 0.013903649523854256, -0.04128962755203247, 0.0034693293273448944, 0.025068702176213264, 0.007537726778537035, 0.00607955502346158, 0.0013355601113289595, -0.031915195286273956, 0.01140204630792141, -0.006826744414865971, -0.01002616435289383, -0.011658789590001106, -0.020381486043334007, -0.01582593470811844, 0.028755275532603264, 0.0009545592474751174, 0.007208568509668112, 0.0006241665687412024, 0.012231525033712387, 0.030545895919203758, -0.0196178387850523, 0.000866509391926229, -0.006951824761927128, -0.01974950172007084, 0.01974950172007084, 0.004657590761780739, 0.006504169199615717, 0.037708383053541183, 0.0011314819566905499, 0.006497586145997047, 0.0026925154961645603, 0.014298639260232449, 0.016945073381066322, 0.006514044012874365, -0.0014738065656274557, -0.023027919232845306, 7.745507900835946e-05, 0.008749029599130154, 0.02102663740515709, -0.017353229224681854, -0.014930623583495617, -0.007649640552699566, -0.03207319229841232, -0.034021809697151184, 0.023225415498018265, 0.035127781331539154, 0.015918098390102386, -0.00036495435051620007, 0.009328348562121391, -0.004647716414183378, -0.013093920424580574, -0.019973330199718475, -0.006543668452650309, 0.01410114485770464, -0.013692988082766533, 0.0009973498526960611, -0.016576414927840233, 0.004525927826762199, 0.012007697485387325, -0.014601465314626694, -0.007926133461296558, 0.0018630364211276174, -0.01415381021797657, 0.015088619664311409, 0.007807636633515358, 0.008446203544735909, 0.00791296735405922, -0.019078020006418228, 0.008591033518314362, -0.005082205403596163, 0.021777117624878883, 0.013251915574073792, -0.0019157016649842262, -0.012600182555615902, 0.014087977819144726, 0.00876877922564745, 0.015167618170380592, 0.004256017506122589, 0.015114952810108662, 0.011224300600588322, 0.0011281903134658933, 0.025529522448778152, -0.025411026552319527, -0.022145776078104973, 0.031678199768066406, -0.03344248980283737, 0.006560126319527626, 0.007149319630116224, 0.020644813776016235, 0.028254954144358635, 0.019525675103068352, -0.0027418893296271563, -0.0023156290408223867, 0.0010681189596652985, 0.03470645844936371, 0.023396577686071396, 0.05316565930843353, -0.0012878321576863527, -0.03839303180575371, 0.0009562050690874457, 0.004384389612823725, -0.002577309962362051, 0.004693798255175352, -0.02113196812570095, 0.026266837492585182, -0.024094393476843834, -0.013396745547652245, -0.0019124101381748915, 0.010592316277325153, 0.007820802740752697, -0.013692988082766533, -0.04102629795670509, 0.026082510128617287, 0.03802437335252762, 0.005533152259886265, -0.011876033619046211, -0.01928868144750595, 0.004377806559205055, -0.02666182816028595, 0.017024070024490356, 0.008459370583295822, -0.029571587219834328, 0.017721885815262794, -0.020684311166405678, -0.009769420139491558, -0.023620404303073883, 0.030914554372429848, -0.002611871575936675, 0.010177576914429665, -0.016813410446047783, 0.01237635500729084, -0.0018235374009236693, -0.03367948532104492, -0.014548799954354763, 0.027017319574952126, -0.001082108123227954, -0.02559535577893257, 0.003151691285893321, 0.019275514408946037, -0.01495695672929287, -0.03099355287849903, -0.017616555094718933, -0.017445392906665802, -0.009966915473341942, -0.005523277446627617, -0.014127477072179317, -0.026201006025075912, 0.030440567061305046, 0.011665373109281063, -0.019091185182332993, -0.010091995820403099, -0.010440903715789318, -0.013653488829731941, -0.009183518588542938, 0.06425171345472336, -0.005842560902237892, -0.0068464940413832664, 0.008176294155418873, -0.010941224172711372, -4.8988022172125056e-05, -0.021013470366597176, -0.04194794222712517, 0.033653151243925095, 0.013758819550275803, 0.01329799834638834, -0.0009438616107217968, 0.01061206590384245, 0.0007332002860493958, 0.035470105707645416, 0.008597617037594318, 0.018972689285874367, -0.011342797428369522, 0.003156628692522645, 0.010671314783394337, 0.000965256942436099, 0.002661245409399271, 0.019091185182332993, 0.01610242761671543, -0.020842308178544044, -0.0208949726074934, 0.01838020421564579, 0.022316938266158104, 0.02139529399573803, -0.01716889999806881, -8.830701699480414e-05, -0.0010664730798453093, 0.017445392906665802, 0.010473819449543953, -0.02254076488316059, 0.010157827287912369, 0.0004908574046567082, -0.006234259344637394, -0.0015190659323707223, 0.0015017850091680884, 0.0269909854978323, 0.016971405595541, 0.01336382981389761, -0.0024966662749648094, 0.0009027168271131814, -0.02646433375775814, -0.01868302933871746, -0.005546318367123604, -0.011540292762219906, -0.011382296681404114, 0.04600317403674126, -0.03373214974999428, -0.03331082686781883, -0.035233110189437866, 0.027517639100551605, -0.02126363106071949, -0.006230968050658703, 0.008610783144831657, 0.016418419778347015, 0.030177239328622818, -0.009065021760761738, -0.02173761837184429, -0.0017001029336825013, -0.012751595117151737, 0.010941224172711372, -0.025279363617300987, -0.02005232870578766, -0.0051480368711054325, 0.0054837786592543125, -0.011428378522396088, -0.022501265630126, 0.0019568465650081635, -0.005220451857894659, -0.00671483064070344, 0.008110462687909603, 0.004753046669065952, 0.02685932256281376, -0.001272197114303708, 0.008057797327637672, 0.011724621057510376, -0.019907498732209206, -0.038182370364665985, -0.025305695831775665, -0.024397218599915504, 0.005740521941334009, 0.009552176110446453, 0.014114310964941978, 0.01723473146557808, 0.0006258123321458697, 0.003247147426009178, 0.016655413433909416, 0.01308075338602066, -0.014680462889373302, 0.004733297508209944, 0.013785152696073055, -0.0006546137155964971, -0.010282907634973526, 0.015128118917346, -0.001676238956861198, 0.016352588310837746, 0.007162486203014851, -0.010506735183298588, 0.003403497627004981, -0.019538840278983116, -0.010065662674605846, 0.007419229485094547, -0.004496303386986256, 0.008005131967365742, -0.022158941254019737, -0.007327065337449312, 0.016089260578155518, -0.02126363106071949, 0.003712906502187252, -0.006905742455273867, -0.0045061782002449036, 0.015351946465671062, 0.006444920785725117, 0.014693629927933216, 0.006866243667900562, -0.0015388153260573745, -0.029729584231972694, -0.02381790056824684, 0.012639681808650494, -0.012027447111904621, -0.023357078433036804, 0.015299281105399132, 0.001797204720787704, -0.010434320196509361, 0.026411667466163635, 0.01643158495426178, 0.02039465308189392, 0.01998649537563324, 0.042105939239263535, 0.012639681808650494, -0.0198548324406147, -0.0008525201701559126, -0.024660544469952583, 0.003545035608112812, -3.119289976893924e-05, -0.014561966061592102, -0.011711454950273037, -0.029255596920847893, -0.021408461034297943, -0.00967725645750761, -0.0055858176201581955, -0.02746497467160225, 0.007425813004374504, 0.0069913240149617195, -0.010164410807192326, 0.0204209852963686, -0.02011816017329693, -0.024502549320459366, -0.03802437335252762, 0.0015626794192939997, -0.012955673038959503, -0.031678199768066406, -0.01054623443633318, -0.006754329893738031, 0.0016169905429705977, -0.034258801490068436, 0.02343607507646084, -0.004190186038613319, 0.03589142858982086, 0.01537827868014574, -0.014917457476258278, 0.01928868144750595, -0.021487457677721977, -0.007333648391067982, -0.02438405156135559, 0.009361264295876026, -0.003082568058744073, 0.02954525500535965, 0.03336349129676819, 0.028386617079377174, -0.0049011679366230965, 0.030308902263641357, 0.002680995035916567, -0.020170824602246284, 0.0057767294347286224, -0.05358698219060898, -0.012856925837695599, -0.027043651789426804, -0.015496776439249516, -0.004934084136039019, -0.005062455777078867, -0.00044477524352259934, 0.06567367911338806, 0.0156942717730999, 0.009315181523561478, 0.009664089418947697, 0.034890785813331604, -0.0323365181684494, -0.01435130462050438, 0.003265250939875841, -0.016010263934731483, -0.013666655868291855, -0.0021872573997825384, -0.0035977009683847427, 0.01004591304808855, 0.028755275532603264, 0.0055660679936409, 0.016642246395349503, -0.007359981071203947, -0.011165051721036434, -0.008222375996410847, 0.022883089259266853, -0.02880793996155262, -0.027412308380007744, -0.004999915603548288, -0.021052969619631767, -0.02360723912715912, -0.02709631621837616, -0.00716906925663352, -0.042105939239263535, 0.0019864707719534636, -0.015641605481505394, -0.0005994797102175653, 0.009762837551534176, 0.0025295820087194443, -0.014667296782135963, -0.0038774856366217136, 0.01433813851326704, 0.04505519941449165, -0.018459200859069824, 0.023962728679180145, 0.027675636112689972, -0.025437358766794205, -0.0069123259745538235, 0.0038873604498803616, 0.015667937695980072, -0.026306336745619774, 0.029597921296954155, 0.022896256297826767, -0.02508186735212803, 0.02334391139447689, 0.020276155322790146, 0.013423078693449497, -0.021355794742703438, -0.012330272234976292, 0.004897876642644405, 0.008663448505103588, -0.021553291007876396, 0.012139360420405865, -0.01573377102613449, 0.018393369391560555, 0.029202930629253387, -0.02136896178126335, 0.006003848742693663, -0.02063164673745632, -0.016642246395349503, -0.02676715888082981, 0.0038281118031591177, -0.0041803112253546715, 0.011955032125115395, -0.0074521456845104694, -0.012850343249738216, 0.005230326671153307, -0.02642483450472355, -0.006326423957943916, 0.010486985556781292, -0.02743864245712757, 0.016984572634100914, -0.003884068690240383, 0.012284190393984318, -0.004305391572415829, -0.014469802379608154, -0.009966915473341942, 0.003857736010104418, -0.007201984990388155, 0.027859965339303017, -0.0007097477209754288, 0.015575774013996124, 0.009657506830990314, 0.00010147335706278682, 0.012468518689274788, 0.02219844050705433, 0.0038774856366217136, -0.019775835797190666, -0.015839099884033203, -0.003122067078948021, -0.0014935560757294297, 0.010770061984658241, -0.009255933575332165, -0.0009907666826620698, 0.006813578307628632, -0.030229905620217323, -0.020710645243525505, 0.0039992742240428925, -0.00631325738504529, -0.006806995254009962, -0.019459843635559082, 0.010605482384562492, -0.016747577115893364, 0.0051480368711054325, -0.02462104521691799, 0.0066786231473088264, -0.03518044576048851, 0.02254076488316059, 0.0025756643153727055, 0.01146787777543068, -0.006280341651290655, -0.0048880018293857574, -0.005714189261198044, 0.0023106918670237064, 0.011941866017878056, -0.0075048110447824, 0.02706998400390148, -0.02642483450472355, -0.014654130674898624, 0.009670672938227654, 0.033784814178943634, -0.015588940121233463, 0.004364639986306429, -0.013679821975529194, 0.006119054276496172, -0.004420597106218338, 0.004483136814087629, -0.021171465516090393, -0.02904493547976017, 0.033047500997781754, -0.00867003109306097, 0.002473625121638179, 0.0007796938880346715, -0.008814861066639423, -0.018827859312295914, 0.027175314724445343, 0.011026805266737938, 0.02005232870578766, -0.041868943721055984, 0.01851186715066433, -0.01626042276620865, 0.02609567530453205, -0.0014614631654694676, -0.030098240822553635, -0.01861719787120819, -0.003633908461779356, -0.013271665200591087, 0.006030181422829628, -0.0071954019367694855, -0.003396914340555668, 0.013508659787476063, 0.02542419172823429, -0.0068464940413832664, 0.007781303953379393, 0.004976874683052301, 0.009881334379315376, 0.025411026552319527, -0.003235626732930541, -0.0064745452255010605, -0.018590865656733513, -0.014298639260232449, 0.035970427095890045, 0.023093750700354576, -0.009045272134244442, 0.00243577198125422, -0.012666014023125172, -0.014930623583495617, 0.016615914180874825, -0.0071822358295321465, 0.011217717081308365, 0.011902366764843464, -0.011691705323755741, -0.006435045972466469, 0.005210577044636011, -0.007294149603694677, 0.017024070024490356, -0.03662874177098274, 0.010065662674605846, -0.001973304431885481, -0.011408628895878792, -0.005602275487035513, 0.005217160098254681, -0.024489382281899452, 0.011211134493350983, 0.0021428209729492664, -0.009394180029630661, -0.009822085499763489, 0.00572735583409667, -0.00855153426527977, 0.0067214141599833965, -0.017261065542697906, 0.007853718474507332, -0.015101785771548748, -0.0041704364120960236, 0.01579960249364376, -0.024357719346880913, 0.0014762752689421177, 0.011481043882668018, -0.01142179500311613, -0.04947908595204353, -0.01901218667626381, 0.0043383073061704636, -0.0037688633892685175, -0.004815586842596531, -0.014417137019336224, -0.008801694959402084, 0.004769505001604557, 0.010618649423122406, 0.03225751966238022, 0.010855643078684807, 0.007063738536089659, 0.008163128048181534, 0.012461936101317406, -0.04558185115456581, -0.023989062756299973, 0.007603558246046305, 0.0007220911793410778, 0.015549441799521446, 0.009907666593790054, -0.006477836519479752, 0.013692988082766533, -0.025832349434494972, 0.01573377102613449, -0.01827487349510193, -0.0036207421217113733, 0.01797204650938511, 0.005605567246675491, -0.031046217307448387, 0.02477904222905636, 0.010124911554157734, -0.03615475445985794, 0.007524560205638409, -0.021237298846244812, -0.020302487537264824, -0.022251106798648834, -0.033021166920661926, -0.015786435455083847, -0.023291246965527534, -0.015391445718705654, 0.021790284663438797, 0.01677391119301319, -0.023765234276652336, -0.030177239328622818, -0.0015709083527326584, -0.033758483827114105, 0.004562134854495525, 0.22835691273212433, -0.015918098390102386, -0.0003503479529172182, 0.03789271041750908, 0.011369130574166775, -0.009479761123657227, 0.01894635520875454, 0.03312649950385094, 0.001059889909811318, 0.01336382981389761, -0.02015765942633152, 0.017958881333470345, 0.034127138555049896, 0.009966915473341942, 0.007919549942016602, -0.026082510128617287, -0.02706998400390148, -0.017787719145417213, 0.007485061418265104, -0.0212241318076849, 0.002509832615032792, -0.005615441594272852, 0.021447960287332535, -0.009315181523561478, 0.026740826666355133, 0.006207926664501429, 0.0019914081785827875, -0.0044502210803329945, 0.017590222880244255, 0.014864792115986347, -0.016181426122784615, -0.004769505001604557, 0.014074811711907387, 0.0026645369362086058, -0.005414655432105064, 0.0015314093325287104, 0.019301846623420715, 0.00757064251229167, 0.001468046335503459, 0.0009718401124700904, -0.008334290236234665, -0.0031895446591079235, 0.03913034871220589, -0.009157185442745686, -0.008288207463920116, 0.03541744127869606, 0.004604925401508808, -0.006454795598983765, -0.030861888080835342, 0.0008052036864683032, -0.03128321096301079, -0.004150687251240015, 0.010684480890631676, 0.039893995970487595, -0.0005447571165859699, 0.017932547256350517, 0.024436717852950096, -0.0056648156605660915, 0.0006233436870388687, 0.027991628274321556, -0.01525978185236454, 0.03354782238602638, -0.013719321228563786, -0.0017214983236044645, -0.002277775900438428, 0.004390972666442394, -0.01723473146557808, -0.002990403911098838, 0.02139529399573803, -0.030493231490254402, -0.005987390875816345, -0.006905742455273867, -0.00979575328528881, -0.01209327857941389, -0.022764593362808228, -0.002893302123993635, 0.02109246887266636, 0.003466037567704916, 0.0063066743314266205, -0.0069913240149617195, 0.0025328737683594227, -0.007063738536089659, 0.03149387240409851, -0.017524391412734985, -0.0057767294347286224, -0.017682388424873352, 0.012633098289370537, 0.011882617138326168, 0.002057239878922701, 0.018419701606035233, 0.014693629927933216, -0.011612707749009132, -0.01968367025256157, 0.010776645503938198, 0.009302015416324139, 0.013324330560863018, 0.02663549594581127, -0.02308058552443981, 0.006731288507580757, 0.009611424058675766, -0.020197156816720963, -0.035364776849746704, 0.0334688238799572, -0.0014326617820188403, 0.009749670512974262, 0.007715472020208836, 0.009868168272078037, 0.0073533980175852776, 0.006899159401655197, -0.034258801490068436, -0.02425238862633705, 0.004641132894903421, -0.006089429836720228, -0.003176378319039941, 0.00401573209092021, 0.021289963275194168, 0.006945241708308458, -0.02401539497077465, -0.002705681836232543, 0.022896256297826767, 0.006652290467172861, -0.03041423298418522, -0.003393622813746333, 0.014719962142407894, -0.011244050227105618, -0.02240910194814205, 0.0029887580312788486, 0.026951488107442856, 0.00901893898844719, -0.03444313257932663, 0.04413355514407158, -0.01868302933871746, 0.0062967995181679726, 0.01612875983119011, -0.020210323855280876, 0.00867003109306097, 0.011296715587377548, -0.009420512244105339, -0.014851626008749008, -0.008795111440122128, 0.006477836519479752, -0.03041423298418522, 0.014482968486845493, -0.008518618531525135, 0.04157928377389908, -0.0076364739798009396, -0.0013273311778903008, -0.027412308380007744, 0.010039330460131168, -0.0007858655881136656, -0.030361568555235863, 0.01690557412803173, -0.0006254009203985333, -0.008196043781936169, 0.008386955596506596, -0.001737956190481782, -0.0019552006851881742, -0.02371256984770298, -0.017893049865961075, 0.03199419379234314, -0.030809223651885986, 0.01693190634250641, 0.030071908608078957, -0.004335015546530485, -0.005743813700973988, -0.017550723627209663, -0.16463184356689453, 0.00901893898844719, 0.010124911554157734, -0.03344248980283737, -0.0005974224186502397, 0.012238108552992344, 0.03907768055796623, 0.0016581353265792131, -0.0026201007422059774, -0.01710306853055954, 0.020776476711034775, 0.008452787064015865, -0.036576077342033386, -0.01495695672929287, -0.01242902036756277, 0.0046970900148153305, -0.027491306886076927, 0.0025114782620221376, 0.034153472632169724, 0.02635900303721428, 0.010289490222930908, 0.01844603568315506, 0.010809561237692833, -0.014614631421864033, 0.0019157016649842262, 0.0022168816067278385, 0.01130329817533493, -0.004782671108841896, 0.0011849701404571533, 0.0012582078343257308, -0.010704230517148972, -0.017261065542697906, -0.0003871725348290056, -0.019222848117351532, 0.022093109786510468, 0.029229262843728065, -0.015391445718705654, 0.010052496567368507, 0.00027978461002931, 0.03257351368665695, 0.02035515382885933, 0.005217160098254681, 0.03246818110346794, 0.03162553533911705, -0.015812767669558525, 0.039420004934072495, -0.01643158495426178, 0.01623409055173397, 0.02152695693075657, -0.018498700112104416, -0.002230047946795821, -0.03836670145392418, 0.03496978431940079, 0.003363998606801033, -0.004025606904178858, 0.00010337630374124274, 0.008479119278490543, 0.011020222678780556, 0.012666014023125172, 0.006303382571786642, -0.00022074182925280184, -0.013172917999327183, 0.010348739102482796, -0.008459370583295822, 0.005747104994952679, -0.024344552308321, -0.003703031688928604, -0.025977179408073425, -0.04194794222712517, -0.009308598935604095, -0.011961615644395351, -0.031098883599042892, 0.018525032326579094, -0.020341986790299416, 0.013929982669651508, 0.00849886890500784, -0.023725735023617744, -0.00550023652613163, 0.0235414057970047, 0.0193808451294899, -0.032415516674518585, 0.0010491922730579972, -0.016642246395349503, -4.235342566971667e-05, -0.0001547044375911355, 0.04289592057466507, -0.001581605989485979, -0.0031862531322985888, -0.02002599462866783, 0.0049669998697936535, 0.010427737608551979, -0.05148036777973175, -0.028518281877040863, -0.018327537924051285, 0.036339085549116135, -0.00493079237639904, 0.016971405595541, 0.013771986588835716, -0.014417137019336224, 0.005447571165859699, -0.0063066743314266205, -0.004687215201556683, 0.003260313766077161, 0.022382769733667374, -0.0050591640174388885, -0.003930150996893644, -0.01065156515687704, 0.004953833296895027, 0.031098883599042892, -0.021000303328037262, 0.008847776800394058, 0.019328178837895393, 0.010072246193885803, 0.02666182816028595, -0.007201984990388155, 0.0013429661048576236, -0.014140643179416656, -0.0047859628684818745, 0.007603558246046305, 0.004321849439293146, 0.06999223679304123, 0.014061645604670048, -0.02722798101603985, 0.03723439574241638, -0.010704230517148972, -0.006820161361247301, -0.11070254445075989, -0.013969480991363525, 0.01111896988004446, 0.009598257951438427, 0.004851794335991144, 0.008828027173876762, -0.0008632178069092333, 0.020710645243525505, -0.008123628795146942, 0.01013149507343769, -0.038445696234703064, -0.052902333438396454, -0.01998649537563324, -0.010625232011079788, 0.01931501366198063, -0.011487627401947975, -0.0020835725590586662, -0.03494345396757126, 0.011375713162124157, 0.020341986790299416, 0.0021921948064118624, 0.003627325175330043, 0.023686235770583153, -0.038156040012836456, -0.014614631421864033, -0.034021809697151184, -0.025476858019828796, 0.01699773781001568, 0.00876877922564745, -0.006938658654689789, 0.0020358446054160595, -0.009453427977859974, 0.028044292703270912, -0.008544951677322388, -0.016629081219434738, -0.005780021194368601, -0.03196785971522331, 0.00768913934007287, 0.006800411734730005, -0.014364471659064293, 0.0061025964096188545, -0.0013437890447676182, 0.024542048573493958, -0.023896897211670876, -0.007991964928805828, -0.007438979111611843, -0.01507545355707407, 0.012001113966107368, 0.009539010003209114, 0.0021526957862079144, -0.017326897010207176, -0.00636263145133853, -0.037919044494628906, 0.013679821975529194, 0.02770196832716465, 0.004792545922100544, 0.010750312358140945, -0.0032537304796278477, 0.009479761123657227, -0.00215434143319726, -0.004861669149249792, 0.015983929857611656, -0.008406705223023891, -0.005431113298982382, 0.0350751169025898, 0.006639124359935522, 0.014022146351635456, 0.0035285777412354946, 0.019407177343964577, -0.016247257590293884, -0.01019732654094696, -0.016615914180874825, -0.01244218647480011, 0.005631899926811457, -0.02672765962779522, -0.005849144421517849, -0.0074521456845104694, -0.009604841470718384, 0.003079276531934738, 0.0024374176282435656, -0.011790452525019646, -0.009348098188638687, 0.02113196812570095, -0.008044630289077759, -0.0015923036262392998, 0.02280409261584282, -0.010091995820403099, -0.009038688614964485, -0.0019140559015795588, -0.013640322722494602, -0.018827859312295914, -2.1215285528342065e-07, 0.001470515038818121, -0.020012829452753067, 0.004223101772367954, 0.026806658133864403, -0.002651370596140623, -0.001352017978206277, 0.005628608167171478, -0.00018011133943218738, -0.007833968847990036, -0.013561325147747993, -0.07689139246940613, 0.003604284254834056, 0.0010730562498793006, 0.01892002299427986, 0.0011619291035458446, 0.006122345570474863, 0.015496776439249516, -0.030598562210798264, -0.024133890867233276, 0.003673407481983304, 0.010322406888008118, 0.037708383053541183, -0.0035779515746980906, -0.01140204630792141, -0.034021809697151184, 0.01531244721263647, 0.030835555866360664, 0.005190827418118715, 0.010842476971447468, -0.0013964544050395489, 0.0002746415266301483, -0.012672597542405128, 0.004065105691552162, -0.0029229263309389353, -0.02267242781817913, -0.00641529681161046, 0.03533844277262688, 0.0029344467911869287, 0.010506735183298588, -0.008577867411077023, 0.016247257590293884, -0.024700043722987175, -0.002455521374940872, 0.0200918260961771, 0.019907498732209206, -0.02978224866092205, -0.024844873696565628, 0.01760338991880417, -0.00124751019757241, 0.048978764563798904, -0.013890483416616917, -0.03283683955669403, -0.012791094370186329, -0.000876384146977216, -0.004104604944586754, 0.018301205709576607, 0.012402687221765518, 0.012988589704036713, 0.03673407435417175, 0.01065156515687704, -0.002284359186887741, 0.0025608520954847336, 0.005612150300294161, -0.000477691093692556, -0.013054421171545982, -0.014482968486845493, 0.016378920525312424, 0.018116876482963562, 0.004845211282372475, -0.025345195084810257, 0.034364134073257446, 0.023133249953389168, 0.022856757044792175, 0.0007467780378647149, 0.035838764160871506, -0.04097363352775574, -0.017287397757172585, -0.02371256984770298, -0.0037293643690645695, -0.03431146964430809, -0.00676749600097537, 0.001044254982843995, -0.004660882521420717, 0.008854360319674015, -0.01403531339019537, 0.012382937595248222, 0.019644170999526978, -0.0009315182105638087, -0.03531210869550705, -0.0023798150941729546, 0.0038676108233630657, -0.013409911654889584, -0.0222642719745636, 0.013153168372809887, 0.034627459943294525, -0.0032932294998317957, 0.018116876482963562, 0.02404172718524933, 0.011224300600588322, 0.007675973232835531, -0.0001752768293954432, 0.004390972666442394, 0.0025016036815941334, -0.029729584231972694, 0.000586724781896919, 0.00044477524352259934, -0.0013429661048576236, -0.014904291369020939, 0.00893994141370058, 0.014654130674898624, 0.006076263729482889, 0.008314540609717369, 0.00987475086003542, -0.01924918219447136, -0.007070321589708328, 0.0035812431015074253, -0.036102090030908585, -0.029755916446447372, -0.00019050040282309055, 0.00041432809666730464, -0.013186084106564522, 0.013265082612633705, 0.01262651477009058, 0.016207758337259293, -0.036839403212070465, 0.010012997314333916, -0.02022349089384079, -0.006056514102965593, -0.04352790117263794, 0.04118429496884346, 0.001836703740991652, 0.014061645604670048, 0.026911988854408264, -0.01643158495426178, 0.019367678090929985, 0.002593768062070012, 0.015180784277617931, -0.011191384866833687, -0.007768137380480766, -0.009512676857411861, -0.008386955596506596, 0.01507545355707407, -0.054719287902116776, -0.0024324804544448853, 0.015707436949014664, -0.002929509384557605, -0.01647108420729637, 0.02052631601691246, -0.017089903354644775, 0.04052598029375076, 0.013067587278783321, -0.009084771387279034, 0.005595692433416843, 0.009545592591166496, 0.02300158701837063, 0.005743813700973988, 0.004677340388298035, 0.00010106190893566236, 0.006892576348036528, 0.033284492790699005, -0.010006414726376534, 0.00579318730160594, -0.012034029699862003, -0.04808345437049866, 0.02431822009384632, -0.007070321589708328, 0.00045958737609907985, -0.012527767568826675, 0.01666858047246933, 0.007695722859352827, -0.02991391345858574, 0.004716839641332626, 0.006092721596360207, 0.005358698312193155, -0.003406789153814316, 0.012797677889466286, 0.009907666593790054, -0.023330746218562126, -0.019143851473927498, -0.000419676915043965, 0.01061206590384245, -0.015167618170380592, -0.02629317156970501, -0.00784713588654995, 0.0020193865057080984, 0.0012121256440877914, -0.016207758337259293, 0.0038774856366217136, 0.03099355287849903, -0.015681104734539986, 0.019973330199718475, -0.015746936202049255, -0.0075048110447824, 0.02136896178126335, -0.010421154089272022, 0.025634853169322014, -0.0025016036815941334, 0.008465953171253204], properties={'_node_content': '{\"id_\": \"f37267c8-7c18-4ebf-89c2-883c9fb4a021\", \"embedding\": null, \"metadata\": {}, \"excluded_embed_metadata_keys\": [], \"excluded_llm_metadata_keys\": [], \"relationships\": {\"1\": {\"node_id\": \"3a2ecb93-0a0b-4385-ac48-8304fd0a7682\", \"node_type\": \"4\", \"metadata\": {}, \"hash\": \"2c0bf48c4c796e004ef5432d3a0bc037187f9301aacfc044a58128e222de26e3\", \"class_name\": \"RelatedNodeInfo\"}, \"2\": {\"node_id\": \"8e0b0e04-1dac-4251-8614-dfd7623e21cc\", \"node_type\": \"1\", \"metadata\": {}, \"hash\": \"bbc1dc68f112838530cdda5199a7f6779396cdfccb65a87d5dc914dc78bbfa8c\", \"class_name\": \"RelatedNodeInfo\"}}, \"text\": \"\", \"mimetype\": \"text/plain\", \"start_char_idx\": 3982, \"end_char_idx\": 5232, \"text_template\": \"{metadata_str}\\\\n\\\\n{content}\", \"metadata_template\": \"{key}: {value}\", \"metadata_seperator\": \"\\\\n\", \"class_name\": \"TextNode\"}', '_node_type': 'TextNode', 'document_id': '3a2ecb93-0a0b-4385-ac48-8304fd0a7682', 'doc_id': '3a2ecb93-0a0b-4385-ac48-8304fd0a7682', 'ref_doc_id': '3a2ecb93-0a0b-4385-ac48-8304fd0a7682'}, text='Cộng thêm với việc ông nghĩ rằng đó là huyết mạch của anh trai Trần Liễu, Thái Tông đã đã sai người vây phủ Nhân Đạo Vương, xông thẳng tới hoa viên vắng lặng, vào phòng công chúa Thiên Thành để áp giải, thực chất là hộ tống, Trần Quốc Tuấn ra ngoài một cách an toàn. Đến lúc đó, cả phủ Nhân Đạo Vương mới ngỡ ngàng nhận ra Trần Quốc Tuấn đã vào phủ \"tư thông\" với công chúa Thiên Thành.\\n\\nViệc công chúa \"tư thông\" với nam tử khác ngay trong phủ sắp cưới là điều không thể chấp nhận được. Hôm sau, Thụy Bà công chúa đã nhanh tay hỏi cưới công chúa Thiên Thành cho cháu trai mình, với sinh lễ là 10 mâm vàng sống và nói \"vì vội quá nên không sắm đủ lễ vật, mong hoàng thượng nhận cho\". Trước chuyện đã rồi, Trần Thái Tông đành xuống chiếu gả Thiên Thành công chúa cho Trần Quốc Tuấn và ngậm ngùi cắt 2.000 khoảnh ruộng tốt ở huyện Ứng Thiên để \"an ủi\" Nhân Đạo Vương.\\n\\nCuối cùng Trần Quốc Tuấn chàng đã lấy được thanh mai trúc mã mà ông yêu bấy lâu. Hai vợ chồng chàng đã có một cuộc sống êm ấm, hạnh phúc, sinh được bốn trai, một gái. Bốn người con trai ai cũng không phụ danh tiếng người cha, đều là những danh tướng lẫy lừng nhà Trần. Người con gái út sau này trở thành Bảo Thánh Hoàng Hậu Trần Trinh, vợ vua Trần Nhân Tông, mẹ đẻ vua Trần Anh Tông.', id_='f37267c8-7c18-4ebf-89c2-883c9fb4a021'),\n",
              " 'Trần Liễu': EntityNode(label='Person', embedding=None, properties={'entity_description': 'Anh trai của Trần Quốc Tuấn, được nhắc đến trong câu chuyện nhưng không có thông tin chi tiết về vai trò hoặc hoạt động của ông.', 'triplet_source_id': 'f37267c8-7c18-4ebf-89c2-883c9fb4a021'}, name='Trần Liễu'),\n",
              " 'Thái Tông': EntityNode(label='entity', embedding=None, properties={'triplet_source_id': 'f37267c8-7c18-4ebf-89c2-883c9fb4a021'}, name='Thái Tông'),\n",
              " 'Nhân Đạo Vương': EntityNode(label='Person', embedding=None, properties={'entity_description': \"Người có phủ bị Thái Tông vây và sau đó được 'an ủi' bằng 2.000 khoảnh ruộng tốt ở huyện Ứng Thiên.\", 'triplet_source_id': 'f37267c8-7c18-4ebf-89c2-883c9fb4a021'}, name='Nhân Đạo Vương'),\n",
              " 'Trần Quốc Tuấn': EntityNode(label='entity', embedding=None, properties={'relationship_description': 'Thái Tông đã hộ tống Trần Quốc Tuấn ra khỏi phủ Nhân Đạo Vương.', 'triplet_source_id': 'f37267c8-7c18-4ebf-89c2-883c9fb4a021'}, name='Trần Quốc Tuấn'),\n",
              " 'Công chúa Thiên Thành': EntityNode(label='Person', embedding=None, properties={'entity_description': \"Người đã 'tư thông' với Trần Quốc Tuấn và sau đó kết hôn với ông.\", 'triplet_source_id': 'f37267c8-7c18-4ebf-89c2-883c9fb4a021'}, name='Công chúa Thiên Thành'),\n",
              " 'Thụy Bà công chúa': EntityNode(label='Person', embedding=None, properties={'entity_description': 'Người đã nhanh tay hỏi cưới công chúa Thiên Thành cho cháu trai mình.', 'triplet_source_id': 'f37267c8-7c18-4ebf-89c2-883c9fb4a021'}, name='Thụy Bà công chúa'),\n",
              " 'Trần Nhân Tông': EntityNode(label='Person', embedding=None, properties={'entity_description': 'Vua Trần, chồng của Bảo Thánh Hoàng Hậu Trần Trinh.', 'triplet_source_id': 'f37267c8-7c18-4ebf-89c2-883c9fb4a021'}, name='Trần Nhân Tông'),\n",
              " 'Trần Anh Tông': EntityNode(label='Person', embedding=None, properties={'entity_description': 'Vua Trần, con của Bảo Thánh Hoàng Hậu Trần Trinh và Trần Nhân Tông.', 'triplet_source_id': 'f37267c8-7c18-4ebf-89c2-883c9fb4a021'}, name='Trần Anh Tông'),\n",
              " 'Bảo Thánh Hoàng Hậu Trần Trinh': EntityNode(label='Person', embedding=None, properties={'entity_description': 'Người con gái út của Trần Quốc Tuấn, vợ của Trần Nhân Tông và mẹ của Trần Anh Tông.', 'triplet_source_id': 'f37267c8-7c18-4ebf-89c2-883c9fb4a021'}, name='Bảo Thánh Hoàng Hậu Trần Trinh'),\n",
              " 'Hộ tống': EntityNode(label='entity', embedding=None, properties={'triplet_source_id': 'f37267c8-7c18-4ebf-89c2-883c9fb4a021'}, name='Hộ tống'),\n",
              " 'Kết hôn': EntityNode(label='entity', embedding=None, properties={'relationship_description': 'Thái Tông đã hộ tống Trần Quốc Tuấn ra khỏi phủ Nhân Đạo Vương.', 'triplet_source_id': 'f37267c8-7c18-4ebf-89c2-883c9fb4a021'}, name='Kết hôn')}"
            ]
          },
          "metadata": {},
          "execution_count": 102
        }
      ]
    },
    {
      "cell_type": "markdown",
      "source": [
        "## Build communities"
      ],
      "metadata": {
        "id": "BJ_TKMMBw4nN"
      }
    },
    {
      "cell_type": "code",
      "source": [
        "index.property_graph_store.build_communities()"
      ],
      "metadata": {
        "colab": {
          "base_uri": "https://localhost:8080/"
        },
        "id": "WGejcVIww5kc",
        "outputId": "3c61230a-3404-441a-f3a9-d9985e1bf71f"
      },
      "execution_count": null,
      "outputs": [
        {
          "output_type": "stream",
          "name": "stderr",
          "text": [
            "/usr/local/lib/python3.10/dist-packages/graspologic/partition/leiden.py:607: UserWarning: Leiden partitions do not contain all nodes from the input graph because input graph contained isolate nodes.\n",
            "  warnings.warn(\n"
          ]
        }
      ]
    },
    {
      "cell_type": "markdown",
      "source": [
        "Liệt kê các community"
      ],
      "metadata": {
        "id": "ixee9GsO965_"
      }
    },
    {
      "cell_type": "code",
      "source": [
        "index.property_graph_store.get_community_summaries()"
      ],
      "metadata": {
        "colab": {
          "base_uri": "https://localhost:8080/"
        },
        "id": "PQIwK1s_94le",
        "outputId": "b914aad0-36f4-4b0f-a93c-153ba4b234a1"
      },
      "execution_count": null,
      "outputs": [
        {
          "output_type": "execute_result",
          "data": {
            "text/plain": [
              "{0: \"Thái Tông and Hộ tống were involved in escorting Trần Quốc Tuấn out of the Nhân Đạo Vương palace. The relationship highlights Thái Tông's role in providing escort services for Trần Quốc Tuấn, emphasizing a sense of protection or assistance extended by the monarch towards Trần Quốc Tuấn. This act of escorting signifies a form of support or involvement by Thái Tông in ensuring Trần Quốc Tuấn's safe departure from the palace.\",\n",
              " 1: 'Trần Quốc Tuấn and Công chúa Thiên Thành are married to each other. The relationship between them signifies that Trần Quốc Tuấn and Công chúa Thiên Thành have entered into a marital union.'}"
            ]
          },
          "metadata": {},
          "execution_count": 96
        }
      ]
    },
    {
      "cell_type": "markdown",
      "source": [
        "### Tạo QueryEngine\n"
      ],
      "metadata": {
        "id": "MLi92bn_w8pr"
      }
    },
    {
      "cell_type": "markdown",
      "source": [
        "![](https://storage.googleapis.com/mle-courses-prod/users/61b6fa1ba83a7e37c8309756/private-files/67f5bf50-4e30-11ef-bf69-71eafa46c86b-Screen_Shot_2024_07_30_at_11.58.43.png)"
      ],
      "metadata": {
        "id": "unbnA4mdAXAC"
      }
    },
    {
      "cell_type": "code",
      "source": [
        "query_engine = GraphRAGQueryEngine(\n",
        "    graph_store=index.property_graph_store, llm=llm\n",
        ")"
      ],
      "metadata": {
        "id": "ayp_6HIzw7eO"
      },
      "execution_count": null,
      "outputs": []
    },
    {
      "cell_type": "code",
      "source": [
        "response = query_engine.query(\n",
        "    \"Ý tưởng chính của bài này là gì?\"\n",
        ")\n",
        "display(Markdown(f\"{response.response}\"))"
      ],
      "metadata": {
        "colab": {
          "base_uri": "https://localhost:8080/",
          "height": 64
        },
        "id": "0HXfvQuc0_2_",
        "outputId": "a08f13f2-0dae-4062-d719-d4999c3fed6c"
      },
      "execution_count": null,
      "outputs": [
        {
          "output_type": "display_data",
          "data": {
            "text/plain": [
              "<IPython.core.display.Markdown object>"
            ],
            "text/markdown": "Bài viết chủ yếu nói về vai trò của Thái Tông trong việc hỗ trợ và bảo vệ Trần Quốc Tuấn, đặc biệt là trong việc đảm bảo an toàn khi ông rời cung điện. Ngoài ra, bài viết cũng nhắc đến việc Trần Quốc Tuấn đã kết hôn với Công chúa Thiên Thành."
          },
          "metadata": {}
        }
      ]
    },
    {
      "cell_type": "code",
      "source": [],
      "metadata": {
        "id": "inUNpCJ_-yJL"
      },
      "execution_count": null,
      "outputs": []
    },
    {
      "cell_type": "code",
      "source": [],
      "metadata": {
        "id": "pjq0pAvkAGh9"
      },
      "execution_count": null,
      "outputs": []
    },
    {
      "cell_type": "markdown",
      "source": [
        "Note: Community levels"
      ],
      "metadata": {
        "id": "QmiCZa7W3E4G"
      }
    },
    {
      "cell_type": "code",
      "source": [
        "import networkx as nx\n",
        "from graspologic.partition import hierarchical_leiden\n",
        "\n",
        "# Create a sample graph\n",
        "G = nx.karate_club_graph()\n",
        "\n",
        "# Apply the hierarchical Leiden algorithm\n",
        "hierarchical_partition = hierarchical_leiden(G)\n",
        "\n",
        "# Extracting different levels of community structures\n",
        "C0 = hierarchical_partition[0]  # Root-level communities\n",
        "C1 = hierarchical_partition[1] if len(hierarchical_partition) > 1 else C0  # High-level communities\n",
        "C2 = hierarchical_partition[2] if len(hierarchical_partition) > 2 else C1  # Intermediate-level communities\n",
        "C3 = hierarchical_partition[3] if len(hierarchical_partition) > 3 else C2  # Low-level communities\n",
        "\n",
        "# Example function to simulate using community summaries for queries\n",
        "def answer_query(query, community_level):\n",
        "    # Placeholder function for using community summaries to answer queries\n",
        "    # In a real implementation, this function would use NLP techniques to generate summaries\n",
        "    return f\"Answering query using {community_level} community summaries.\"\n",
        "\n",
        "# Example queries\n",
        "query = \"What is the main topic discussed in this community?\"\n",
        "print(answer_query(query, \"C0\"))  # Using root-level summaries\n",
        "print(answer_query(query, \"C1\"))  # Using high-level summaries\n",
        "print(answer_query(query, \"C2\"))  # Using intermediate-level summaries\n",
        "print(answer_query(query, \"C3\"))  # Using low-level summaries\n",
        "\n",
        "# Example text shuffling and chunking (TS)\n",
        "def text_shuffling(texts):\n",
        "    # Placeholder function for shuffling and chunking texts\n",
        "    return texts  # In a real implementation, this would shuffle and chunk the texts\n",
        "\n",
        "# Example of na¨ıve RAG implementation (SS)\n",
        "def naive_rag_retrieval(context_window, token_limit):\n",
        "    # Placeholder function for naïve RAG retrieval\n",
        "    return context_window[:token_limit]  # In a real implementation, this would retrieve text chunks until token limit is reached\n"
      ],
      "metadata": {
        "id": "Zl0EYJ_U3IFf"
      },
      "execution_count": null,
      "outputs": []
    }
  ]
}